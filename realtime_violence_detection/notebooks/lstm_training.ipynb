{
 "cells": [
  {
   "cell_type": "code",
   "execution_count": 1,
   "metadata": {
    "_cell_guid": "b1076dfc-b9ad-4769-8c92-a6c4dae69d19",
    "_uuid": "8f2839f25d086af736a60e9eeb907d3b93b6e0e5",
    "execution": {
     "iopub.execute_input": "2025-04-20T08:47:46.982271Z",
     "iopub.status.busy": "2025-04-20T08:47:46.981701Z",
     "iopub.status.idle": "2025-04-20T08:48:08.087553Z",
     "shell.execute_reply": "2025-04-20T08:48:08.086795Z",
     "shell.execute_reply.started": "2025-04-20T08:47:46.982248Z"
    },
    "trusted": true
   },
   "outputs": [
    {
     "name": "stderr",
     "output_type": "stream",
     "text": [
      "2025-04-20 08:47:51.098033: E external/local_xla/xla/stream_executor/cuda/cuda_fft.cc:477] Unable to register cuFFT factory: Attempting to register factory for plugin cuFFT when one has already been registered\n",
      "WARNING: All log messages before absl::InitializeLog() is called are written to STDERR\n",
      "E0000 00:00:1745138871.564371      31 cuda_dnn.cc:8310] Unable to register cuDNN factory: Attempting to register factory for plugin cuDNN when one has already been registered\n",
      "E0000 00:00:1745138871.694634      31 cuda_blas.cc:1418] Unable to register cuBLAS factory: Attempting to register factory for plugin cuBLAS when one has already been registered\n"
     ]
    }
   ],
   "source": [
    "from typing import Sequence\n",
    "import numpy as np\n",
    "import pandas as pd\n",
    "from keras.layers import LSTM, Dense, Dropout\n",
    "from keras.models import Sequential\n",
    "from sklearn.model_selection import train_test_split\n",
    "import matplotlib.pyplot as plt"
   ]
  },
  {
   "cell_type": "code",
   "execution_count": 2,
   "metadata": {
    "execution": {
     "iopub.execute_input": "2025-04-20T08:48:08.090029Z",
     "iopub.status.busy": "2025-04-20T08:48:08.089068Z",
     "iopub.status.idle": "2025-04-20T08:48:08.093963Z",
     "shell.execute_reply": "2025-04-20T08:48:08.093090Z",
     "shell.execute_reply.started": "2025-04-20T08:48:08.089997Z"
    },
    "trusted": true
   },
   "outputs": [],
   "source": [
    "X = []\n",
    "y = []\n",
    "seq_length = 20"
   ]
  },
  {
   "cell_type": "markdown",
   "metadata": {},
   "source": [
    "### Combine all NonViolence CSV's"
   ]
  },
  {
   "cell_type": "code",
   "execution_count": 3,
   "metadata": {
    "execution": {
     "iopub.execute_input": "2025-04-20T08:48:08.095289Z",
     "iopub.status.busy": "2025-04-20T08:48:08.095034Z",
     "iopub.status.idle": "2025-04-20T08:48:08.885082Z",
     "shell.execute_reply": "2025-04-20T08:48:08.884494Z",
     "shell.execute_reply.started": "2025-04-20T08:48:08.095272Z"
    },
    "trusted": true
   },
   "outputs": [],
   "source": [
    "nonviolence_dfs = [\n",
    "    pd.read_csv(\"/kaggle/input/sarthak-avipriya-6000-combined-pose/nonviolence_landmarks_1500_sarthak.csv\"),\n",
    "    pd.read_csv(\"/kaggle/input/sarthak-avipriya-6000-combined-pose/nonviolence_landmarks_1500_avipriya.csv\"),\n",
    "    pd.read_csv(\"/kaggle/input/new-dataset/nonviolence_landmarks_1500.csv\"),\n",
    "    pd.read_csv(\"/kaggle/input/new-dataset/nonviolence_new_landmarks_1500.csv\"),\n",
    "    pd.read_csv(\"/kaggle/input/additional/nonviolence_new_Latest_landmarks_1500.csv\"),\n",
    "    pd.read_csv(\"/kaggle/input/single-new2/nonviolence_new_Latest_single_landmarks_1500.csv\")\n",
    "]\n",
    "nonviolence_df = pd.concat(nonviolence_dfs, ignore_index=True)"
   ]
  },
  {
   "cell_type": "markdown",
   "metadata": {},
   "source": [
    "### Combine all Violence CSV's"
   ]
  },
  {
   "cell_type": "code",
   "execution_count": 4,
   "metadata": {
    "execution": {
     "iopub.execute_input": "2025-04-20T08:48:08.886085Z",
     "iopub.status.busy": "2025-04-20T08:48:08.885798Z",
     "iopub.status.idle": "2025-04-20T08:48:09.550389Z",
     "shell.execute_reply": "2025-04-20T08:48:09.549782Z",
     "shell.execute_reply.started": "2025-04-20T08:48:08.886057Z"
    },
    "trusted": true
   },
   "outputs": [],
   "source": [
    "violence_dfs = [\n",
    "    pd.read_csv(\"/kaggle/input/sarthak-avipriya-6000-combined-pose/violence_landmarks_1500_sarthak.csv\"),\n",
    "    pd.read_csv(\"/kaggle/input/sarthak-avipriya-6000-combined-pose/violence_landmarks_1500_avipriya.csv\"),\n",
    "    pd.read_csv(\"/kaggle/input/new-dataset/violence_landmarks_1500.csv\"),\n",
    "    pd.read_csv(\"/kaggle/input/new-dataset/violence_new_landmarks_1500.csv\"),\n",
    "    pd.read_csv(\"/kaggle/input/violence-dataset-extra/violence_landmarks_1500_avipriya.csv\")\n",
    "]\n",
    "\n",
    "violence_df = pd.concat(violence_dfs, ignore_index=True)"
   ]
  },
  {
   "cell_type": "code",
   "execution_count": null,
   "metadata": {},
   "outputs": [],
   "source": [
    "nonviolence_df.to_csv(\"nonviolence_combined_front.csv\", index=False)\n",
    "violence_df.to_csv(\"violence_combined_front.csv\", index=False)"
   ]
  },
  {
   "cell_type": "code",
   "execution_count": 5,
   "metadata": {
    "execution": {
     "iopub.execute_input": "2025-04-20T08:48:09.552881Z",
     "iopub.status.busy": "2025-04-20T08:48:09.552597Z",
     "iopub.status.idle": "2025-04-20T08:48:09.566595Z",
     "shell.execute_reply": "2025-04-20T08:48:09.565969Z",
     "shell.execute_reply.started": "2025-04-20T08:48:09.552864Z"
    },
    "trusted": true
   },
   "outputs": [],
   "source": [
    "datasets = nonviolence_df.values\n",
    "n_samples = len(datasets)\n",
    "for i in range(seq_length, n_samples):\n",
    "    X.append(datasets[i-seq_length:i, :])\n",
    "    y.append(0)\n",
    "\n",
    "datasets = violence_df.values\n",
    "n_samples = len(datasets)\n",
    "for i in range(seq_length, n_samples):\n",
    "    X.append(datasets[i-seq_length:i, :])\n",
    "    y.append(1)"
   ]
  },
  {
   "cell_type": "code",
   "execution_count": 6,
   "metadata": {
    "execution": {
     "iopub.execute_input": "2025-04-20T08:48:09.567822Z",
     "iopub.status.busy": "2025-04-20T08:48:09.567602Z",
     "iopub.status.idle": "2025-04-20T08:48:09.695551Z",
     "shell.execute_reply": "2025-04-20T08:48:09.694800Z",
     "shell.execute_reply.started": "2025-04-20T08:48:09.567805Z"
    },
    "trusted": true
   },
   "outputs": [
    {
     "name": "stdout",
     "output_type": "stream",
     "text": [
      "(17960, 20, 132) (17960,)\n"
     ]
    }
   ],
   "source": [
    "X, y = np.array(X), np.array(y)\n",
    "print(X.shape, y.shape)"
   ]
  },
  {
   "cell_type": "code",
   "execution_count": 7,
   "metadata": {
    "execution": {
     "iopub.execute_input": "2025-04-20T08:48:09.696675Z",
     "iopub.status.busy": "2025-04-20T08:48:09.696404Z",
     "iopub.status.idle": "2025-04-20T08:48:09.816884Z",
     "shell.execute_reply": "2025-04-20T08:48:09.816416Z",
     "shell.execute_reply.started": "2025-04-20T08:48:09.696651Z"
    },
    "trusted": true
   },
   "outputs": [],
   "source": [
    "X_train, X_test, y_train, y_test = train_test_split(X, y, test_size=0.2)"
   ]
  },
  {
   "cell_type": "code",
   "execution_count": 8,
   "metadata": {
    "execution": {
     "iopub.execute_input": "2025-04-20T08:48:09.817835Z",
     "iopub.status.busy": "2025-04-20T08:48:09.817598Z",
     "iopub.status.idle": "2025-04-20T08:48:09.823378Z",
     "shell.execute_reply": "2025-04-20T08:48:09.822789Z",
     "shell.execute_reply.started": "2025-04-20T08:48:09.817819Z"
    },
    "trusted": true
   },
   "outputs": [
    {
     "data": {
      "text/plain": [
       "(20, 132)"
      ]
     },
     "execution_count": 8,
     "metadata": {},
     "output_type": "execute_result"
    }
   ],
   "source": [
    "X.shape[1], X.shape[2]"
   ]
  },
  {
   "cell_type": "code",
   "execution_count": 9,
   "metadata": {
    "execution": {
     "iopub.execute_input": "2025-04-20T08:48:09.824425Z",
     "iopub.status.busy": "2025-04-20T08:48:09.824230Z",
     "iopub.status.idle": "2025-04-20T08:48:14.478389Z",
     "shell.execute_reply": "2025-04-20T08:48:14.477585Z",
     "shell.execute_reply.started": "2025-04-20T08:48:09.824410Z"
    },
    "trusted": true
   },
   "outputs": [
    {
     "name": "stderr",
     "output_type": "stream",
     "text": [
      "I0000 00:00:1745138892.485092      31 gpu_device.cc:2022] Created device /job:localhost/replica:0/task:0/device:GPU:0 with 13942 MB memory:  -> device: 0, name: Tesla T4, pci bus id: 0000:00:04.0, compute capability: 7.5\n",
      "I0000 00:00:1745138892.485938      31 gpu_device.cc:2022] Created device /job:localhost/replica:0/task:0/device:GPU:1 with 13942 MB memory:  -> device: 1, name: Tesla T4, pci bus id: 0000:00:05.0, compute capability: 7.5\n",
      "/usr/local/lib/python3.11/dist-packages/keras/src/layers/rnn/rnn.py:204: UserWarning: Do not pass an `input_shape`/`input_dim` argument to a layer. When using Sequential models, prefer using an `Input(shape)` object as the first layer in the model instead.\n",
      "  super().__init__(**kwargs)\n"
     ]
    }
   ],
   "source": [
    "model = Sequential()\n",
    "model.add(LSTM(units=50, return_sequences=True, input_shape=(X.shape[1], X.shape[2])))\n",
    "model.add(Dropout(0.2))\n",
    "model.add(LSTM(units=50, return_sequences=True))\n",
    "model.add(Dropout(0.2))\n",
    "model.add(LSTM(units=50, return_sequences=True))\n",
    "model.add(Dropout(0.2))\n",
    "model.add(LSTM(units=50))\n",
    "model.add(Dropout(0.2))\n",
    "model.add(Dense(units=2, activation=\"softmax\"))  \n",
    "\n",
    "model.compile(optimizer=\"adam\", metrics=[\"accuracy\"], loss=\"sparse_categorical_crossentropy\")"
   ]
  },
  {
   "cell_type": "code",
   "execution_count": 10,
   "metadata": {
    "execution": {
     "iopub.execute_input": "2025-04-20T08:48:14.479440Z",
     "iopub.status.busy": "2025-04-20T08:48:14.479199Z",
     "iopub.status.idle": "2025-04-20T08:48:14.497812Z",
     "shell.execute_reply": "2025-04-20T08:48:14.497115Z",
     "shell.execute_reply.started": "2025-04-20T08:48:14.479418Z"
    },
    "trusted": true
   },
   "outputs": [
    {
     "data": {
      "text/html": [
       "<pre style=\"white-space:pre;overflow-x:auto;line-height:normal;font-family:Menlo,'DejaVu Sans Mono',consolas,'Courier New',monospace\"><span style=\"font-weight: bold\">Model: \"sequential\"</span>\n",
       "</pre>\n"
      ],
      "text/plain": [
       "\u001b[1mModel: \"sequential\"\u001b[0m\n"
      ]
     },
     "metadata": {},
     "output_type": "display_data"
    },
    {
     "data": {
      "text/html": [
       "<pre style=\"white-space:pre;overflow-x:auto;line-height:normal;font-family:Menlo,'DejaVu Sans Mono',consolas,'Courier New',monospace\">┏━━━━━━━━━━━━━━━━━━━━━━━━━━━━━━━━━━━━━━┳━━━━━━━━━━━━━━━━━━━━━━━━━━━━━┳━━━━━━━━━━━━━━━━━┓\n",
       "┃<span style=\"font-weight: bold\"> Layer (type)                         </span>┃<span style=\"font-weight: bold\"> Output Shape                </span>┃<span style=\"font-weight: bold\">         Param # </span>┃\n",
       "┡━━━━━━━━━━━━━━━━━━━━━━━━━━━━━━━━━━━━━━╇━━━━━━━━━━━━━━━━━━━━━━━━━━━━━╇━━━━━━━━━━━━━━━━━┩\n",
       "│ lstm (<span style=\"color: #0087ff; text-decoration-color: #0087ff\">LSTM</span>)                          │ (<span style=\"color: #00d7ff; text-decoration-color: #00d7ff\">None</span>, <span style=\"color: #00af00; text-decoration-color: #00af00\">20</span>, <span style=\"color: #00af00; text-decoration-color: #00af00\">50</span>)              │          <span style=\"color: #00af00; text-decoration-color: #00af00\">36,600</span> │\n",
       "├──────────────────────────────────────┼─────────────────────────────┼─────────────────┤\n",
       "│ dropout (<span style=\"color: #0087ff; text-decoration-color: #0087ff\">Dropout</span>)                    │ (<span style=\"color: #00d7ff; text-decoration-color: #00d7ff\">None</span>, <span style=\"color: #00af00; text-decoration-color: #00af00\">20</span>, <span style=\"color: #00af00; text-decoration-color: #00af00\">50</span>)              │               <span style=\"color: #00af00; text-decoration-color: #00af00\">0</span> │\n",
       "├──────────────────────────────────────┼─────────────────────────────┼─────────────────┤\n",
       "│ lstm_1 (<span style=\"color: #0087ff; text-decoration-color: #0087ff\">LSTM</span>)                        │ (<span style=\"color: #00d7ff; text-decoration-color: #00d7ff\">None</span>, <span style=\"color: #00af00; text-decoration-color: #00af00\">20</span>, <span style=\"color: #00af00; text-decoration-color: #00af00\">50</span>)              │          <span style=\"color: #00af00; text-decoration-color: #00af00\">20,200</span> │\n",
       "├──────────────────────────────────────┼─────────────────────────────┼─────────────────┤\n",
       "│ dropout_1 (<span style=\"color: #0087ff; text-decoration-color: #0087ff\">Dropout</span>)                  │ (<span style=\"color: #00d7ff; text-decoration-color: #00d7ff\">None</span>, <span style=\"color: #00af00; text-decoration-color: #00af00\">20</span>, <span style=\"color: #00af00; text-decoration-color: #00af00\">50</span>)              │               <span style=\"color: #00af00; text-decoration-color: #00af00\">0</span> │\n",
       "├──────────────────────────────────────┼─────────────────────────────┼─────────────────┤\n",
       "│ lstm_2 (<span style=\"color: #0087ff; text-decoration-color: #0087ff\">LSTM</span>)                        │ (<span style=\"color: #00d7ff; text-decoration-color: #00d7ff\">None</span>, <span style=\"color: #00af00; text-decoration-color: #00af00\">20</span>, <span style=\"color: #00af00; text-decoration-color: #00af00\">50</span>)              │          <span style=\"color: #00af00; text-decoration-color: #00af00\">20,200</span> │\n",
       "├──────────────────────────────────────┼─────────────────────────────┼─────────────────┤\n",
       "│ dropout_2 (<span style=\"color: #0087ff; text-decoration-color: #0087ff\">Dropout</span>)                  │ (<span style=\"color: #00d7ff; text-decoration-color: #00d7ff\">None</span>, <span style=\"color: #00af00; text-decoration-color: #00af00\">20</span>, <span style=\"color: #00af00; text-decoration-color: #00af00\">50</span>)              │               <span style=\"color: #00af00; text-decoration-color: #00af00\">0</span> │\n",
       "├──────────────────────────────────────┼─────────────────────────────┼─────────────────┤\n",
       "│ lstm_3 (<span style=\"color: #0087ff; text-decoration-color: #0087ff\">LSTM</span>)                        │ (<span style=\"color: #00d7ff; text-decoration-color: #00d7ff\">None</span>, <span style=\"color: #00af00; text-decoration-color: #00af00\">50</span>)                  │          <span style=\"color: #00af00; text-decoration-color: #00af00\">20,200</span> │\n",
       "├──────────────────────────────────────┼─────────────────────────────┼─────────────────┤\n",
       "│ dropout_3 (<span style=\"color: #0087ff; text-decoration-color: #0087ff\">Dropout</span>)                  │ (<span style=\"color: #00d7ff; text-decoration-color: #00d7ff\">None</span>, <span style=\"color: #00af00; text-decoration-color: #00af00\">50</span>)                  │               <span style=\"color: #00af00; text-decoration-color: #00af00\">0</span> │\n",
       "├──────────────────────────────────────┼─────────────────────────────┼─────────────────┤\n",
       "│ dense (<span style=\"color: #0087ff; text-decoration-color: #0087ff\">Dense</span>)                        │ (<span style=\"color: #00d7ff; text-decoration-color: #00d7ff\">None</span>, <span style=\"color: #00af00; text-decoration-color: #00af00\">2</span>)                   │             <span style=\"color: #00af00; text-decoration-color: #00af00\">102</span> │\n",
       "└──────────────────────────────────────┴─────────────────────────────┴─────────────────┘\n",
       "</pre>\n"
      ],
      "text/plain": [
       "┏━━━━━━━━━━━━━━━━━━━━━━━━━━━━━━━━━━━━━━┳━━━━━━━━━━━━━━━━━━━━━━━━━━━━━┳━━━━━━━━━━━━━━━━━┓\n",
       "┃\u001b[1m \u001b[0m\u001b[1mLayer (type)                        \u001b[0m\u001b[1m \u001b[0m┃\u001b[1m \u001b[0m\u001b[1mOutput Shape               \u001b[0m\u001b[1m \u001b[0m┃\u001b[1m \u001b[0m\u001b[1m        Param #\u001b[0m\u001b[1m \u001b[0m┃\n",
       "┡━━━━━━━━━━━━━━━━━━━━━━━━━━━━━━━━━━━━━━╇━━━━━━━━━━━━━━━━━━━━━━━━━━━━━╇━━━━━━━━━━━━━━━━━┩\n",
       "│ lstm (\u001b[38;5;33mLSTM\u001b[0m)                          │ (\u001b[38;5;45mNone\u001b[0m, \u001b[38;5;34m20\u001b[0m, \u001b[38;5;34m50\u001b[0m)              │          \u001b[38;5;34m36,600\u001b[0m │\n",
       "├──────────────────────────────────────┼─────────────────────────────┼─────────────────┤\n",
       "│ dropout (\u001b[38;5;33mDropout\u001b[0m)                    │ (\u001b[38;5;45mNone\u001b[0m, \u001b[38;5;34m20\u001b[0m, \u001b[38;5;34m50\u001b[0m)              │               \u001b[38;5;34m0\u001b[0m │\n",
       "├──────────────────────────────────────┼─────────────────────────────┼─────────────────┤\n",
       "│ lstm_1 (\u001b[38;5;33mLSTM\u001b[0m)                        │ (\u001b[38;5;45mNone\u001b[0m, \u001b[38;5;34m20\u001b[0m, \u001b[38;5;34m50\u001b[0m)              │          \u001b[38;5;34m20,200\u001b[0m │\n",
       "├──────────────────────────────────────┼─────────────────────────────┼─────────────────┤\n",
       "│ dropout_1 (\u001b[38;5;33mDropout\u001b[0m)                  │ (\u001b[38;5;45mNone\u001b[0m, \u001b[38;5;34m20\u001b[0m, \u001b[38;5;34m50\u001b[0m)              │               \u001b[38;5;34m0\u001b[0m │\n",
       "├──────────────────────────────────────┼─────────────────────────────┼─────────────────┤\n",
       "│ lstm_2 (\u001b[38;5;33mLSTM\u001b[0m)                        │ (\u001b[38;5;45mNone\u001b[0m, \u001b[38;5;34m20\u001b[0m, \u001b[38;5;34m50\u001b[0m)              │          \u001b[38;5;34m20,200\u001b[0m │\n",
       "├──────────────────────────────────────┼─────────────────────────────┼─────────────────┤\n",
       "│ dropout_2 (\u001b[38;5;33mDropout\u001b[0m)                  │ (\u001b[38;5;45mNone\u001b[0m, \u001b[38;5;34m20\u001b[0m, \u001b[38;5;34m50\u001b[0m)              │               \u001b[38;5;34m0\u001b[0m │\n",
       "├──────────────────────────────────────┼─────────────────────────────┼─────────────────┤\n",
       "│ lstm_3 (\u001b[38;5;33mLSTM\u001b[0m)                        │ (\u001b[38;5;45mNone\u001b[0m, \u001b[38;5;34m50\u001b[0m)                  │          \u001b[38;5;34m20,200\u001b[0m │\n",
       "├──────────────────────────────────────┼─────────────────────────────┼─────────────────┤\n",
       "│ dropout_3 (\u001b[38;5;33mDropout\u001b[0m)                  │ (\u001b[38;5;45mNone\u001b[0m, \u001b[38;5;34m50\u001b[0m)                  │               \u001b[38;5;34m0\u001b[0m │\n",
       "├──────────────────────────────────────┼─────────────────────────────┼─────────────────┤\n",
       "│ dense (\u001b[38;5;33mDense\u001b[0m)                        │ (\u001b[38;5;45mNone\u001b[0m, \u001b[38;5;34m2\u001b[0m)                   │             \u001b[38;5;34m102\u001b[0m │\n",
       "└──────────────────────────────────────┴─────────────────────────────┴─────────────────┘\n"
      ]
     },
     "metadata": {},
     "output_type": "display_data"
    },
    {
     "data": {
      "text/html": [
       "<pre style=\"white-space:pre;overflow-x:auto;line-height:normal;font-family:Menlo,'DejaVu Sans Mono',consolas,'Courier New',monospace\"><span style=\"font-weight: bold\"> Total params: </span><span style=\"color: #00af00; text-decoration-color: #00af00\">97,302</span> (380.09 KB)\n",
       "</pre>\n"
      ],
      "text/plain": [
       "\u001b[1m Total params: \u001b[0m\u001b[38;5;34m97,302\u001b[0m (380.09 KB)\n"
      ]
     },
     "metadata": {},
     "output_type": "display_data"
    },
    {
     "data": {
      "text/html": [
       "<pre style=\"white-space:pre;overflow-x:auto;line-height:normal;font-family:Menlo,'DejaVu Sans Mono',consolas,'Courier New',monospace\"><span style=\"font-weight: bold\"> Trainable params: </span><span style=\"color: #00af00; text-decoration-color: #00af00\">97,302</span> (380.09 KB)\n",
       "</pre>\n"
      ],
      "text/plain": [
       "\u001b[1m Trainable params: \u001b[0m\u001b[38;5;34m97,302\u001b[0m (380.09 KB)\n"
      ]
     },
     "metadata": {},
     "output_type": "display_data"
    },
    {
     "data": {
      "text/html": [
       "<pre style=\"white-space:pre;overflow-x:auto;line-height:normal;font-family:Menlo,'DejaVu Sans Mono',consolas,'Courier New',monospace\"><span style=\"font-weight: bold\"> Non-trainable params: </span><span style=\"color: #00af00; text-decoration-color: #00af00\">0</span> (0.00 B)\n",
       "</pre>\n"
      ],
      "text/plain": [
       "\u001b[1m Non-trainable params: \u001b[0m\u001b[38;5;34m0\u001b[0m (0.00 B)\n"
      ]
     },
     "metadata": {},
     "output_type": "display_data"
    }
   ],
   "source": [
    "model.summary()"
   ]
  },
  {
   "cell_type": "code",
   "execution_count": 11,
   "metadata": {
    "execution": {
     "iopub.execute_input": "2025-04-20T08:48:14.498784Z",
     "iopub.status.busy": "2025-04-20T08:48:14.498526Z",
     "iopub.status.idle": "2025-04-20T08:48:14.581495Z",
     "shell.execute_reply": "2025-04-20T08:48:14.580853Z",
     "shell.execute_reply.started": "2025-04-20T08:48:14.498761Z"
    },
    "trusted": true
   },
   "outputs": [],
   "source": [
    "from tensorflow.keras.callbacks import ModelCheckpoint\n",
    "\n",
    "checkpoint_callback = ModelCheckpoint(\n",
    "    filepath='pose_violence_detection.keras',       \n",
    "    monitor='val_loss',                   \n",
    "    save_best_only=True,                  \n",
    "    save_weights_only=False,              \n",
    "    mode='min',                           \n",
    "    verbose=1                             \n",
    ")"
   ]
  },
  {
   "cell_type": "code",
   "execution_count": 12,
   "metadata": {
    "execution": {
     "iopub.execute_input": "2025-04-20T08:48:14.582331Z",
     "iopub.status.busy": "2025-04-20T08:48:14.582158Z",
     "iopub.status.idle": "2025-04-20T08:55:04.470325Z",
     "shell.execute_reply": "2025-04-20T08:55:04.469618Z",
     "shell.execute_reply.started": "2025-04-20T08:48:14.582317Z"
    },
    "trusted": true
   },
   "outputs": [
    {
     "name": "stdout",
     "output_type": "stream",
     "text": [
      "Epoch 1/100\n"
     ]
    },
    {
     "name": "stderr",
     "output_type": "stream",
     "text": [
      "I0000 00:00:1745138900.407289      92 cuda_dnn.cc:529] Loaded cuDNN version 90300\n"
     ]
    },
    {
     "name": "stdout",
     "output_type": "stream",
     "text": [
      "\u001b[1m446/449\u001b[0m \u001b[32m━━━━━━━━━━━━━━━━━━━\u001b[0m\u001b[37m━\u001b[0m \u001b[1m0s\u001b[0m 8ms/step - accuracy: 0.7055 - loss: 0.5648\n",
      "Epoch 1: val_loss improved from inf to 0.31327, saving model to pose_violence_detection.keras\n",
      "\u001b[1m449/449\u001b[0m \u001b[32m━━━━━━━━━━━━━━━━━━━━\u001b[0m\u001b[37m\u001b[0m \u001b[1m12s\u001b[0m 11ms/step - accuracy: 0.7060 - loss: 0.5641 - val_accuracy: 0.8711 - val_loss: 0.3133\n",
      "Epoch 2/100\n",
      "\u001b[1m446/449\u001b[0m \u001b[32m━━━━━━━━━━━━━━━━━━━\u001b[0m\u001b[37m━\u001b[0m \u001b[1m0s\u001b[0m 8ms/step - accuracy: 0.8666 - loss: 0.3059\n",
      "Epoch 2: val_loss improved from 0.31327 to 0.18634, saving model to pose_violence_detection.keras\n",
      "\u001b[1m449/449\u001b[0m \u001b[32m━━━━━━━━━━━━━━━━━━━━\u001b[0m\u001b[37m\u001b[0m \u001b[1m4s\u001b[0m 9ms/step - accuracy: 0.8667 - loss: 0.3056 - val_accuracy: 0.9246 - val_loss: 0.1863\n",
      "Epoch 3/100\n",
      "\u001b[1m448/449\u001b[0m \u001b[32m━━━━━━━━━━━━━━━━━━━\u001b[0m\u001b[37m━\u001b[0m \u001b[1m0s\u001b[0m 8ms/step - accuracy: 0.9080 - loss: 0.2167\n",
      "Epoch 3: val_loss improved from 0.18634 to 0.14207, saving model to pose_violence_detection.keras\n",
      "\u001b[1m449/449\u001b[0m \u001b[32m━━━━━━━━━━━━━━━━━━━━\u001b[0m\u001b[37m\u001b[0m \u001b[1m4s\u001b[0m 9ms/step - accuracy: 0.9080 - loss: 0.2166 - val_accuracy: 0.9393 - val_loss: 0.1421\n",
      "Epoch 4/100\n",
      "\u001b[1m445/449\u001b[0m \u001b[32m━━━━━━━━━━━━━━━━━━━\u001b[0m\u001b[37m━\u001b[0m \u001b[1m0s\u001b[0m 8ms/step - accuracy: 0.9292 - loss: 0.1720\n",
      "Epoch 4: val_loss did not improve from 0.14207\n",
      "\u001b[1m449/449\u001b[0m \u001b[32m━━━━━━━━━━━━━━━━━━━━\u001b[0m\u001b[37m\u001b[0m \u001b[1m4s\u001b[0m 9ms/step - accuracy: 0.9292 - loss: 0.1719 - val_accuracy: 0.9323 - val_loss: 0.1683\n",
      "Epoch 5/100\n",
      "\u001b[1m443/449\u001b[0m \u001b[32m━━━━━━━━━━━━━━━━━━━\u001b[0m\u001b[37m━\u001b[0m \u001b[1m0s\u001b[0m 8ms/step - accuracy: 0.9464 - loss: 0.1306\n",
      "Epoch 5: val_loss improved from 0.14207 to 0.12109, saving model to pose_violence_detection.keras\n",
      "\u001b[1m449/449\u001b[0m \u001b[32m━━━━━━━━━━━━━━━━━━━━\u001b[0m\u001b[37m\u001b[0m \u001b[1m4s\u001b[0m 9ms/step - accuracy: 0.9464 - loss: 0.1305 - val_accuracy: 0.9571 - val_loss: 0.1211\n",
      "Epoch 6/100\n",
      "\u001b[1m446/449\u001b[0m \u001b[32m━━━━━━━━━━━━━━━━━━━\u001b[0m\u001b[37m━\u001b[0m \u001b[1m0s\u001b[0m 8ms/step - accuracy: 0.9564 - loss: 0.1093\n",
      "Epoch 6: val_loss did not improve from 0.12109\n",
      "\u001b[1m449/449\u001b[0m \u001b[32m━━━━━━━━━━━━━━━━━━━━\u001b[0m\u001b[37m\u001b[0m \u001b[1m4s\u001b[0m 9ms/step - accuracy: 0.9564 - loss: 0.1093 - val_accuracy: 0.9182 - val_loss: 0.1590\n",
      "Epoch 7/100\n",
      "\u001b[1m449/449\u001b[0m \u001b[32m━━━━━━━━━━━━━━━━━━━━\u001b[0m\u001b[37m\u001b[0m \u001b[1m0s\u001b[0m 8ms/step - accuracy: 0.9442 - loss: 0.1599\n",
      "Epoch 7: val_loss improved from 0.12109 to 0.07347, saving model to pose_violence_detection.keras\n",
      "\u001b[1m449/449\u001b[0m \u001b[32m━━━━━━━━━━━━━━━━━━━━\u001b[0m\u001b[37m\u001b[0m \u001b[1m4s\u001b[0m 9ms/step - accuracy: 0.9442 - loss: 0.1598 - val_accuracy: 0.9669 - val_loss: 0.0735\n",
      "Epoch 8/100\n",
      "\u001b[1m443/449\u001b[0m \u001b[32m━━━━━━━━━━━━━━━━━━━\u001b[0m\u001b[37m━\u001b[0m \u001b[1m0s\u001b[0m 8ms/step - accuracy: 0.9679 - loss: 0.0765\n",
      "Epoch 8: val_loss did not improve from 0.07347\n",
      "\u001b[1m449/449\u001b[0m \u001b[32m━━━━━━━━━━━━━━━━━━━━\u001b[0m\u001b[37m\u001b[0m \u001b[1m4s\u001b[0m 9ms/step - accuracy: 0.9680 - loss: 0.0765 - val_accuracy: 0.9594 - val_loss: 0.1061\n",
      "Epoch 9/100\n",
      "\u001b[1m445/449\u001b[0m \u001b[32m━━━━━━━━━━━━━━━━━━━\u001b[0m\u001b[37m━\u001b[0m \u001b[1m0s\u001b[0m 8ms/step - accuracy: 0.9669 - loss: 0.0843\n",
      "Epoch 9: val_loss did not improve from 0.07347\n",
      "\u001b[1m449/449\u001b[0m \u001b[32m━━━━━━━━━━━━━━━━━━━━\u001b[0m\u001b[37m\u001b[0m \u001b[1m4s\u001b[0m 9ms/step - accuracy: 0.9669 - loss: 0.0842 - val_accuracy: 0.9577 - val_loss: 0.0914\n",
      "Epoch 10/100\n",
      "\u001b[1m446/449\u001b[0m \u001b[32m━━━━━━━━━━━━━━━━━━━\u001b[0m\u001b[37m━\u001b[0m \u001b[1m0s\u001b[0m 8ms/step - accuracy: 0.9786 - loss: 0.0561\n",
      "Epoch 10: val_loss improved from 0.07347 to 0.04685, saving model to pose_violence_detection.keras\n",
      "\u001b[1m449/449\u001b[0m \u001b[32m━━━━━━━━━━━━━━━━━━━━\u001b[0m\u001b[37m\u001b[0m \u001b[1m4s\u001b[0m 9ms/step - accuracy: 0.9786 - loss: 0.0561 - val_accuracy: 0.9741 - val_loss: 0.0468\n",
      "Epoch 11/100\n",
      "\u001b[1m448/449\u001b[0m \u001b[32m━━━━━━━━━━━━━━━━━━━\u001b[0m\u001b[37m━\u001b[0m \u001b[1m0s\u001b[0m 8ms/step - accuracy: 0.9790 - loss: 0.0563\n",
      "Epoch 11: val_loss improved from 0.04685 to 0.03085, saving model to pose_violence_detection.keras\n",
      "\u001b[1m449/449\u001b[0m \u001b[32m━━━━━━━━━━━━━━━━━━━━\u001b[0m\u001b[37m\u001b[0m \u001b[1m4s\u001b[0m 9ms/step - accuracy: 0.9791 - loss: 0.0563 - val_accuracy: 0.9891 - val_loss: 0.0309\n",
      "Epoch 12/100\n",
      "\u001b[1m443/449\u001b[0m \u001b[32m━━━━━━━━━━━━━━━━━━━\u001b[0m\u001b[37m━\u001b[0m \u001b[1m0s\u001b[0m 8ms/step - accuracy: 0.9819 - loss: 0.0504\n",
      "Epoch 12: val_loss did not improve from 0.03085\n",
      "\u001b[1m449/449\u001b[0m \u001b[32m━━━━━━━━━━━━━━━━━━━━\u001b[0m\u001b[37m\u001b[0m \u001b[1m4s\u001b[0m 9ms/step - accuracy: 0.9819 - loss: 0.0505 - val_accuracy: 0.9839 - val_loss: 0.0452\n",
      "Epoch 13/100\n",
      "\u001b[1m445/449\u001b[0m \u001b[32m━━━━━━━━━━━━━━━━━━━\u001b[0m\u001b[37m━\u001b[0m \u001b[1m0s\u001b[0m 8ms/step - accuracy: 0.9838 - loss: 0.0415\n",
      "Epoch 13: val_loss did not improve from 0.03085\n",
      "\u001b[1m449/449\u001b[0m \u001b[32m━━━━━━━━━━━━━━━━━━━━\u001b[0m\u001b[37m\u001b[0m \u001b[1m4s\u001b[0m 9ms/step - accuracy: 0.9838 - loss: 0.0416 - val_accuracy: 0.9847 - val_loss: 0.0359\n",
      "Epoch 14/100\n",
      "\u001b[1m445/449\u001b[0m \u001b[32m━━━━━━━━━━━━━━━━━━━\u001b[0m\u001b[37m━\u001b[0m \u001b[1m0s\u001b[0m 8ms/step - accuracy: 0.9818 - loss: 0.0668\n",
      "Epoch 14: val_loss did not improve from 0.03085\n",
      "\u001b[1m449/449\u001b[0m \u001b[32m━━━━━━━━━━━━━━━━━━━━\u001b[0m\u001b[37m\u001b[0m \u001b[1m4s\u001b[0m 9ms/step - accuracy: 0.9818 - loss: 0.0666 - val_accuracy: 0.9710 - val_loss: 0.1063\n",
      "Epoch 15/100\n",
      "\u001b[1m447/449\u001b[0m \u001b[32m━━━━━━━━━━━━━━━━━━━\u001b[0m\u001b[37m━\u001b[0m \u001b[1m0s\u001b[0m 8ms/step - accuracy: 0.9843 - loss: 0.0453\n",
      "Epoch 15: val_loss improved from 0.03085 to 0.01133, saving model to pose_violence_detection.keras\n",
      "\u001b[1m449/449\u001b[0m \u001b[32m━━━━━━━━━━━━━━━━━━━━\u001b[0m\u001b[37m\u001b[0m \u001b[1m4s\u001b[0m 9ms/step - accuracy: 0.9843 - loss: 0.0452 - val_accuracy: 0.9972 - val_loss: 0.0113\n",
      "Epoch 16/100\n",
      "\u001b[1m444/449\u001b[0m \u001b[32m━━━━━━━━━━━━━━━━━━━\u001b[0m\u001b[37m━\u001b[0m \u001b[1m0s\u001b[0m 8ms/step - accuracy: 0.9874 - loss: 0.0391\n",
      "Epoch 16: val_loss did not improve from 0.01133\n",
      "\u001b[1m449/449\u001b[0m \u001b[32m━━━━━━━━━━━━━━━━━━━━\u001b[0m\u001b[37m\u001b[0m \u001b[1m4s\u001b[0m 9ms/step - accuracy: 0.9873 - loss: 0.0391 - val_accuracy: 0.9758 - val_loss: 0.0567\n",
      "Epoch 17/100\n",
      "\u001b[1m449/449\u001b[0m \u001b[32m━━━━━━━━━━━━━━━━━━━━\u001b[0m\u001b[37m\u001b[0m \u001b[1m0s\u001b[0m 8ms/step - accuracy: 0.9871 - loss: 0.0414\n",
      "Epoch 17: val_loss did not improve from 0.01133\n",
      "\u001b[1m449/449\u001b[0m \u001b[32m━━━━━━━━━━━━━━━━━━━━\u001b[0m\u001b[37m\u001b[0m \u001b[1m4s\u001b[0m 9ms/step - accuracy: 0.9871 - loss: 0.0414 - val_accuracy: 0.9861 - val_loss: 0.0434\n",
      "Epoch 18/100\n",
      "\u001b[1m448/449\u001b[0m \u001b[32m━━━━━━━━━━━━━━━━━━━\u001b[0m\u001b[37m━\u001b[0m \u001b[1m0s\u001b[0m 8ms/step - accuracy: 0.9906 - loss: 0.0288\n",
      "Epoch 18: val_loss did not improve from 0.01133\n",
      "\u001b[1m449/449\u001b[0m \u001b[32m━━━━━━━━━━━━━━━━━━━━\u001b[0m\u001b[37m\u001b[0m \u001b[1m4s\u001b[0m 9ms/step - accuracy: 0.9905 - loss: 0.0289 - val_accuracy: 0.9886 - val_loss: 0.0313\n",
      "Epoch 19/100\n",
      "\u001b[1m444/449\u001b[0m \u001b[32m━━━━━━━━━━━━━━━━━━━\u001b[0m\u001b[37m━\u001b[0m \u001b[1m0s\u001b[0m 8ms/step - accuracy: 0.9851 - loss: 0.0412\n",
      "Epoch 19: val_loss did not improve from 0.01133\n",
      "\u001b[1m449/449\u001b[0m \u001b[32m━━━━━━━━━━━━━━━━━━━━\u001b[0m\u001b[37m\u001b[0m \u001b[1m4s\u001b[0m 9ms/step - accuracy: 0.9851 - loss: 0.0412 - val_accuracy: 0.9919 - val_loss: 0.0192\n",
      "Epoch 20/100\n",
      "\u001b[1m447/449\u001b[0m \u001b[32m━━━━━━━━━━━━━━━━━━━\u001b[0m\u001b[37m━\u001b[0m \u001b[1m0s\u001b[0m 8ms/step - accuracy: 0.9893 - loss: 0.0370\n",
      "Epoch 20: val_loss did not improve from 0.01133\n",
      "\u001b[1m449/449\u001b[0m \u001b[32m━━━━━━━━━━━━━━━━━━━━\u001b[0m\u001b[37m\u001b[0m \u001b[1m4s\u001b[0m 9ms/step - accuracy: 0.9893 - loss: 0.0371 - val_accuracy: 0.8853 - val_loss: 0.2931\n",
      "Epoch 21/100\n",
      "\u001b[1m445/449\u001b[0m \u001b[32m━━━━━━━━━━━━━━━━━━━\u001b[0m\u001b[37m━\u001b[0m \u001b[1m0s\u001b[0m 8ms/step - accuracy: 0.9601 - loss: 0.1092\n",
      "Epoch 21: val_loss improved from 0.01133 to 0.00842, saving model to pose_violence_detection.keras\n",
      "\u001b[1m449/449\u001b[0m \u001b[32m━━━━━━━━━━━━━━━━━━━━\u001b[0m\u001b[37m\u001b[0m \u001b[1m4s\u001b[0m 9ms/step - accuracy: 0.9602 - loss: 0.1087 - val_accuracy: 0.9969 - val_loss: 0.0084\n",
      "Epoch 22/100\n",
      "\u001b[1m449/449\u001b[0m \u001b[32m━━━━━━━━━━━━━━━━━━━━\u001b[0m\u001b[37m\u001b[0m \u001b[1m0s\u001b[0m 8ms/step - accuracy: 0.9869 - loss: 0.0418\n",
      "Epoch 22: val_loss did not improve from 0.00842\n",
      "\u001b[1m449/449\u001b[0m \u001b[32m━━━━━━━━━━━━━━━━━━━━\u001b[0m\u001b[37m\u001b[0m \u001b[1m4s\u001b[0m 9ms/step - accuracy: 0.9869 - loss: 0.0418 - val_accuracy: 0.9850 - val_loss: 0.0495\n",
      "Epoch 23/100\n",
      "\u001b[1m444/449\u001b[0m \u001b[32m━━━━━━━━━━━━━━━━━━━\u001b[0m\u001b[37m━\u001b[0m \u001b[1m0s\u001b[0m 8ms/step - accuracy: 0.9940 - loss: 0.0252\n",
      "Epoch 23: val_loss did not improve from 0.00842\n",
      "\u001b[1m449/449\u001b[0m \u001b[32m━━━━━━━━━━━━━━━━━━━━\u001b[0m\u001b[37m\u001b[0m \u001b[1m4s\u001b[0m 9ms/step - accuracy: 0.9939 - loss: 0.0253 - val_accuracy: 0.9878 - val_loss: 0.0369\n",
      "Epoch 24/100\n",
      "\u001b[1m443/449\u001b[0m \u001b[32m━━━━━━━━━━━━━━━━━━━\u001b[0m\u001b[37m━\u001b[0m \u001b[1m0s\u001b[0m 8ms/step - accuracy: 0.9892 - loss: 0.0320\n",
      "Epoch 24: val_loss improved from 0.00842 to 0.00705, saving model to pose_violence_detection.keras\n",
      "\u001b[1m449/449\u001b[0m \u001b[32m━━━━━━━━━━━━━━━━━━━━\u001b[0m\u001b[37m\u001b[0m \u001b[1m4s\u001b[0m 9ms/step - accuracy: 0.9892 - loss: 0.0320 - val_accuracy: 0.9975 - val_loss: 0.0071\n",
      "Epoch 25/100\n",
      "\u001b[1m448/449\u001b[0m \u001b[32m━━━━━━━━━━━━━━━━━━━\u001b[0m\u001b[37m━\u001b[0m \u001b[1m0s\u001b[0m 8ms/step - accuracy: 0.9930 - loss: 0.0209\n",
      "Epoch 25: val_loss did not improve from 0.00705\n",
      "\u001b[1m449/449\u001b[0m \u001b[32m━━━━━━━━━━━━━━━━━━━━\u001b[0m\u001b[37m\u001b[0m \u001b[1m4s\u001b[0m 9ms/step - accuracy: 0.9930 - loss: 0.0209 - val_accuracy: 0.9772 - val_loss: 0.1113\n",
      "Epoch 26/100\n",
      "\u001b[1m449/449\u001b[0m \u001b[32m━━━━━━━━━━━━━━━━━━━━\u001b[0m\u001b[37m\u001b[0m \u001b[1m0s\u001b[0m 8ms/step - accuracy: 0.9945 - loss: 0.0161\n",
      "Epoch 26: val_loss did not improve from 0.00705\n",
      "\u001b[1m449/449\u001b[0m \u001b[32m━━━━━━━━━━━━━━━━━━━━\u001b[0m\u001b[37m\u001b[0m \u001b[1m4s\u001b[0m 9ms/step - accuracy: 0.9945 - loss: 0.0161 - val_accuracy: 0.9975 - val_loss: 0.0082\n",
      "Epoch 27/100\n",
      "\u001b[1m445/449\u001b[0m \u001b[32m━━━━━━━━━━━━━━━━━━━\u001b[0m\u001b[37m━\u001b[0m \u001b[1m0s\u001b[0m 8ms/step - accuracy: 0.9898 - loss: 0.0331\n",
      "Epoch 27: val_loss improved from 0.00705 to 0.00459, saving model to pose_violence_detection.keras\n",
      "\u001b[1m449/449\u001b[0m \u001b[32m━━━━━━━━━━━━━━━━━━━━\u001b[0m\u001b[37m\u001b[0m \u001b[1m4s\u001b[0m 9ms/step - accuracy: 0.9897 - loss: 0.0332 - val_accuracy: 0.9997 - val_loss: 0.0046\n",
      "Epoch 28/100\n",
      "\u001b[1m447/449\u001b[0m \u001b[32m━━━━━━━━━━━━━━━━━━━\u001b[0m\u001b[37m━\u001b[0m \u001b[1m0s\u001b[0m 8ms/step - accuracy: 0.9891 - loss: 0.0395\n",
      "Epoch 28: val_loss improved from 0.00459 to 0.00158, saving model to pose_violence_detection.keras\n",
      "\u001b[1m449/449\u001b[0m \u001b[32m━━━━━━━━━━━━━━━━━━━━\u001b[0m\u001b[37m\u001b[0m \u001b[1m4s\u001b[0m 9ms/step - accuracy: 0.9891 - loss: 0.0394 - val_accuracy: 0.9994 - val_loss: 0.0016\n",
      "Epoch 29/100\n",
      "\u001b[1m445/449\u001b[0m \u001b[32m━━━━━━━━━━━━━━━━━━━\u001b[0m\u001b[37m━\u001b[0m \u001b[1m0s\u001b[0m 8ms/step - accuracy: 0.9951 - loss: 0.0147\n",
      "Epoch 29: val_loss did not improve from 0.00158\n",
      "\u001b[1m449/449\u001b[0m \u001b[32m━━━━━━━━━━━━━━━━━━━━\u001b[0m\u001b[37m\u001b[0m \u001b[1m4s\u001b[0m 9ms/step - accuracy: 0.9951 - loss: 0.0147 - val_accuracy: 0.9994 - val_loss: 0.0029\n",
      "Epoch 30/100\n",
      "\u001b[1m444/449\u001b[0m \u001b[32m━━━━━━━━━━━━━━━━━━━\u001b[0m\u001b[37m━\u001b[0m \u001b[1m0s\u001b[0m 8ms/step - accuracy: 0.9964 - loss: 0.0106\n",
      "Epoch 30: val_loss did not improve from 0.00158\n",
      "\u001b[1m449/449\u001b[0m \u001b[32m━━━━━━━━━━━━━━━━━━━━\u001b[0m\u001b[37m\u001b[0m \u001b[1m4s\u001b[0m 9ms/step - accuracy: 0.9964 - loss: 0.0106 - val_accuracy: 0.9967 - val_loss: 0.0072\n",
      "Epoch 31/100\n",
      "\u001b[1m449/449\u001b[0m \u001b[32m━━━━━━━━━━━━━━━━━━━━\u001b[0m\u001b[37m\u001b[0m \u001b[1m0s\u001b[0m 8ms/step - accuracy: 0.9909 - loss: 0.0281\n",
      "Epoch 31: val_loss did not improve from 0.00158\n",
      "\u001b[1m449/449\u001b[0m \u001b[32m━━━━━━━━━━━━━━━━━━━━\u001b[0m\u001b[37m\u001b[0m \u001b[1m4s\u001b[0m 9ms/step - accuracy: 0.9909 - loss: 0.0281 - val_accuracy: 0.9967 - val_loss: 0.0102\n",
      "Epoch 32/100\n",
      "\u001b[1m444/449\u001b[0m \u001b[32m━━━━━━━━━━━━━━━━━━━\u001b[0m\u001b[37m━\u001b[0m \u001b[1m0s\u001b[0m 8ms/step - accuracy: 0.9965 - loss: 0.0110\n",
      "Epoch 32: val_loss did not improve from 0.00158\n",
      "\u001b[1m449/449\u001b[0m \u001b[32m━━━━━━━━━━━━━━━━━━━━\u001b[0m\u001b[37m\u001b[0m \u001b[1m4s\u001b[0m 9ms/step - accuracy: 0.9964 - loss: 0.0111 - val_accuracy: 0.9905 - val_loss: 0.0290\n",
      "Epoch 33/100\n",
      "\u001b[1m449/449\u001b[0m \u001b[32m━━━━━━━━━━━━━━━━━━━━\u001b[0m\u001b[37m\u001b[0m \u001b[1m0s\u001b[0m 8ms/step - accuracy: 0.9889 - loss: 0.0365\n",
      "Epoch 33: val_loss did not improve from 0.00158\n",
      "\u001b[1m449/449\u001b[0m \u001b[32m━━━━━━━━━━━━━━━━━━━━\u001b[0m\u001b[37m\u001b[0m \u001b[1m4s\u001b[0m 9ms/step - accuracy: 0.9889 - loss: 0.0364 - val_accuracy: 0.9992 - val_loss: 0.0025\n",
      "Epoch 34/100\n",
      "\u001b[1m447/449\u001b[0m \u001b[32m━━━━━━━━━━━━━━━━━━━\u001b[0m\u001b[37m━\u001b[0m \u001b[1m0s\u001b[0m 8ms/step - accuracy: 0.9950 - loss: 0.0190\n",
      "Epoch 34: val_loss improved from 0.00158 to 0.00043, saving model to pose_violence_detection.keras\n",
      "\u001b[1m449/449\u001b[0m \u001b[32m━━━━━━━━━━━━━━━━━━━━\u001b[0m\u001b[37m\u001b[0m \u001b[1m4s\u001b[0m 9ms/step - accuracy: 0.9950 - loss: 0.0190 - val_accuracy: 1.0000 - val_loss: 4.3002e-04\n",
      "Epoch 35/100\n",
      "\u001b[1m448/449\u001b[0m \u001b[32m━━━━━━━━━━━━━━━━━━━\u001b[0m\u001b[37m━\u001b[0m \u001b[1m0s\u001b[0m 8ms/step - accuracy: 0.9951 - loss: 0.0160\n",
      "Epoch 35: val_loss did not improve from 0.00043\n",
      "\u001b[1m449/449\u001b[0m \u001b[32m━━━━━━━━━━━━━━━━━━━━\u001b[0m\u001b[37m\u001b[0m \u001b[1m4s\u001b[0m 9ms/step - accuracy: 0.9951 - loss: 0.0160 - val_accuracy: 0.9880 - val_loss: 0.0288\n",
      "Epoch 36/100\n",
      "\u001b[1m448/449\u001b[0m \u001b[32m━━━━━━━━━━━━━━━━━━━\u001b[0m\u001b[37m━\u001b[0m \u001b[1m0s\u001b[0m 8ms/step - accuracy: 0.9937 - loss: 0.0161\n",
      "Epoch 36: val_loss did not improve from 0.00043\n",
      "\u001b[1m449/449\u001b[0m \u001b[32m━━━━━━━━━━━━━━━━━━━━\u001b[0m\u001b[37m\u001b[0m \u001b[1m4s\u001b[0m 9ms/step - accuracy: 0.9937 - loss: 0.0161 - val_accuracy: 0.9852 - val_loss: 0.0429\n",
      "Epoch 37/100\n",
      "\u001b[1m449/449\u001b[0m \u001b[32m━━━━━━━━━━━━━━━━━━━━\u001b[0m\u001b[37m\u001b[0m \u001b[1m0s\u001b[0m 8ms/step - accuracy: 0.9906 - loss: 0.0279\n",
      "Epoch 37: val_loss did not improve from 0.00043\n",
      "\u001b[1m449/449\u001b[0m \u001b[32m━━━━━━━━━━━━━━━━━━━━\u001b[0m\u001b[37m\u001b[0m \u001b[1m4s\u001b[0m 9ms/step - accuracy: 0.9906 - loss: 0.0278 - val_accuracy: 0.9969 - val_loss: 0.0106\n",
      "Epoch 38/100\n",
      "\u001b[1m446/449\u001b[0m \u001b[32m━━━━━━━━━━━━━━━━━━━\u001b[0m\u001b[37m━\u001b[0m \u001b[1m0s\u001b[0m 8ms/step - accuracy: 0.9960 - loss: 0.0127\n",
      "Epoch 38: val_loss did not improve from 0.00043\n",
      "\u001b[1m449/449\u001b[0m \u001b[32m━━━━━━━━━━━━━━━━━━━━\u001b[0m\u001b[37m\u001b[0m \u001b[1m4s\u001b[0m 9ms/step - accuracy: 0.9960 - loss: 0.0128 - val_accuracy: 0.9989 - val_loss: 0.0056\n",
      "Epoch 39/100\n",
      "\u001b[1m444/449\u001b[0m \u001b[32m━━━━━━━━━━━━━━━━━━━\u001b[0m\u001b[37m━\u001b[0m \u001b[1m0s\u001b[0m 8ms/step - accuracy: 0.9991 - loss: 0.0050\n",
      "Epoch 39: val_loss did not improve from 0.00043\n",
      "\u001b[1m449/449\u001b[0m \u001b[32m━━━━━━━━━━━━━━━━━━━━\u001b[0m\u001b[37m\u001b[0m \u001b[1m4s\u001b[0m 9ms/step - accuracy: 0.9991 - loss: 0.0049 - val_accuracy: 0.9994 - val_loss: 8.4514e-04\n",
      "Epoch 40/100\n",
      "\u001b[1m445/449\u001b[0m \u001b[32m━━━━━━━━━━━━━━━━━━━\u001b[0m\u001b[37m━\u001b[0m \u001b[1m0s\u001b[0m 8ms/step - accuracy: 1.0000 - loss: 1.1719e-04\n",
      "Epoch 40: val_loss improved from 0.00043 to 0.00042, saving model to pose_violence_detection.keras\n",
      "\u001b[1m449/449\u001b[0m \u001b[32m━━━━━━━━━━━━━━━━━━━━\u001b[0m\u001b[37m\u001b[0m \u001b[1m4s\u001b[0m 9ms/step - accuracy: 1.0000 - loss: 1.1681e-04 - val_accuracy: 0.9997 - val_loss: 4.1737e-04\n",
      "Epoch 41/100\n",
      "\u001b[1m447/449\u001b[0m \u001b[32m━━━━━━━━━━━━━━━━━━━\u001b[0m\u001b[37m━\u001b[0m \u001b[1m0s\u001b[0m 8ms/step - accuracy: 1.0000 - loss: 6.6096e-05\n",
      "Epoch 41: val_loss improved from 0.00042 to 0.00037, saving model to pose_violence_detection.keras\n",
      "\u001b[1m449/449\u001b[0m \u001b[32m━━━━━━━━━━━━━━━━━━━━\u001b[0m\u001b[37m\u001b[0m \u001b[1m4s\u001b[0m 9ms/step - accuracy: 1.0000 - loss: 6.6038e-05 - val_accuracy: 1.0000 - val_loss: 3.6886e-04\n",
      "Epoch 42/100\n",
      "\u001b[1m449/449\u001b[0m \u001b[32m━━━━━━━━━━━━━━━━━━━━\u001b[0m\u001b[37m\u001b[0m \u001b[1m0s\u001b[0m 8ms/step - accuracy: 0.9988 - loss: 0.0037\n",
      "Epoch 42: val_loss did not improve from 0.00037\n",
      "\u001b[1m449/449\u001b[0m \u001b[32m━━━━━━━━━━━━━━━━━━━━\u001b[0m\u001b[37m\u001b[0m \u001b[1m4s\u001b[0m 9ms/step - accuracy: 0.9988 - loss: 0.0038 - val_accuracy: 0.9621 - val_loss: 0.0912\n",
      "Epoch 43/100\n",
      "\u001b[1m449/449\u001b[0m \u001b[32m━━━━━━━━━━━━━━━━━━━━\u001b[0m\u001b[37m\u001b[0m \u001b[1m0s\u001b[0m 8ms/step - accuracy: 0.9733 - loss: 0.0703\n",
      "Epoch 43: val_loss did not improve from 0.00037\n",
      "\u001b[1m449/449\u001b[0m \u001b[32m━━━━━━━━━━━━━━━━━━━━\u001b[0m\u001b[37m\u001b[0m \u001b[1m4s\u001b[0m 9ms/step - accuracy: 0.9733 - loss: 0.0703 - val_accuracy: 0.9947 - val_loss: 0.0129\n",
      "Epoch 44/100\n",
      "\u001b[1m448/449\u001b[0m \u001b[32m━━━━━━━━━━━━━━━━━━━\u001b[0m\u001b[37m━\u001b[0m \u001b[1m0s\u001b[0m 8ms/step - accuracy: 0.9965 - loss: 0.0092\n",
      "Epoch 44: val_loss did not improve from 0.00037\n",
      "\u001b[1m449/449\u001b[0m \u001b[32m━━━━━━━━━━━━━━━━━━━━\u001b[0m\u001b[37m\u001b[0m \u001b[1m4s\u001b[0m 9ms/step - accuracy: 0.9965 - loss: 0.0092 - val_accuracy: 0.9944 - val_loss: 0.0249\n",
      "Epoch 45/100\n",
      "\u001b[1m446/449\u001b[0m \u001b[32m━━━━━━━━━━━━━━━━━━━\u001b[0m\u001b[37m━\u001b[0m \u001b[1m0s\u001b[0m 9ms/step - accuracy: 0.9956 - loss: 0.0144\n",
      "Epoch 45: val_loss did not improve from 0.00037\n",
      "\u001b[1m449/449\u001b[0m \u001b[32m━━━━━━━━━━━━━━━━━━━━\u001b[0m\u001b[37m\u001b[0m \u001b[1m4s\u001b[0m 9ms/step - accuracy: 0.9956 - loss: 0.0144 - val_accuracy: 0.9986 - val_loss: 0.0032\n",
      "Epoch 46/100\n",
      "\u001b[1m449/449\u001b[0m \u001b[32m━━━━━━━━━━━━━━━━━━━━\u001b[0m\u001b[37m\u001b[0m \u001b[1m0s\u001b[0m 8ms/step - accuracy: 0.9950 - loss: 0.0163\n",
      "Epoch 46: val_loss did not improve from 0.00037\n",
      "\u001b[1m449/449\u001b[0m \u001b[32m━━━━━━━━━━━━━━━━━━━━\u001b[0m\u001b[37m\u001b[0m \u001b[1m4s\u001b[0m 9ms/step - accuracy: 0.9950 - loss: 0.0163 - val_accuracy: 0.9967 - val_loss: 0.0135\n",
      "Epoch 47/100\n",
      "\u001b[1m446/449\u001b[0m \u001b[32m━━━━━━━━━━━━━━━━━━━\u001b[0m\u001b[37m━\u001b[0m \u001b[1m0s\u001b[0m 8ms/step - accuracy: 0.9972 - loss: 0.0104\n",
      "Epoch 47: val_loss improved from 0.00037 to 0.00022, saving model to pose_violence_detection.keras\n",
      "\u001b[1m449/449\u001b[0m \u001b[32m━━━━━━━━━━━━━━━━━━━━\u001b[0m\u001b[37m\u001b[0m \u001b[1m4s\u001b[0m 9ms/step - accuracy: 0.9972 - loss: 0.0104 - val_accuracy: 1.0000 - val_loss: 2.2455e-04\n",
      "Epoch 48/100\n",
      "\u001b[1m444/449\u001b[0m \u001b[32m━━━━━━━━━━━━━━━━━━━\u001b[0m\u001b[37m━\u001b[0m \u001b[1m0s\u001b[0m 8ms/step - accuracy: 0.9961 - loss: 0.0141\n",
      "Epoch 48: val_loss did not improve from 0.00022\n",
      "\u001b[1m449/449\u001b[0m \u001b[32m━━━━━━━━━━━━━━━━━━━━\u001b[0m\u001b[37m\u001b[0m \u001b[1m4s\u001b[0m 9ms/step - accuracy: 0.9960 - loss: 0.0141 - val_accuracy: 0.9964 - val_loss: 0.0085\n",
      "Epoch 49/100\n",
      "\u001b[1m448/449\u001b[0m \u001b[32m━━━━━━━━━━━━━━━━━━━\u001b[0m\u001b[37m━\u001b[0m \u001b[1m0s\u001b[0m 8ms/step - accuracy: 0.9944 - loss: 0.0190\n",
      "Epoch 49: val_loss improved from 0.00022 to 0.00011, saving model to pose_violence_detection.keras\n",
      "\u001b[1m449/449\u001b[0m \u001b[32m━━━━━━━━━━━━━━━━━━━━\u001b[0m\u001b[37m\u001b[0m \u001b[1m4s\u001b[0m 9ms/step - accuracy: 0.9944 - loss: 0.0190 - val_accuracy: 1.0000 - val_loss: 1.0769e-04\n",
      "Epoch 50/100\n",
      "\u001b[1m445/449\u001b[0m \u001b[32m━━━━━━━━━━━━━━━━━━━\u001b[0m\u001b[37m━\u001b[0m \u001b[1m0s\u001b[0m 8ms/step - accuracy: 0.9964 - loss: 0.0104\n",
      "Epoch 50: val_loss did not improve from 0.00011\n",
      "\u001b[1m449/449\u001b[0m \u001b[32m━━━━━━━━━━━━━━━━━━━━\u001b[0m\u001b[37m\u001b[0m \u001b[1m4s\u001b[0m 9ms/step - accuracy: 0.9964 - loss: 0.0105 - val_accuracy: 0.9889 - val_loss: 0.0291\n",
      "Epoch 51/100\n",
      "\u001b[1m444/449\u001b[0m \u001b[32m━━━━━━━━━━━━━━━━━━━\u001b[0m\u001b[37m━\u001b[0m \u001b[1m0s\u001b[0m 8ms/step - accuracy: 0.9949 - loss: 0.0162\n",
      "Epoch 51: val_loss did not improve from 0.00011\n",
      "\u001b[1m449/449\u001b[0m \u001b[32m━━━━━━━━━━━━━━━━━━━━\u001b[0m\u001b[37m\u001b[0m \u001b[1m4s\u001b[0m 9ms/step - accuracy: 0.9949 - loss: 0.0161 - val_accuracy: 0.9997 - val_loss: 8.3948e-04\n",
      "Epoch 52/100\n",
      "\u001b[1m443/449\u001b[0m \u001b[32m━━━━━━━━━━━━━━━━━━━\u001b[0m\u001b[37m━\u001b[0m \u001b[1m0s\u001b[0m 8ms/step - accuracy: 1.0000 - loss: 3.1817e-04\n",
      "Epoch 52: val_loss did not improve from 0.00011\n",
      "\u001b[1m449/449\u001b[0m \u001b[32m━━━━━━━━━━━━━━━━━━━━\u001b[0m\u001b[37m\u001b[0m \u001b[1m4s\u001b[0m 9ms/step - accuracy: 1.0000 - loss: 3.1707e-04 - val_accuracy: 0.9997 - val_loss: 2.8552e-04\n",
      "Epoch 53/100\n",
      "\u001b[1m443/449\u001b[0m \u001b[32m━━━━━━━━━━━━━━━━━━━\u001b[0m\u001b[37m━\u001b[0m \u001b[1m0s\u001b[0m 8ms/step - accuracy: 0.9999 - loss: 3.3725e-04\n",
      "Epoch 53: val_loss did not improve from 0.00011\n",
      "\u001b[1m449/449\u001b[0m \u001b[32m━━━━━━━━━━━━━━━━━━━━\u001b[0m\u001b[37m\u001b[0m \u001b[1m4s\u001b[0m 9ms/step - accuracy: 0.9999 - loss: 4.3819e-04 - val_accuracy: 0.9897 - val_loss: 0.0362\n",
      "Epoch 54/100\n",
      "\u001b[1m443/449\u001b[0m \u001b[32m━━━━━━━━━━━━━━━━━━━\u001b[0m\u001b[37m━\u001b[0m \u001b[1m0s\u001b[0m 8ms/step - accuracy: 0.9913 - loss: 0.0246\n",
      "Epoch 54: val_loss did not improve from 0.00011\n",
      "\u001b[1m449/449\u001b[0m \u001b[32m━━━━━━━━━━━━━━━━━━━━\u001b[0m\u001b[37m\u001b[0m \u001b[1m4s\u001b[0m 9ms/step - accuracy: 0.9913 - loss: 0.0246 - val_accuracy: 0.9967 - val_loss: 0.0074\n",
      "Epoch 55/100\n",
      "\u001b[1m444/449\u001b[0m \u001b[32m━━━━━━━━━━━━━━━━━━━\u001b[0m\u001b[37m━\u001b[0m \u001b[1m0s\u001b[0m 8ms/step - accuracy: 0.9969 - loss: 0.0084\n",
      "Epoch 55: val_loss did not improve from 0.00011\n",
      "\u001b[1m449/449\u001b[0m \u001b[32m━━━━━━━━━━━━━━━━━━━━\u001b[0m\u001b[37m\u001b[0m \u001b[1m4s\u001b[0m 9ms/step - accuracy: 0.9969 - loss: 0.0084 - val_accuracy: 1.0000 - val_loss: 1.4756e-04\n",
      "Epoch 56/100\n",
      "\u001b[1m446/449\u001b[0m \u001b[32m━━━━━━━━━━━━━━━━━━━\u001b[0m\u001b[37m━\u001b[0m \u001b[1m0s\u001b[0m 8ms/step - accuracy: 1.0000 - loss: 2.3272e-04\n",
      "Epoch 56: val_loss improved from 0.00011 to 0.00004, saving model to pose_violence_detection.keras\n",
      "\u001b[1m449/449\u001b[0m \u001b[32m━━━━━━━━━━━━━━━━━━━━\u001b[0m\u001b[37m\u001b[0m \u001b[1m4s\u001b[0m 9ms/step - accuracy: 1.0000 - loss: 2.3232e-04 - val_accuracy: 1.0000 - val_loss: 4.0437e-05\n",
      "Epoch 57/100\n",
      "\u001b[1m443/449\u001b[0m \u001b[32m━━━━━━━━━━━━━━━━━━━\u001b[0m\u001b[37m━\u001b[0m \u001b[1m0s\u001b[0m 8ms/step - accuracy: 1.0000 - loss: 5.2230e-05\n",
      "Epoch 57: val_loss improved from 0.00004 to 0.00001, saving model to pose_violence_detection.keras\n",
      "\u001b[1m449/449\u001b[0m \u001b[32m━━━━━━━━━━━━━━━━━━━━\u001b[0m\u001b[37m\u001b[0m \u001b[1m4s\u001b[0m 9ms/step - accuracy: 1.0000 - loss: 5.2077e-05 - val_accuracy: 1.0000 - val_loss: 1.3165e-05\n",
      "Epoch 58/100\n",
      "\u001b[1m443/449\u001b[0m \u001b[32m━━━━━━━━━━━━━━━━━━━\u001b[0m\u001b[37m━\u001b[0m \u001b[1m0s\u001b[0m 8ms/step - accuracy: 1.0000 - loss: 2.2108e-05\n",
      "Epoch 58: val_loss improved from 0.00001 to 0.00001, saving model to pose_violence_detection.keras\n",
      "\u001b[1m449/449\u001b[0m \u001b[32m━━━━━━━━━━━━━━━━━━━━\u001b[0m\u001b[37m\u001b[0m \u001b[1m4s\u001b[0m 9ms/step - accuracy: 1.0000 - loss: 2.2057e-05 - val_accuracy: 1.0000 - val_loss: 8.2567e-06\n",
      "Epoch 59/100\n",
      "\u001b[1m445/449\u001b[0m \u001b[32m━━━━━━━━━━━━━━━━━━━\u001b[0m\u001b[37m━\u001b[0m \u001b[1m0s\u001b[0m 8ms/step - accuracy: 1.0000 - loss: 1.2344e-05\n",
      "Epoch 59: val_loss improved from 0.00001 to 0.00001, saving model to pose_violence_detection.keras\n",
      "\u001b[1m449/449\u001b[0m \u001b[32m━━━━━━━━━━━━━━━━━━━━\u001b[0m\u001b[37m\u001b[0m \u001b[1m4s\u001b[0m 9ms/step - accuracy: 1.0000 - loss: 1.2338e-05 - val_accuracy: 1.0000 - val_loss: 6.1522e-06\n",
      "Epoch 60/100\n",
      "\u001b[1m444/449\u001b[0m \u001b[32m━━━━━━━━━━━━━━━━━━━\u001b[0m\u001b[37m━\u001b[0m \u001b[1m0s\u001b[0m 8ms/step - accuracy: 1.0000 - loss: 1.0230e-05\n",
      "Epoch 60: val_loss improved from 0.00001 to 0.00000, saving model to pose_violence_detection.keras\n",
      "\u001b[1m449/449\u001b[0m \u001b[32m━━━━━━━━━━━━━━━━━━━━\u001b[0m\u001b[37m\u001b[0m \u001b[1m4s\u001b[0m 9ms/step - accuracy: 1.0000 - loss: 1.0250e-05 - val_accuracy: 1.0000 - val_loss: 4.4982e-06\n",
      "Epoch 61/100\n",
      "\u001b[1m443/449\u001b[0m \u001b[32m━━━━━━━━━━━━━━━━━━━\u001b[0m\u001b[37m━\u001b[0m \u001b[1m0s\u001b[0m 8ms/step - accuracy: 1.0000 - loss: 9.0451e-06\n",
      "Epoch 61: val_loss improved from 0.00000 to 0.00000, saving model to pose_violence_detection.keras\n",
      "\u001b[1m449/449\u001b[0m \u001b[32m━━━━━━━━━━━━━━━━━━━━\u001b[0m\u001b[37m\u001b[0m \u001b[1m4s\u001b[0m 9ms/step - accuracy: 1.0000 - loss: 9.0231e-06 - val_accuracy: 1.0000 - val_loss: 2.7977e-06\n",
      "Epoch 62/100\n",
      "\u001b[1m448/449\u001b[0m \u001b[32m━━━━━━━━━━━━━━━━━━━\u001b[0m\u001b[37m━\u001b[0m \u001b[1m0s\u001b[0m 8ms/step - accuracy: 0.9967 - loss: 0.0103\n",
      "Epoch 62: val_loss did not improve from 0.00000\n",
      "\u001b[1m449/449\u001b[0m \u001b[32m━━━━━━━━━━━━━━━━━━━━\u001b[0m\u001b[37m\u001b[0m \u001b[1m4s\u001b[0m 9ms/step - accuracy: 0.9967 - loss: 0.0105 - val_accuracy: 0.9582 - val_loss: 0.1039\n",
      "Epoch 63/100\n",
      "\u001b[1m446/449\u001b[0m \u001b[32m━━━━━━━━━━━━━━━━━━━\u001b[0m\u001b[37m━\u001b[0m \u001b[1m0s\u001b[0m 8ms/step - accuracy: 0.9869 - loss: 0.0401\n",
      "Epoch 63: val_loss did not improve from 0.00000\n",
      "\u001b[1m449/449\u001b[0m \u001b[32m━━━━━━━━━━━━━━━━━━━━\u001b[0m\u001b[37m\u001b[0m \u001b[1m4s\u001b[0m 9ms/step - accuracy: 0.9869 - loss: 0.0400 - val_accuracy: 0.9947 - val_loss: 0.0226\n",
      "Epoch 64/100\n",
      "\u001b[1m446/449\u001b[0m \u001b[32m━━━━━━━━━━━━━━━━━━━\u001b[0m\u001b[37m━\u001b[0m \u001b[1m0s\u001b[0m 8ms/step - accuracy: 0.9887 - loss: 0.0353\n",
      "Epoch 64: val_loss did not improve from 0.00000\n",
      "\u001b[1m449/449\u001b[0m \u001b[32m━━━━━━━━━━━━━━━━━━━━\u001b[0m\u001b[37m\u001b[0m \u001b[1m4s\u001b[0m 9ms/step - accuracy: 0.9887 - loss: 0.0352 - val_accuracy: 0.9983 - val_loss: 0.0049\n",
      "Epoch 65/100\n",
      "\u001b[1m449/449\u001b[0m \u001b[32m━━━━━━━━━━━━━━━━━━━━\u001b[0m\u001b[37m\u001b[0m \u001b[1m0s\u001b[0m 8ms/step - accuracy: 0.9971 - loss: 0.0083\n",
      "Epoch 65: val_loss did not improve from 0.00000\n",
      "\u001b[1m449/449\u001b[0m \u001b[32m━━━━━━━━━━━━━━━━━━━━\u001b[0m\u001b[37m\u001b[0m \u001b[1m4s\u001b[0m 9ms/step - accuracy: 0.9971 - loss: 0.0083 - val_accuracy: 0.9997 - val_loss: 7.8067e-04\n",
      "Epoch 66/100\n",
      "\u001b[1m447/449\u001b[0m \u001b[32m━━━━━━━━━━━━━━━━━━━\u001b[0m\u001b[37m━\u001b[0m \u001b[1m0s\u001b[0m 8ms/step - accuracy: 0.9961 - loss: 0.0159\n",
      "Epoch 66: val_loss did not improve from 0.00000\n",
      "\u001b[1m449/449\u001b[0m \u001b[32m━━━━━━━━━━━━━━━━━━━━\u001b[0m\u001b[37m\u001b[0m \u001b[1m4s\u001b[0m 9ms/step - accuracy: 0.9961 - loss: 0.0160 - val_accuracy: 0.9788 - val_loss: 0.0489\n",
      "Epoch 67/100\n",
      "\u001b[1m443/449\u001b[0m \u001b[32m━━━━━━━━━━━━━━━━━━━\u001b[0m\u001b[37m━\u001b[0m \u001b[1m0s\u001b[0m 8ms/step - accuracy: 0.9966 - loss: 0.0124\n",
      "Epoch 67: val_loss did not improve from 0.00000\n",
      "\u001b[1m449/449\u001b[0m \u001b[32m━━━━━━━━━━━━━━━━━━━━\u001b[0m\u001b[37m\u001b[0m \u001b[1m4s\u001b[0m 9ms/step - accuracy: 0.9966 - loss: 0.0124 - val_accuracy: 0.9889 - val_loss: 0.0417\n",
      "Epoch 68/100\n",
      "\u001b[1m445/449\u001b[0m \u001b[32m━━━━━━━━━━━━━━━━━━━\u001b[0m\u001b[37m━\u001b[0m \u001b[1m0s\u001b[0m 8ms/step - accuracy: 0.9985 - loss: 0.0051\n",
      "Epoch 68: val_loss did not improve from 0.00000\n",
      "\u001b[1m449/449\u001b[0m \u001b[32m━━━━━━━━━━━━━━━━━━━━\u001b[0m\u001b[37m\u001b[0m \u001b[1m4s\u001b[0m 9ms/step - accuracy: 0.9985 - loss: 0.0051 - val_accuracy: 0.9997 - val_loss: 0.0018\n",
      "Epoch 69/100\n",
      "\u001b[1m447/449\u001b[0m \u001b[32m━━━━━━━━━━━━━━━━━━━\u001b[0m\u001b[37m━\u001b[0m \u001b[1m0s\u001b[0m 8ms/step - accuracy: 1.0000 - loss: 1.4234e-04\n",
      "Epoch 69: val_loss did not improve from 0.00000\n",
      "\u001b[1m449/449\u001b[0m \u001b[32m━━━━━━━━━━━━━━━━━━━━\u001b[0m\u001b[37m\u001b[0m \u001b[1m4s\u001b[0m 9ms/step - accuracy: 1.0000 - loss: 1.4219e-04 - val_accuracy: 0.9997 - val_loss: 0.0014\n",
      "Epoch 70/100\n",
      "\u001b[1m444/449\u001b[0m \u001b[32m━━━━━━━━━━━━━━━━━━━\u001b[0m\u001b[37m━\u001b[0m \u001b[1m0s\u001b[0m 8ms/step - accuracy: 1.0000 - loss: 3.9629e-05\n",
      "Epoch 70: val_loss did not improve from 0.00000\n",
      "\u001b[1m449/449\u001b[0m \u001b[32m━━━━━━━━━━━━━━━━━━━━\u001b[0m\u001b[37m\u001b[0m \u001b[1m4s\u001b[0m 9ms/step - accuracy: 1.0000 - loss: 3.9638e-05 - val_accuracy: 0.9997 - val_loss: 0.0013\n",
      "Epoch 71/100\n",
      "\u001b[1m448/449\u001b[0m \u001b[32m━━━━━━━━━━━━━━━━━━━\u001b[0m\u001b[37m━\u001b[0m \u001b[1m0s\u001b[0m 8ms/step - accuracy: 1.0000 - loss: 2.5247e-05\n",
      "Epoch 71: val_loss did not improve from 0.00000\n",
      "\u001b[1m449/449\u001b[0m \u001b[32m━━━━━━━━━━━━━━━━━━━━\u001b[0m\u001b[37m\u001b[0m \u001b[1m4s\u001b[0m 9ms/step - accuracy: 1.0000 - loss: 2.5233e-05 - val_accuracy: 0.9997 - val_loss: 0.0013\n",
      "Epoch 72/100\n",
      "\u001b[1m448/449\u001b[0m \u001b[32m━━━━━━━━━━━━━━━━━━━\u001b[0m\u001b[37m━\u001b[0m \u001b[1m0s\u001b[0m 8ms/step - accuracy: 1.0000 - loss: 1.7629e-05\n",
      "Epoch 72: val_loss did not improve from 0.00000\n",
      "\u001b[1m449/449\u001b[0m \u001b[32m━━━━━━━━━━━━━━━━━━━━\u001b[0m\u001b[37m\u001b[0m \u001b[1m4s\u001b[0m 9ms/step - accuracy: 1.0000 - loss: 1.7612e-05 - val_accuracy: 0.9997 - val_loss: 0.0011\n",
      "Epoch 73/100\n",
      "\u001b[1m445/449\u001b[0m \u001b[32m━━━━━━━━━━━━━━━━━━━\u001b[0m\u001b[37m━\u001b[0m \u001b[1m0s\u001b[0m 8ms/step - accuracy: 1.0000 - loss: 9.8735e-06\n",
      "Epoch 73: val_loss did not improve from 0.00000\n",
      "\u001b[1m449/449\u001b[0m \u001b[32m━━━━━━━━━━━━━━━━━━━━\u001b[0m\u001b[37m\u001b[0m \u001b[1m4s\u001b[0m 9ms/step - accuracy: 1.0000 - loss: 9.8644e-06 - val_accuracy: 0.9997 - val_loss: 7.8933e-04\n",
      "Epoch 74/100\n",
      "\u001b[1m448/449\u001b[0m \u001b[32m━━━━━━━━━━━━━━━━━━━\u001b[0m\u001b[37m━\u001b[0m \u001b[1m0s\u001b[0m 8ms/step - accuracy: 1.0000 - loss: 6.1884e-06\n",
      "Epoch 74: val_loss did not improve from 0.00000\n",
      "\u001b[1m449/449\u001b[0m \u001b[32m━━━━━━━━━━━━━━━━━━━━\u001b[0m\u001b[37m\u001b[0m \u001b[1m4s\u001b[0m 9ms/step - accuracy: 1.0000 - loss: 6.1894e-06 - val_accuracy: 0.9997 - val_loss: 8.4286e-04\n",
      "Epoch 75/100\n",
      "\u001b[1m446/449\u001b[0m \u001b[32m━━━━━━━━━━━━━━━━━━━\u001b[0m\u001b[37m━\u001b[0m \u001b[1m0s\u001b[0m 8ms/step - accuracy: 1.0000 - loss: 1.2434e-05\n",
      "Epoch 75: val_loss did not improve from 0.00000\n",
      "\u001b[1m449/449\u001b[0m \u001b[32m━━━━━━━━━━━━━━━━━━━━\u001b[0m\u001b[37m\u001b[0m \u001b[1m4s\u001b[0m 9ms/step - accuracy: 1.0000 - loss: 1.2412e-05 - val_accuracy: 1.0000 - val_loss: 1.5761e-05\n",
      "Epoch 76/100\n",
      "\u001b[1m448/449\u001b[0m \u001b[32m━━━━━━━━━━━━━━━━━━━\u001b[0m\u001b[37m━\u001b[0m \u001b[1m0s\u001b[0m 8ms/step - accuracy: 0.9967 - loss: 0.0116\n",
      "Epoch 76: val_loss did not improve from 0.00000\n",
      "\u001b[1m449/449\u001b[0m \u001b[32m━━━━━━━━━━━━━━━━━━━━\u001b[0m\u001b[37m\u001b[0m \u001b[1m4s\u001b[0m 9ms/step - accuracy: 0.9967 - loss: 0.0117 - val_accuracy: 0.9936 - val_loss: 0.0187\n",
      "Epoch 77/100\n",
      "\u001b[1m445/449\u001b[0m \u001b[32m━━━━━━━━━━━━━━━━━━━\u001b[0m\u001b[37m━\u001b[0m \u001b[1m0s\u001b[0m 8ms/step - accuracy: 0.9949 - loss: 0.0166\n",
      "Epoch 77: val_loss did not improve from 0.00000\n",
      "\u001b[1m449/449\u001b[0m \u001b[32m━━━━━━━━━━━━━━━━━━━━\u001b[0m\u001b[37m\u001b[0m \u001b[1m4s\u001b[0m 9ms/step - accuracy: 0.9949 - loss: 0.0166 - val_accuracy: 0.9981 - val_loss: 0.0087\n",
      "Epoch 78/100\n",
      "\u001b[1m447/449\u001b[0m \u001b[32m━━━━━━━━━━━━━━━━━━━\u001b[0m\u001b[37m━\u001b[0m \u001b[1m0s\u001b[0m 8ms/step - accuracy: 0.9985 - loss: 0.0056\n",
      "Epoch 78: val_loss did not improve from 0.00000\n",
      "\u001b[1m449/449\u001b[0m \u001b[32m━━━━━━━━━━━━━━━━━━━━\u001b[0m\u001b[37m\u001b[0m \u001b[1m4s\u001b[0m 9ms/step - accuracy: 0.9985 - loss: 0.0056 - val_accuracy: 0.9989 - val_loss: 0.0033\n",
      "Epoch 79/100\n",
      "\u001b[1m447/449\u001b[0m \u001b[32m━━━━━━━━━━━━━━━━━━━\u001b[0m\u001b[37m━\u001b[0m \u001b[1m0s\u001b[0m 8ms/step - accuracy: 0.9995 - loss: 0.0014\n",
      "Epoch 79: val_loss did not improve from 0.00000\n",
      "\u001b[1m449/449\u001b[0m \u001b[32m━━━━━━━━━━━━━━━━━━━━\u001b[0m\u001b[37m\u001b[0m \u001b[1m4s\u001b[0m 9ms/step - accuracy: 0.9995 - loss: 0.0014 - val_accuracy: 1.0000 - val_loss: 1.3043e-04\n",
      "Epoch 80/100\n",
      "\u001b[1m448/449\u001b[0m \u001b[32m━━━━━━━━━━━━━━━━━━━\u001b[0m\u001b[37m━\u001b[0m \u001b[1m0s\u001b[0m 8ms/step - accuracy: 1.0000 - loss: 8.9897e-05\n",
      "Epoch 80: val_loss did not improve from 0.00000\n",
      "\u001b[1m449/449\u001b[0m \u001b[32m━━━━━━━━━━━━━━━━━━━━\u001b[0m\u001b[37m\u001b[0m \u001b[1m4s\u001b[0m 9ms/step - accuracy: 1.0000 - loss: 9.3279e-05 - val_accuracy: 0.9992 - val_loss: 0.0018\n",
      "Epoch 81/100\n",
      "\u001b[1m447/449\u001b[0m \u001b[32m━━━━━━━━━━━━━━━━━━━\u001b[0m\u001b[37m━\u001b[0m \u001b[1m0s\u001b[0m 8ms/step - accuracy: 0.9923 - loss: 0.0277\n",
      "Epoch 81: val_loss did not improve from 0.00000\n",
      "\u001b[1m449/449\u001b[0m \u001b[32m━━━━━━━━━━━━━━━━━━━━\u001b[0m\u001b[37m\u001b[0m \u001b[1m4s\u001b[0m 9ms/step - accuracy: 0.9923 - loss: 0.0277 - val_accuracy: 0.9983 - val_loss: 0.0080\n",
      "Epoch 82/100\n",
      "\u001b[1m443/449\u001b[0m \u001b[32m━━━━━━━━━━━━━━━━━━━\u001b[0m\u001b[37m━\u001b[0m \u001b[1m0s\u001b[0m 8ms/step - accuracy: 0.9937 - loss: 0.0226\n",
      "Epoch 82: val_loss did not improve from 0.00000\n",
      "\u001b[1m449/449\u001b[0m \u001b[32m━━━━━━━━━━━━━━━━━━━━\u001b[0m\u001b[37m\u001b[0m \u001b[1m4s\u001b[0m 9ms/step - accuracy: 0.9938 - loss: 0.0224 - val_accuracy: 1.0000 - val_loss: 1.5221e-04\n",
      "Epoch 83/100\n",
      "\u001b[1m448/449\u001b[0m \u001b[32m━━━━━━━━━━━━━━━━━━━\u001b[0m\u001b[37m━\u001b[0m \u001b[1m0s\u001b[0m 8ms/step - accuracy: 1.0000 - loss: 1.7475e-04\n",
      "Epoch 83: val_loss did not improve from 0.00000\n",
      "\u001b[1m449/449\u001b[0m \u001b[32m━━━━━━━━━━━━━━━━━━━━\u001b[0m\u001b[37m\u001b[0m \u001b[1m4s\u001b[0m 9ms/step - accuracy: 1.0000 - loss: 1.7456e-04 - val_accuracy: 1.0000 - val_loss: 5.5702e-05\n",
      "Epoch 84/100\n",
      "\u001b[1m445/449\u001b[0m \u001b[32m━━━━━━━━━━━━━━━━━━━\u001b[0m\u001b[37m━\u001b[0m \u001b[1m0s\u001b[0m 8ms/step - accuracy: 1.0000 - loss: 5.7106e-05\n",
      "Epoch 84: val_loss did not improve from 0.00000\n",
      "\u001b[1m449/449\u001b[0m \u001b[32m━━━━━━━━━━━━━━━━━━━━\u001b[0m\u001b[37m\u001b[0m \u001b[1m4s\u001b[0m 9ms/step - accuracy: 1.0000 - loss: 5.7105e-05 - val_accuracy: 1.0000 - val_loss: 7.3710e-05\n",
      "Epoch 85/100\n",
      "\u001b[1m447/449\u001b[0m \u001b[32m━━━━━━━━━━━━━━━━━━━\u001b[0m\u001b[37m━\u001b[0m \u001b[1m0s\u001b[0m 8ms/step - accuracy: 1.0000 - loss: 3.7857e-05\n",
      "Epoch 85: val_loss did not improve from 0.00000\n",
      "\u001b[1m449/449\u001b[0m \u001b[32m━━━━━━━━━━━━━━━━━━━━\u001b[0m\u001b[37m\u001b[0m \u001b[1m4s\u001b[0m 9ms/step - accuracy: 1.0000 - loss: 3.7806e-05 - val_accuracy: 1.0000 - val_loss: 2.5089e-05\n",
      "Epoch 86/100\n",
      "\u001b[1m447/449\u001b[0m \u001b[32m━━━━━━━━━━━━━━━━━━━\u001b[0m\u001b[37m━\u001b[0m \u001b[1m0s\u001b[0m 8ms/step - accuracy: 1.0000 - loss: 1.7774e-05\n",
      "Epoch 86: val_loss did not improve from 0.00000\n",
      "\u001b[1m449/449\u001b[0m \u001b[32m━━━━━━━━━━━━━━━━━━━━\u001b[0m\u001b[37m\u001b[0m \u001b[1m4s\u001b[0m 9ms/step - accuracy: 1.0000 - loss: 1.7775e-05 - val_accuracy: 1.0000 - val_loss: 1.9158e-05\n",
      "Epoch 87/100\n",
      "\u001b[1m447/449\u001b[0m \u001b[32m━━━━━━━━━━━━━━━━━━━\u001b[0m\u001b[37m━\u001b[0m \u001b[1m0s\u001b[0m 8ms/step - accuracy: 1.0000 - loss: 2.4733e-05\n",
      "Epoch 87: val_loss did not improve from 0.00000\n",
      "\u001b[1m449/449\u001b[0m \u001b[32m━━━━━━━━━━━━━━━━━━━━\u001b[0m\u001b[37m\u001b[0m \u001b[1m4s\u001b[0m 9ms/step - accuracy: 1.0000 - loss: 2.4673e-05 - val_accuracy: 1.0000 - val_loss: 1.0084e-05\n",
      "Epoch 88/100\n",
      "\u001b[1m444/449\u001b[0m \u001b[32m━━━━━━━━━━━━━━━━━━━\u001b[0m\u001b[37m━\u001b[0m \u001b[1m0s\u001b[0m 8ms/step - accuracy: 1.0000 - loss: 1.0754e-05\n",
      "Epoch 88: val_loss did not improve from 0.00000\n",
      "\u001b[1m449/449\u001b[0m \u001b[32m━━━━━━━━━━━━━━━━━━━━\u001b[0m\u001b[37m\u001b[0m \u001b[1m4s\u001b[0m 9ms/step - accuracy: 1.0000 - loss: 1.0736e-05 - val_accuracy: 1.0000 - val_loss: 7.8750e-06\n",
      "Epoch 89/100\n",
      "\u001b[1m447/449\u001b[0m \u001b[32m━━━━━━━━━━━━━━━━━━━\u001b[0m\u001b[37m━\u001b[0m \u001b[1m0s\u001b[0m 8ms/step - accuracy: 1.0000 - loss: 6.3521e-06\n",
      "Epoch 89: val_loss did not improve from 0.00000\n",
      "\u001b[1m449/449\u001b[0m \u001b[32m━━━━━━━━━━━━━━━━━━━━\u001b[0m\u001b[37m\u001b[0m \u001b[1m4s\u001b[0m 9ms/step - accuracy: 1.0000 - loss: 6.3497e-06 - val_accuracy: 1.0000 - val_loss: 6.3304e-06\n",
      "Epoch 90/100\n",
      "\u001b[1m444/449\u001b[0m \u001b[32m━━━━━━━━━━━━━━━━━━━\u001b[0m\u001b[37m━\u001b[0m \u001b[1m0s\u001b[0m 8ms/step - accuracy: 1.0000 - loss: 5.8678e-06\n",
      "Epoch 90: val_loss did not improve from 0.00000\n",
      "\u001b[1m449/449\u001b[0m \u001b[32m━━━━━━━━━━━━━━━━━━━━\u001b[0m\u001b[37m\u001b[0m \u001b[1m4s\u001b[0m 9ms/step - accuracy: 1.0000 - loss: 5.8641e-06 - val_accuracy: 1.0000 - val_loss: 9.8607e-06\n",
      "Epoch 91/100\n",
      "\u001b[1m447/449\u001b[0m \u001b[32m━━━━━━━━━━━━━━━━━━━\u001b[0m\u001b[37m━\u001b[0m \u001b[1m0s\u001b[0m 8ms/step - accuracy: 1.0000 - loss: 4.8794e-06\n",
      "Epoch 91: val_loss did not improve from 0.00000\n",
      "\u001b[1m449/449\u001b[0m \u001b[32m━━━━━━━━━━━━━━━━━━━━\u001b[0m\u001b[37m\u001b[0m \u001b[1m4s\u001b[0m 9ms/step - accuracy: 1.0000 - loss: 4.8811e-06 - val_accuracy: 1.0000 - val_loss: 8.2023e-06\n",
      "Epoch 92/100\n",
      "\u001b[1m447/449\u001b[0m \u001b[32m━━━━━━━━━━━━━━━━━━━\u001b[0m\u001b[37m━\u001b[0m \u001b[1m0s\u001b[0m 8ms/step - accuracy: 1.0000 - loss: 4.0048e-06\n",
      "Epoch 92: val_loss did not improve from 0.00000\n",
      "\u001b[1m449/449\u001b[0m \u001b[32m━━━━━━━━━━━━━━━━━━━━\u001b[0m\u001b[37m\u001b[0m \u001b[1m4s\u001b[0m 9ms/step - accuracy: 1.0000 - loss: 4.0040e-06 - val_accuracy: 1.0000 - val_loss: 4.9577e-06\n",
      "Epoch 93/100\n",
      "\u001b[1m449/449\u001b[0m \u001b[32m━━━━━━━━━━━━━━━━━━━━\u001b[0m\u001b[37m\u001b[0m \u001b[1m0s\u001b[0m 8ms/step - accuracy: 1.0000 - loss: 2.0327e-06\n",
      "Epoch 93: val_loss did not improve from 0.00000\n",
      "\u001b[1m449/449\u001b[0m \u001b[32m━━━━━━━━━━━━━━━━━━━━\u001b[0m\u001b[37m\u001b[0m \u001b[1m4s\u001b[0m 9ms/step - accuracy: 1.0000 - loss: 2.0327e-06 - val_accuracy: 1.0000 - val_loss: 8.3760e-06\n",
      "Epoch 94/100\n",
      "\u001b[1m447/449\u001b[0m \u001b[32m━━━━━━━━━━━━━━━━━━━\u001b[0m\u001b[37m━\u001b[0m \u001b[1m0s\u001b[0m 8ms/step - accuracy: 1.0000 - loss: 1.2975e-06\n",
      "Epoch 94: val_loss did not improve from 0.00000\n",
      "\u001b[1m449/449\u001b[0m \u001b[32m━━━━━━━━━━━━━━━━━━━━\u001b[0m\u001b[37m\u001b[0m \u001b[1m4s\u001b[0m 9ms/step - accuracy: 1.0000 - loss: 1.2976e-06 - val_accuracy: 1.0000 - val_loss: 5.5871e-06\n",
      "Epoch 95/100\n",
      "\u001b[1m445/449\u001b[0m \u001b[32m━━━━━━━━━━━━━━━━━━━\u001b[0m\u001b[37m━\u001b[0m \u001b[1m0s\u001b[0m 8ms/step - accuracy: 1.0000 - loss: 1.1214e-06\n",
      "Epoch 95: val_loss did not improve from 0.00000\n",
      "\u001b[1m449/449\u001b[0m \u001b[32m━━━━━━━━━━━━━━━━━━━━\u001b[0m\u001b[37m\u001b[0m \u001b[1m4s\u001b[0m 9ms/step - accuracy: 1.0000 - loss: 1.1222e-06 - val_accuracy: 1.0000 - val_loss: 3.2598e-06\n",
      "Epoch 96/100\n",
      "\u001b[1m443/449\u001b[0m \u001b[32m━━━━━━━━━━━━━━━━━━━\u001b[0m\u001b[37m━\u001b[0m \u001b[1m0s\u001b[0m 8ms/step - accuracy: 1.0000 - loss: 1.0459e-06\n",
      "Epoch 96: val_loss did not improve from 0.00000\n",
      "\u001b[1m449/449\u001b[0m \u001b[32m━━━━━━━━━━━━━━━━━━━━\u001b[0m\u001b[37m\u001b[0m \u001b[1m4s\u001b[0m 9ms/step - accuracy: 1.0000 - loss: 1.0534e-06 - val_accuracy: 1.0000 - val_loss: 9.2361e-06\n",
      "Epoch 97/100\n",
      "\u001b[1m443/449\u001b[0m \u001b[32m━━━━━━━━━━━━━━━━━━━\u001b[0m\u001b[37m━\u001b[0m \u001b[1m0s\u001b[0m 8ms/step - accuracy: 1.0000 - loss: 8.6461e-07\n",
      "Epoch 97: val_loss did not improve from 0.00000\n",
      "\u001b[1m449/449\u001b[0m \u001b[32m━━━━━━━━━━━━━━━━━━━━\u001b[0m\u001b[37m\u001b[0m \u001b[1m4s\u001b[0m 9ms/step - accuracy: 1.0000 - loss: 8.6611e-07 - val_accuracy: 1.0000 - val_loss: 1.2618e-05\n",
      "Epoch 98/100\n",
      "\u001b[1m447/449\u001b[0m \u001b[32m━━━━━━━━━━━━━━━━━━━\u001b[0m\u001b[37m━\u001b[0m \u001b[1m0s\u001b[0m 8ms/step - accuracy: 1.0000 - loss: 9.1181e-07\n",
      "Epoch 98: val_loss improved from 0.00000 to 0.00000, saving model to pose_violence_detection.keras\n",
      "\u001b[1m449/449\u001b[0m \u001b[32m━━━━━━━━━━━━━━━━━━━━\u001b[0m\u001b[37m\u001b[0m \u001b[1m4s\u001b[0m 9ms/step - accuracy: 1.0000 - loss: 9.1214e-07 - val_accuracy: 1.0000 - val_loss: 2.1258e-07\n",
      "Epoch 99/100\n",
      "\u001b[1m443/449\u001b[0m \u001b[32m━━━━━━━━━━━━━━━━━━━\u001b[0m\u001b[37m━\u001b[0m \u001b[1m0s\u001b[0m 8ms/step - accuracy: 1.0000 - loss: 3.5111e-07\n",
      "Epoch 99: val_loss did not improve from 0.00000\n",
      "\u001b[1m449/449\u001b[0m \u001b[32m━━━━━━━━━━━━━━━━━━━━\u001b[0m\u001b[37m\u001b[0m \u001b[1m4s\u001b[0m 9ms/step - accuracy: 1.0000 - loss: 3.5200e-07 - val_accuracy: 1.0000 - val_loss: 8.3320e-07\n",
      "Epoch 100/100\n",
      "\u001b[1m444/449\u001b[0m \u001b[32m━━━━━━━━━━━━━━━━━━━\u001b[0m\u001b[37m━\u001b[0m \u001b[1m0s\u001b[0m 8ms/step - accuracy: 0.9961 - loss: 0.0140\n",
      "Epoch 100: val_loss did not improve from 0.00000\n",
      "\u001b[1m449/449\u001b[0m \u001b[32m━━━━━━━━━━━━━━━━━━━━\u001b[0m\u001b[37m\u001b[0m \u001b[1m4s\u001b[0m 9ms/step - accuracy: 0.9959 - loss: 0.0146 - val_accuracy: 0.9855 - val_loss: 0.0513\n"
     ]
    }
   ],
   "source": [
    "history = model.fit(X_train, y_train, \n",
    "                    epochs=100, \n",
    "                    batch_size=32, \n",
    "                    validation_data=(X_test, y_test),\n",
    "                    callbacks=[checkpoint_callback])"
   ]
  },
  {
   "cell_type": "code",
   "execution_count": 13,
   "metadata": {
    "execution": {
     "iopub.execute_input": "2025-04-20T08:55:04.472333Z",
     "iopub.status.busy": "2025-04-20T08:55:04.472021Z",
     "iopub.status.idle": "2025-04-20T08:55:04.477034Z",
     "shell.execute_reply": "2025-04-20T08:55:04.476403Z",
     "shell.execute_reply.started": "2025-04-20T08:55:04.472313Z"
    },
    "trusted": true
   },
   "outputs": [],
   "source": [
    "def plot_metric(model_training_history, metric_name_1, metric_name_2, plot_name):\n",
    "    metric_value_1 = model_training_history.history[metric_name_1]\n",
    "    metric_value_2 = model_training_history.history[metric_name_2]\n",
    "    epochs = range(len(metric_value_1))\n",
    "\n",
    "    plt.plot(epochs, metric_value_1, 'blue', label=metric_name_1)\n",
    "    plt.plot(epochs, metric_value_2, 'orange', label=metric_name_2)\n",
    "    plt.title(str(plot_name))\n",
    "    plt.legend()"
   ]
  },
  {
   "cell_type": "code",
   "execution_count": 14,
   "metadata": {
    "execution": {
     "iopub.execute_input": "2025-04-20T08:55:04.479395Z",
     "iopub.status.busy": "2025-04-20T08:55:04.479197Z",
     "iopub.status.idle": "2025-04-20T08:55:04.960691Z",
     "shell.execute_reply": "2025-04-20T08:55:04.959902Z",
     "shell.execute_reply.started": "2025-04-20T08:55:04.479379Z"
    },
    "trusted": true
   },
   "outputs": [
    {
     "data": {
      "image/png": "[encoded data removed]",
      "text/plain": [
       "<Figure size 640x480 with 1 Axes>"
      ]
     },
     "metadata": {},
     "output_type": "display_data"
    }
   ],
   "source": [
    "plot_metric(history, 'loss', 'val_loss', 'Total Loss vs Total Validation Loss')"
   ]
  },
  {
   "cell_type": "code",
   "execution_count": 15,
   "metadata": {
    "execution": {
     "iopub.execute_input": "2025-04-20T08:55:04.961791Z",
     "iopub.status.busy": "2025-04-20T08:55:04.961504Z",
     "iopub.status.idle": "2025-04-20T08:55:05.149684Z",
     "shell.execute_reply": "2025-04-20T08:55:05.149041Z",
     "shell.execute_reply.started": "2025-04-20T08:55:04.961765Z"
    },
    "trusted": true
   },
   "outputs": [
    {
     "data": {
      "image/png": "[encoded data removed]",
      "text/plain": [
       "<Figure size 640x480 with 1 Axes>"
      ]
     },
     "metadata": {},
     "output_type": "display_data"
    }
   ],
   "source": [
    "plot_metric(history, 'accuracy', 'val_accuracy', 'Train Accuracy vs Validation Accuracy')"
   ]
  },
  {
   "cell_type": "code",
   "execution_count": 16,
   "metadata": {
    "execution": {
     "iopub.execute_input": "2025-04-20T08:55:05.150675Z",
     "iopub.status.busy": "2025-04-20T08:55:05.150437Z",
     "iopub.status.idle": "2025-04-20T08:55:05.201770Z",
     "shell.execute_reply": "2025-04-20T08:55:05.201173Z",
     "shell.execute_reply.started": "2025-04-20T08:55:05.150657Z"
    },
    "trusted": true
   },
   "outputs": [],
   "source": [
    "model.save_weights('poseLSTM.weights.h5')"
   ]
  },
  {
   "cell_type": "code",
   "execution_count": null,
   "metadata": {
    "trusted": true
   },
   "outputs": [],
   "source": []
  }
 ],
 "metadata": {
  "kaggle": {
   "accelerator": "nvidiaTeslaT4",
   "dataSources": [
    {
     "datasetId": 7129135,
     "sourceId": 11385216,
     "sourceType": "datasetVersion"
    },
    {
     "datasetId": 7129402,
     "sourceId": 11385576,
     "sourceType": "datasetVersion"
    },
    {
     "datasetId": 7138800,
     "sourceId": 11398391,
     "sourceType": "datasetVersion"
    },
    {
     "datasetId": 7185297,
     "sourceId": 11466034,
     "sourceType": "datasetVersion"
    },
    {
     "datasetId": 7192757,
     "sourceId": 11476502,
     "sourceType": "datasetVersion"
    },
    {
     "datasetId": 7193903,
     "sourceId": 11478057,
     "sourceType": "datasetVersion"
    },
    {
     "datasetId": 7197695,
     "sourceId": 11483999,
     "sourceType": "datasetVersion"
    }
   ],
   "dockerImageVersionId": 31011,
   "isGpuEnabled": true,
   "isInternetEnabled": true,
   "language": "python",
   "sourceType": "notebook"
  },
  "kernelspec": {
   "display_name": "Python 3",
   "language": "python",
   "name": "python3"
  },
  "language_info": {
   "codemirror_mode": {
    "name": "ipython",
    "version": 3
   },
   "file_extension": ".py",
   "mimetype": "text/x-python",
   "name": "python",
   "nbconvert_exporter": "python",
   "pygments_lexer": "ipython3",
   "version": "3.11.11"
  }
 },
 "nbformat": 4,
 "nbformat_minor": 4
}
