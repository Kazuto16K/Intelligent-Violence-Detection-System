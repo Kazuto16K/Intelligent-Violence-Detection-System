{
 "cells": [
  {
   "cell_type": "markdown",
   "metadata": {},
   "source": [
    "## Setting Data Directory"
   ]
  },
  {
   "cell_type": "code",
   "execution_count": 4,
   "metadata": {
    "_cell_guid": "b1076dfc-b9ad-4769-8c92-a6c4dae69d19",
    "_uuid": "8f2839f25d086af736a60e9eeb907d3b93b6e0e5",
    "execution": {
     "iopub.execute_input": "2025-04-05T15:19:57.891434Z",
     "iopub.status.busy": "2025-04-05T15:19:57.891073Z",
     "iopub.status.idle": "2025-04-05T15:19:57.895773Z",
     "shell.execute_reply": "2025-04-05T15:19:57.894886Z",
     "shell.execute_reply.started": "2025-04-05T15:19:57.891399Z"
    },
    "trusted": true
   },
   "outputs": [],
   "source": [
    "data_dir = '/kaggle/input/violence-nonviolence/Real_Life_Violence_Dataset'"
   ]
  },
  {
   "cell_type": "markdown",
   "metadata": {},
   "source": [
    "## Setting Imports"
   ]
  },
  {
   "cell_type": "code",
   "execution_count": 5,
   "metadata": {
    "execution": {
     "iopub.execute_input": "2025-04-05T15:19:57.897566Z",
     "iopub.status.busy": "2025-04-05T15:19:57.897251Z",
     "iopub.status.idle": "2025-04-05T15:20:05.966164Z",
     "shell.execute_reply": "2025-04-05T15:20:05.965468Z",
     "shell.execute_reply.started": "2025-04-05T15:19:57.897538Z"
    },
    "trusted": true
   },
   "outputs": [],
   "source": [
    "import os\n",
    "import tensorflow as tf\n",
    "from tensorflow.keras.applications import Xception\n",
    "from tensorflow.keras.layers import Dense, GlobalAveragePooling2D, LSTM, TimeDistributed, Input\n",
    "from tensorflow.keras.callbacks import ModelCheckpoint, EarlyStopping\n",
    "from tensorflow.keras.models import Model\n",
    "import numpy as np\n",
    "from matplotlib import pyplot as plt\n",
    "import cv2"
   ]
  },
  {
   "cell_type": "markdown",
   "metadata": {},
   "source": [
    "## Setting Constants"
   ]
  },
  {
   "cell_type": "code",
   "execution_count": 6,
   "metadata": {
    "execution": {
     "iopub.execute_input": "2025-04-05T15:20:05.968225Z",
     "iopub.status.busy": "2025-04-05T15:20:05.967678Z",
     "iopub.status.idle": "2025-04-05T15:20:05.972444Z",
     "shell.execute_reply": "2025-04-05T15:20:05.971502Z",
     "shell.execute_reply.started": "2025-04-05T15:20:05.968195Z"
    },
    "trusted": true
   },
   "outputs": [],
   "source": [
    "img_height, img_width= 100,100  \n",
    "seed = 42\n",
    "batch_size = 8\n",
    "SEQUENCE_LEGNTH = 16\n",
    "CLASS_LIST = ['Violence','NonViolence']"
   ]
  },
  {
   "cell_type": "code",
   "execution_count": 7,
   "metadata": {
    "execution": {
     "iopub.execute_input": "2025-04-05T15:20:05.974004Z",
     "iopub.status.busy": "2025-04-05T15:20:05.973627Z",
     "iopub.status.idle": "2025-04-05T15:20:06.001795Z",
     "shell.execute_reply": "2025-04-05T15:20:06.000605Z",
     "shell.execute_reply.started": "2025-04-05T15:20:05.973959Z"
    },
    "trusted": true
   },
   "outputs": [
    {
     "name": "stdout",
     "output_type": "stream",
     "text": [
      "2.16.1\n"
     ]
    }
   ],
   "source": [
    "print(tf.__version__)"
   ]
  },
  {
   "cell_type": "markdown",
   "metadata": {},
   "source": [
    "## Data Preprocessing"
   ]
  },
  {
   "cell_type": "code",
   "execution_count": null,
   "metadata": {
    "execution": {
     "iopub.execute_input": "2025-04-05T15:20:06.003735Z",
     "iopub.status.busy": "2025-04-05T15:20:06.003459Z",
     "iopub.status.idle": "2025-04-05T15:20:06.014802Z",
     "shell.execute_reply": "2025-04-05T15:20:06.013988Z",
     "shell.execute_reply.started": "2025-04-05T15:20:06.003710Z"
    },
    "trusted": true
   },
   "outputs": [],
   "source": [
    "def extract_frames(video_path):\n",
    "    \n",
    "    frames = []\n",
    "    video_reader = cv2.VideoCapture(video_path)\n",
    "    total_frames = int(video_reader.get(cv2.CAP_PROP_FRAME_COUNT))\n",
    "    frame_interval = max(total_frames//SEQUENCE_LEGNTH,1)\n",
    "    \n",
    "    for i in range(SEQUENCE_LEGNTH):\n",
    "        \n",
    "        video_reader.set(cv2.CAP_PROP_POS_FRAMES, i * frame_interval)\n",
    "        \n",
    "        ret,frame = video_reader.read()\n",
    "        if not ret:\n",
    "            break\n",
    "            \n",
    "        resized_frame = cv2.resize(frame,(img_height,img_width))\n",
    "        \n",
    "        normalized_frame = resized_frame / 255.0\n",
    "        \n",
    "        frames.append(normalized_frame)\n",
    "        \n",
    "    video_reader.release()\n",
    "    \n",
    "    return frames\n",
    "        "
   ]
  },
  {
   "cell_type": "code",
   "execution_count": null,
   "metadata": {
    "execution": {
     "iopub.execute_input": "2025-04-05T15:20:06.016196Z",
     "iopub.status.busy": "2025-04-05T15:20:06.015958Z",
     "iopub.status.idle": "2025-04-05T15:20:06.036317Z",
     "shell.execute_reply": "2025-04-05T15:20:06.035538Z",
     "shell.execute_reply.started": "2025-04-05T15:20:06.016173Z"
    },
    "trusted": true
   },
   "outputs": [],
   "source": [
    "def create_dataset(max_vid_per_class = 750):\n",
    "    \n",
    "    features = []\n",
    "    labels = []\n",
    "    \n",
    "    for class_index,class_name in enumerate(CLASS_LIST):\n",
    "        \n",
    "        print(f\"Extracting Data of Class:{class_name}\")\n",
    "        \n",
    "        files_list = os.listdir(os.path.join(data_dir,class_name))\n",
    "        \n",
    "        count = 0\n",
    "        for filename in files_list:\n",
    "            if count >= max_vid_per_class:\n",
    "                break\n",
    "            \n",
    "            video_path = os.path.join(data_dir,class_name,filename)\n",
    "            frames = extract_frames(video_path)\n",
    "            \n",
    "            if len(frames) == SEQUENCE_LEGNTH:\n",
    "                \n",
    "                features.append(frames)\n",
    "                labels.append(class_index)\n",
    "                count += 1\n",
    "                \n",
    "    features = np.asarray(features)\n",
    "    labels = np.array(labels)\n",
    "    \n",
    "    return features, labels "
   ]
  },
  {
   "cell_type": "code",
   "execution_count": 10,
   "metadata": {
    "execution": {
     "iopub.execute_input": "2025-04-05T15:20:06.037987Z",
     "iopub.status.busy": "2025-04-05T15:20:06.037385Z",
     "iopub.status.idle": "2025-04-05T15:33:32.437930Z",
     "shell.execute_reply": "2025-04-05T15:33:32.437222Z",
     "shell.execute_reply.started": "2025-04-05T15:20:06.037960Z"
    },
    "trusted": true
   },
   "outputs": [
    {
     "name": "stdout",
     "output_type": "stream",
     "text": [
      "Extracting Data of Class:Violence\n",
      "Extracting Data of Class:NonViolence\n"
     ]
    },
    {
     "name": "stderr",
     "output_type": "stream",
     "text": [
      "[h264 @ 0x5c3c9dfe5680] mb_type 104 in P slice too large at 98 31\n",
      "[h264 @ 0x5c3c9dfe5680] error while decoding MB 98 31\n",
      "[h264 @ 0x5c3c9dfe5680] mb_type 104 in P slice too large at 98 31\n",
      "[h264 @ 0x5c3c9dfe5680] error while decoding MB 98 31\n",
      "[h264 @ 0x5c3c9dfe5680] mb_type 104 in P slice too large at 98 31\n",
      "[h264 @ 0x5c3c9dfe5680] error while decoding MB 98 31\n",
      "[h264 @ 0x5c3c9dfe5680] mb_type 104 in P slice too large at 98 31\n",
      "[h264 @ 0x5c3c9dfe5680] error while decoding MB 98 31\n"
     ]
    }
   ],
   "source": [
    "features,labels=create_dataset()"
   ]
  },
  {
   "cell_type": "markdown",
   "metadata": {},
   "source": [
    "## Extracting features"
   ]
  },
  {
   "cell_type": "code",
   "execution_count": 11,
   "metadata": {
    "execution": {
     "iopub.execute_input": "2025-04-05T15:33:32.490988Z",
     "iopub.status.busy": "2025-04-05T15:33:32.490706Z",
     "iopub.status.idle": "2025-04-05T15:33:40.766397Z",
     "shell.execute_reply": "2025-04-05T15:33:40.765276Z",
     "shell.execute_reply.started": "2025-04-05T15:33:32.490961Z"
    },
    "trusted": true
   },
   "outputs": [],
   "source": [
    "np.save('features.npy',features)\n",
    "np.save('labels.npy',labels)"
   ]
  },
  {
   "cell_type": "code",
   "execution_count": 12,
   "metadata": {
    "execution": {
     "iopub.execute_input": "2025-04-05T15:33:40.768825Z",
     "iopub.status.busy": "2025-04-05T15:33:40.767892Z",
     "iopub.status.idle": "2025-04-05T15:33:40.772567Z",
     "shell.execute_reply": "2025-04-05T15:33:40.771685Z",
     "shell.execute_reply.started": "2025-04-05T15:33:40.768775Z"
    },
    "trusted": true
   },
   "outputs": [],
   "source": [
    "#features = np.load('/kaggle/working/features.npy')\n",
    "#labels = np.load('/kaggle/working/labels.npy')"
   ]
  },
  {
   "cell_type": "markdown",
   "metadata": {},
   "source": [
    "### One Hot Encoding Labels"
   ]
  },
  {
   "cell_type": "code",
   "execution_count": 13,
   "metadata": {
    "execution": {
     "iopub.execute_input": "2025-04-05T15:33:40.773932Z",
     "iopub.status.busy": "2025-04-05T15:33:40.773570Z",
     "iopub.status.idle": "2025-04-05T15:33:46.256513Z",
     "shell.execute_reply": "2025-04-05T15:33:46.255792Z",
     "shell.execute_reply.started": "2025-04-05T15:33:40.773889Z"
    },
    "trusted": true
   },
   "outputs": [],
   "source": [
    "from tensorflow.keras.utils import to_categorical\n",
    "from sklearn.model_selection import train_test_split\n"
   ]
  },
  {
   "cell_type": "code",
   "execution_count": 14,
   "metadata": {
    "execution": {
     "iopub.execute_input": "2025-04-05T15:33:46.259647Z",
     "iopub.status.busy": "2025-04-05T15:33:46.259132Z",
     "iopub.status.idle": "2025-04-05T15:34:01.239097Z",
     "shell.execute_reply": "2025-04-05T15:34:01.238345Z",
     "shell.execute_reply.started": "2025-04-05T15:33:46.259616Z"
    },
    "trusted": true
   },
   "outputs": [],
   "source": [
    "features_train,features_temp,labels_train,labels_temp = train_test_split(features, labels, \n",
    "                                                                        test_size=0.2,shuffle=True,\n",
    "                                                                        random_state=seed)"
   ]
  },
  {
   "cell_type": "code",
   "execution_count": 15,
   "metadata": {
    "execution": {
     "iopub.execute_input": "2025-04-05T15:34:01.240277Z",
     "iopub.status.busy": "2025-04-05T15:34:01.240022Z",
     "iopub.status.idle": "2025-04-05T15:34:02.613490Z",
     "shell.execute_reply": "2025-04-05T15:34:02.612798Z",
     "shell.execute_reply.started": "2025-04-05T15:34:01.240251Z"
    },
    "trusted": true
   },
   "outputs": [],
   "source": [
    "features_val,features_test,labels_val,labels_test = train_test_split(features_temp, labels_temp, \n",
    "                                                                        test_size=0.5,shuffle=True,\n",
    "                                                                        random_state=seed)"
   ]
  },
  {
   "cell_type": "code",
   "execution_count": 16,
   "metadata": {
    "execution": {
     "iopub.execute_input": "2025-04-05T15:34:02.614754Z",
     "iopub.status.busy": "2025-04-05T15:34:02.614486Z",
     "iopub.status.idle": "2025-04-05T15:34:02.619965Z",
     "shell.execute_reply": "2025-04-05T15:34:02.619170Z",
     "shell.execute_reply.started": "2025-04-05T15:34:02.614729Z"
    },
    "trusted": true
   },
   "outputs": [],
   "source": [
    "ohc_labels_train = to_categorical(labels_train)\n",
    "ohc_labels_val = to_categorical(labels_val)\n",
    "ohc_labels_test = to_categorical(labels_test)"
   ]
  },
  {
   "cell_type": "markdown",
   "metadata": {},
   "source": [
    "## Creating the Xception Model + LSTM"
   ]
  },
  {
   "cell_type": "code",
   "execution_count": 17,
   "metadata": {
    "execution": {
     "iopub.execute_input": "2025-04-05T15:34:02.621074Z",
     "iopub.status.busy": "2025-04-05T15:34:02.620859Z",
     "iopub.status.idle": "2025-04-05T15:34:05.828483Z",
     "shell.execute_reply": "2025-04-05T15:34:05.827768Z",
     "shell.execute_reply.started": "2025-04-05T15:34:02.621053Z"
    },
    "trusted": true
   },
   "outputs": [
    {
     "name": "stdout",
     "output_type": "stream",
     "text": [
      "Downloading data from https://storage.googleapis.com/tensorflow/keras-applications/xception/xception_weights_tf_dim_ordering_tf_kernels_notop.h5\n",
      "\u001b[1m83683744/83683744\u001b[0m \u001b[32m━━━━━━━━━━━━━━━━━━━━\u001b[0m\u001b[37m\u001b[0m \u001b[1m0s\u001b[0m 0us/step\n"
     ]
    }
   ],
   "source": [
    "base_model = Xception(\n",
    "    include_top=False, \n",
    "    weights='imagenet', \n",
    "    input_shape=(100, 100, 3))\n",
    "\n",
    "base_model.trainable = False\n",
    "\n",
    "for layer in base_model.layers[-5:]:  \n",
    "    layer.trainable = True"
   ]
  },
  {
   "cell_type": "code",
   "execution_count": null,
   "metadata": {
    "execution": {
     "iopub.execute_input": "2025-04-05T15:34:05.830251Z",
     "iopub.status.busy": "2025-04-05T15:34:05.829881Z",
     "iopub.status.idle": "2025-04-05T15:34:05.871587Z",
     "shell.execute_reply": "2025-04-05T15:34:05.870961Z",
     "shell.execute_reply.started": "2025-04-05T15:34:05.830206Z"
    },
    "trusted": true
   },
   "outputs": [],
   "source": [
    "from tensorflow.keras.models import Sequential\n",
    "from tensorflow.keras.layers import Dropout, Flatten\n",
    "\n",
    "model = Sequential()\n",
    "\n",
    "model.add(Input(shape=(16, 100, 100, 3)))\n",
    "model.add(TimeDistributed(base_model))    \n",
    "model.add(Dropout(0.25))                    \n",
    "\n",
    "model.add(TimeDistributed(GlobalAveragePooling2D()))\n",
    "\n",
    "model.add(LSTM (64, activation='tanh', return_sequences=False))\n",
    "\n",
    "# Dense Layer\n",
    "model.add(Dense (128, activation='relu'))\n",
    "\n",
    "model.add(Dropout(0.5))\n",
    "\n",
    "model.add(Dense (64, activation='relu'))\n",
    "\n",
    "model.add(Dropout(0.5))\n",
    "\n",
    "model.add(Dense(2,activation='softmax'))  \n",
    "                     \n",
    "model.compile(optimizer='adam', loss='categorical_crossentropy', metrics=['accuracy'])\n",
    "\n",
    "model.build(input_shape=(None, 16, 100, 100, 3))\n"
   ]
  },
  {
   "cell_type": "code",
   "execution_count": 19,
   "metadata": {
    "execution": {
     "iopub.execute_input": "2025-04-05T15:34:05.872924Z",
     "iopub.status.busy": "2025-04-05T15:34:05.872585Z",
     "iopub.status.idle": "2025-04-05T15:34:05.897105Z",
     "shell.execute_reply": "2025-04-05T15:34:05.896341Z",
     "shell.execute_reply.started": "2025-04-05T15:34:05.872887Z"
    },
    "trusted": true
   },
   "outputs": [
    {
     "data": {
      "text/html": [
       "<pre style=\"white-space:pre;overflow-x:auto;line-height:normal;font-family:Menlo,'DejaVu Sans Mono',consolas,'Courier New',monospace\"><span style=\"font-weight: bold\">Model: \"sequential\"</span>\n",
       "</pre>\n"
      ],
      "text/plain": [
       "\u001b[1mModel: \"sequential\"\u001b[0m\n"
      ]
     },
     "metadata": {},
     "output_type": "display_data"
    },
    {
     "data": {
      "text/html": [
       "<pre style=\"white-space:pre;overflow-x:auto;line-height:normal;font-family:Menlo,'DejaVu Sans Mono',consolas,'Courier New',monospace\">┏━━━━━━━━━━━━━━━━━━━━━━━━━━━━━━━━━┳━━━━━━━━━━━━━━━━━━━━━━━━┳━━━━━━━━━━━━━━━┓\n",
       "┃<span style=\"font-weight: bold\"> Layer (type)                    </span>┃<span style=\"font-weight: bold\"> Output Shape           </span>┃<span style=\"font-weight: bold\">       Param # </span>┃\n",
       "┡━━━━━━━━━━━━━━━━━━━━━━━━━━━━━━━━━╇━━━━━━━━━━━━━━━━━━━━━━━━╇━━━━━━━━━━━━━━━┩\n",
       "│ time_distributed                │ ?                      │    <span style=\"color: #00af00; text-decoration-color: #00af00\">20,861,480</span> │\n",
       "│ (<span style=\"color: #0087ff; text-decoration-color: #0087ff\">TimeDistributed</span>)               │                        │               │\n",
       "├─────────────────────────────────┼────────────────────────┼───────────────┤\n",
       "│ dropout (<span style=\"color: #0087ff; text-decoration-color: #0087ff\">Dropout</span>)               │ ?                      │   <span style=\"color: #00af00; text-decoration-color: #00af00\">0</span> (unbuilt) │\n",
       "├─────────────────────────────────┼────────────────────────┼───────────────┤\n",
       "│ time_distributed_1              │ ?                      │   <span style=\"color: #00af00; text-decoration-color: #00af00\">0</span> (unbuilt) │\n",
       "│ (<span style=\"color: #0087ff; text-decoration-color: #0087ff\">TimeDistributed</span>)               │                        │               │\n",
       "├─────────────────────────────────┼────────────────────────┼───────────────┤\n",
       "│ lstm (<span style=\"color: #0087ff; text-decoration-color: #0087ff\">LSTM</span>)                     │ ?                      │   <span style=\"color: #00af00; text-decoration-color: #00af00\">0</span> (unbuilt) │\n",
       "├─────────────────────────────────┼────────────────────────┼───────────────┤\n",
       "│ dense (<span style=\"color: #0087ff; text-decoration-color: #0087ff\">Dense</span>)                   │ ?                      │   <span style=\"color: #00af00; text-decoration-color: #00af00\">0</span> (unbuilt) │\n",
       "├─────────────────────────────────┼────────────────────────┼───────────────┤\n",
       "│ dropout_1 (<span style=\"color: #0087ff; text-decoration-color: #0087ff\">Dropout</span>)             │ ?                      │   <span style=\"color: #00af00; text-decoration-color: #00af00\">0</span> (unbuilt) │\n",
       "├─────────────────────────────────┼────────────────────────┼───────────────┤\n",
       "│ dense_1 (<span style=\"color: #0087ff; text-decoration-color: #0087ff\">Dense</span>)                 │ ?                      │   <span style=\"color: #00af00; text-decoration-color: #00af00\">0</span> (unbuilt) │\n",
       "├─────────────────────────────────┼────────────────────────┼───────────────┤\n",
       "│ dropout_2 (<span style=\"color: #0087ff; text-decoration-color: #0087ff\">Dropout</span>)             │ ?                      │   <span style=\"color: #00af00; text-decoration-color: #00af00\">0</span> (unbuilt) │\n",
       "├─────────────────────────────────┼────────────────────────┼───────────────┤\n",
       "│ dense_2 (<span style=\"color: #0087ff; text-decoration-color: #0087ff\">Dense</span>)                 │ ?                      │   <span style=\"color: #00af00; text-decoration-color: #00af00\">0</span> (unbuilt) │\n",
       "└─────────────────────────────────┴────────────────────────┴───────────────┘\n",
       "</pre>\n"
      ],
      "text/plain": [
       "┏━━━━━━━━━━━━━━━━━━━━━━━━━━━━━━━━━┳━━━━━━━━━━━━━━━━━━━━━━━━┳━━━━━━━━━━━━━━━┓\n",
       "┃\u001b[1m \u001b[0m\u001b[1mLayer (type)                   \u001b[0m\u001b[1m \u001b[0m┃\u001b[1m \u001b[0m\u001b[1mOutput Shape          \u001b[0m\u001b[1m \u001b[0m┃\u001b[1m \u001b[0m\u001b[1m      Param #\u001b[0m\u001b[1m \u001b[0m┃\n",
       "┡━━━━━━━━━━━━━━━━━━━━━━━━━━━━━━━━━╇━━━━━━━━━━━━━━━━━━━━━━━━╇━━━━━━━━━━━━━━━┩\n",
       "│ time_distributed                │ ?                      │    \u001b[38;5;34m20,861,480\u001b[0m │\n",
       "│ (\u001b[38;5;33mTimeDistributed\u001b[0m)               │                        │               │\n",
       "├─────────────────────────────────┼────────────────────────┼───────────────┤\n",
       "│ dropout (\u001b[38;5;33mDropout\u001b[0m)               │ ?                      │   \u001b[38;5;34m0\u001b[0m (unbuilt) │\n",
       "├─────────────────────────────────┼────────────────────────┼───────────────┤\n",
       "│ time_distributed_1              │ ?                      │   \u001b[38;5;34m0\u001b[0m (unbuilt) │\n",
       "│ (\u001b[38;5;33mTimeDistributed\u001b[0m)               │                        │               │\n",
       "├─────────────────────────────────┼────────────────────────┼───────────────┤\n",
       "│ lstm (\u001b[38;5;33mLSTM\u001b[0m)                     │ ?                      │   \u001b[38;5;34m0\u001b[0m (unbuilt) │\n",
       "├─────────────────────────────────┼────────────────────────┼───────────────┤\n",
       "│ dense (\u001b[38;5;33mDense\u001b[0m)                   │ ?                      │   \u001b[38;5;34m0\u001b[0m (unbuilt) │\n",
       "├─────────────────────────────────┼────────────────────────┼───────────────┤\n",
       "│ dropout_1 (\u001b[38;5;33mDropout\u001b[0m)             │ ?                      │   \u001b[38;5;34m0\u001b[0m (unbuilt) │\n",
       "├─────────────────────────────────┼────────────────────────┼───────────────┤\n",
       "│ dense_1 (\u001b[38;5;33mDense\u001b[0m)                 │ ?                      │   \u001b[38;5;34m0\u001b[0m (unbuilt) │\n",
       "├─────────────────────────────────┼────────────────────────┼───────────────┤\n",
       "│ dropout_2 (\u001b[38;5;33mDropout\u001b[0m)             │ ?                      │   \u001b[38;5;34m0\u001b[0m (unbuilt) │\n",
       "├─────────────────────────────────┼────────────────────────┼───────────────┤\n",
       "│ dense_2 (\u001b[38;5;33mDense\u001b[0m)                 │ ?                      │   \u001b[38;5;34m0\u001b[0m (unbuilt) │\n",
       "└─────────────────────────────────┴────────────────────────┴───────────────┘\n"
      ]
     },
     "metadata": {},
     "output_type": "display_data"
    },
    {
     "data": {
      "text/html": [
       "<pre style=\"white-space:pre;overflow-x:auto;line-height:normal;font-family:Menlo,'DejaVu Sans Mono',consolas,'Courier New',monospace\"><span style=\"font-weight: bold\"> Total params: </span><span style=\"color: #00af00; text-decoration-color: #00af00\">20,861,480</span> (79.58 MB)\n",
       "</pre>\n"
      ],
      "text/plain": [
       "\u001b[1m Total params: \u001b[0m\u001b[38;5;34m20,861,480\u001b[0m (79.58 MB)\n"
      ]
     },
     "metadata": {},
     "output_type": "display_data"
    },
    {
     "data": {
      "text/html": [
       "<pre style=\"white-space:pre;overflow-x:auto;line-height:normal;font-family:Menlo,'DejaVu Sans Mono',consolas,'Courier New',monospace\"><span style=\"font-weight: bold\"> Trainable params: </span><span style=\"color: #00af00; text-decoration-color: #00af00\">3,166,720</span> (12.08 MB)\n",
       "</pre>\n"
      ],
      "text/plain": [
       "\u001b[1m Trainable params: \u001b[0m\u001b[38;5;34m3,166,720\u001b[0m (12.08 MB)\n"
      ]
     },
     "metadata": {},
     "output_type": "display_data"
    },
    {
     "data": {
      "text/html": [
       "<pre style=\"white-space:pre;overflow-x:auto;line-height:normal;font-family:Menlo,'DejaVu Sans Mono',consolas,'Courier New',monospace\"><span style=\"font-weight: bold\"> Non-trainable params: </span><span style=\"color: #00af00; text-decoration-color: #00af00\">17,694,760</span> (67.50 MB)\n",
       "</pre>\n"
      ],
      "text/plain": [
       "\u001b[1m Non-trainable params: \u001b[0m\u001b[38;5;34m17,694,760\u001b[0m (67.50 MB)\n"
      ]
     },
     "metadata": {},
     "output_type": "display_data"
    }
   ],
   "source": [
    "model.summary()"
   ]
  },
  {
   "cell_type": "code",
   "execution_count": 20,
   "metadata": {
    "execution": {
     "iopub.execute_input": "2025-04-05T15:34:05.898720Z",
     "iopub.status.busy": "2025-04-05T15:34:05.898140Z",
     "iopub.status.idle": "2025-04-05T15:34:05.902421Z",
     "shell.execute_reply": "2025-04-05T15:34:05.901588Z",
     "shell.execute_reply.started": "2025-04-05T15:34:05.898682Z"
    },
    "trusted": true
   },
   "outputs": [],
   "source": [
    "from tensorflow.keras.callbacks import ReduceLROnPlateau, ModelCheckpoint"
   ]
  },
  {
   "cell_type": "code",
   "execution_count": 21,
   "metadata": {
    "execution": {
     "iopub.execute_input": "2025-04-05T15:34:05.903814Z",
     "iopub.status.busy": "2025-04-05T15:34:05.903478Z",
     "iopub.status.idle": "2025-04-05T15:34:05.919007Z",
     "shell.execute_reply": "2025-04-05T15:34:05.918405Z",
     "shell.execute_reply.started": "2025-04-05T15:34:05.903779Z"
    },
    "trusted": true
   },
   "outputs": [],
   "source": [
    "checkpoint_callback = ModelCheckpoint(\n",
    "    filepath = 'xception_lstm.keras',\n",
    "    save_weights_only = False,\n",
    "    monitor='val_accuracy',\n",
    "    mode = 'max',\n",
    "    save_best_only = True\n",
    ")\n",
    "\n",
    "reduce_lr = ReduceLROnPlateau(monitor='val_accuracy',  \n",
    "                              factor=0.5,          \n",
    "                              patience=7,          \n",
    "                              min_lr=0.00001,         \n",
    "                              verbose=1)\n"
   ]
  },
  {
   "cell_type": "code",
   "execution_count": 22,
   "metadata": {
    "execution": {
     "iopub.execute_input": "2025-04-05T15:34:05.920097Z",
     "iopub.status.busy": "2025-04-05T15:34:05.919865Z",
     "iopub.status.idle": "2025-04-05T16:08:19.390085Z",
     "shell.execute_reply": "2025-04-05T16:08:19.389340Z",
     "shell.execute_reply.started": "2025-04-05T15:34:05.920073Z"
    },
    "trusted": true
   },
   "outputs": [
    {
     "name": "stdout",
     "output_type": "stream",
     "text": [
      "Epoch 1/50\n",
      "\u001b[1m150/150\u001b[0m \u001b[32m━━━━━━━━━━━━━━━━━━━━\u001b[0m\u001b[37m\u001b[0m \u001b[1m109s\u001b[0m 350ms/step - accuracy: 0.6489 - loss: 0.6507 - val_accuracy: 0.8533 - val_loss: 0.2870 - learning_rate: 0.0010\n",
      "Epoch 2/50\n",
      "\u001b[1m150/150\u001b[0m \u001b[32m━━━━━━━━━━━━━━━━━━━━\u001b[0m\u001b[37m\u001b[0m \u001b[1m38s\u001b[0m 251ms/step - accuracy: 0.8211 - loss: 0.3799 - val_accuracy: 0.8400 - val_loss: 0.3405 - learning_rate: 0.0010\n",
      "Epoch 3/50\n",
      "\u001b[1m150/150\u001b[0m \u001b[32m━━━━━━━━━━━━━━━━━━━━\u001b[0m\u001b[37m\u001b[0m \u001b[1m40s\u001b[0m 266ms/step - accuracy: 0.8389 - loss: 0.3682 - val_accuracy: 0.9067 - val_loss: 0.2375 - learning_rate: 0.0010\n",
      "Epoch 4/50\n",
      "\u001b[1m150/150\u001b[0m \u001b[32m━━━━━━━━━━━━━━━━━━━━\u001b[0m\u001b[37m\u001b[0m \u001b[1m40s\u001b[0m 264ms/step - accuracy: 0.9245 - loss: 0.2161 - val_accuracy: 0.9067 - val_loss: 0.1902 - learning_rate: 0.0010\n",
      "Epoch 5/50\n",
      "\u001b[1m150/150\u001b[0m \u001b[32m━━━━━━━━━━━━━━━━━━━━\u001b[0m\u001b[37m\u001b[0m \u001b[1m40s\u001b[0m 266ms/step - accuracy: 0.9433 - loss: 0.1816 - val_accuracy: 0.9200 - val_loss: 0.2208 - learning_rate: 0.0010\n",
      "Epoch 6/50\n",
      "\u001b[1m150/150\u001b[0m \u001b[32m━━━━━━━━━━━━━━━━━━━━\u001b[0m\u001b[37m\u001b[0m \u001b[1m40s\u001b[0m 267ms/step - accuracy: 0.9482 - loss: 0.1387 - val_accuracy: 0.9267 - val_loss: 0.2250 - learning_rate: 0.0010\n",
      "Epoch 7/50\n",
      "\u001b[1m150/150\u001b[0m \u001b[32m━━━━━━━━━━━━━━━━━━━━\u001b[0m\u001b[37m\u001b[0m \u001b[1m40s\u001b[0m 266ms/step - accuracy: 0.9589 - loss: 0.1128 - val_accuracy: 0.9333 - val_loss: 0.1746 - learning_rate: 0.0010\n",
      "Epoch 8/50\n",
      "\u001b[1m150/150\u001b[0m \u001b[32m━━━━━━━━━━━━━━━━━━━━\u001b[0m\u001b[37m\u001b[0m \u001b[1m39s\u001b[0m 263ms/step - accuracy: 0.9248 - loss: 0.2426 - val_accuracy: 0.9133 - val_loss: 0.2540 - learning_rate: 0.0010\n",
      "Epoch 9/50\n",
      "\u001b[1m150/150\u001b[0m \u001b[32m━━━━━━━━━━━━━━━━━━━━\u001b[0m\u001b[37m\u001b[0m \u001b[1m39s\u001b[0m 263ms/step - accuracy: 0.9398 - loss: 0.1666 - val_accuracy: 0.9200 - val_loss: 0.3276 - learning_rate: 0.0010\n",
      "Epoch 10/50\n",
      "\u001b[1m150/150\u001b[0m \u001b[32m━━━━━━━━━━━━━━━━━━━━\u001b[0m\u001b[37m\u001b[0m \u001b[1m39s\u001b[0m 262ms/step - accuracy: 0.9555 - loss: 0.1465 - val_accuracy: 0.9267 - val_loss: 0.2874 - learning_rate: 0.0010\n",
      "Epoch 11/50\n",
      "\u001b[1m150/150\u001b[0m \u001b[32m━━━━━━━━━━━━━━━━━━━━\u001b[0m\u001b[37m\u001b[0m \u001b[1m40s\u001b[0m 267ms/step - accuracy: 0.9686 - loss: 0.1058 - val_accuracy: 0.9400 - val_loss: 0.1782 - learning_rate: 0.0010\n",
      "Epoch 12/50\n",
      "\u001b[1m150/150\u001b[0m \u001b[32m━━━━━━━━━━━━━━━━━━━━\u001b[0m\u001b[37m\u001b[0m \u001b[1m39s\u001b[0m 262ms/step - accuracy: 0.9789 - loss: 0.0835 - val_accuracy: 0.8933 - val_loss: 0.4072 - learning_rate: 0.0010\n",
      "Epoch 13/50\n",
      "\u001b[1m150/150\u001b[0m \u001b[32m━━━━━━━━━━━━━━━━━━━━\u001b[0m\u001b[37m\u001b[0m \u001b[1m39s\u001b[0m 262ms/step - accuracy: 0.9763 - loss: 0.0743 - val_accuracy: 0.9200 - val_loss: 0.1889 - learning_rate: 0.0010\n",
      "Epoch 14/50\n",
      "\u001b[1m150/150\u001b[0m \u001b[32m━━━━━━━━━━━━━━━━━━━━\u001b[0m\u001b[37m\u001b[0m \u001b[1m39s\u001b[0m 262ms/step - accuracy: 0.9712 - loss: 0.1121 - val_accuracy: 0.9200 - val_loss: 0.2405 - learning_rate: 0.0010\n",
      "Epoch 15/50\n",
      "\u001b[1m150/150\u001b[0m \u001b[32m━━━━━━━━━━━━━━━━━━━━\u001b[0m\u001b[37m\u001b[0m \u001b[1m39s\u001b[0m 263ms/step - accuracy: 0.9704 - loss: 0.1005 - val_accuracy: 0.9200 - val_loss: 0.2081 - learning_rate: 0.0010\n",
      "Epoch 16/50\n",
      "\u001b[1m150/150\u001b[0m \u001b[32m━━━━━━━━━━━━━━━━━━━━\u001b[0m\u001b[37m\u001b[0m \u001b[1m39s\u001b[0m 263ms/step - accuracy: 0.9752 - loss: 0.0800 - val_accuracy: 0.9400 - val_loss: 0.1822 - learning_rate: 0.0010\n",
      "Epoch 17/50\n",
      "\u001b[1m150/150\u001b[0m \u001b[32m━━━━━━━━━━━━━━━━━━━━\u001b[0m\u001b[37m\u001b[0m \u001b[1m40s\u001b[0m 266ms/step - accuracy: 0.9802 - loss: 0.0723 - val_accuracy: 0.9600 - val_loss: 0.1533 - learning_rate: 0.0010\n",
      "Epoch 18/50\n",
      "\u001b[1m150/150\u001b[0m \u001b[32m━━━━━━━━━━━━━━━━━━━━\u001b[0m\u001b[37m\u001b[0m \u001b[1m39s\u001b[0m 262ms/step - accuracy: 0.9866 - loss: 0.0482 - val_accuracy: 0.9467 - val_loss: 0.2241 - learning_rate: 0.0010\n",
      "Epoch 19/50\n",
      "\u001b[1m150/150\u001b[0m \u001b[32m━━━━━━━━━━━━━━━━━━━━\u001b[0m\u001b[37m\u001b[0m \u001b[1m39s\u001b[0m 263ms/step - accuracy: 0.9774 - loss: 0.0664 - val_accuracy: 0.9333 - val_loss: 0.1460 - learning_rate: 0.0010\n",
      "Epoch 20/50\n",
      "\u001b[1m150/150\u001b[0m \u001b[32m━━━━━━━━━━━━━━━━━━━━\u001b[0m\u001b[37m\u001b[0m \u001b[1m39s\u001b[0m 262ms/step - accuracy: 0.9704 - loss: 0.0861 - val_accuracy: 0.9133 - val_loss: 0.3857 - learning_rate: 0.0010\n",
      "Epoch 21/50\n",
      "\u001b[1m150/150\u001b[0m \u001b[32m━━━━━━━━━━━━━━━━━━━━\u001b[0m\u001b[37m\u001b[0m \u001b[1m39s\u001b[0m 263ms/step - accuracy: 0.9877 - loss: 0.0406 - val_accuracy: 0.9267 - val_loss: 0.2640 - learning_rate: 0.0010\n",
      "Epoch 22/50\n",
      "\u001b[1m150/150\u001b[0m \u001b[32m━━━━━━━━━━━━━━━━━━━━\u001b[0m\u001b[37m\u001b[0m \u001b[1m40s\u001b[0m 267ms/step - accuracy: 0.9820 - loss: 0.0414 - val_accuracy: 0.9667 - val_loss: 0.0847 - learning_rate: 0.0010\n",
      "Epoch 23/50\n",
      "\u001b[1m150/150\u001b[0m \u001b[32m━━━━━━━━━━━━━━━━━━━━\u001b[0m\u001b[37m\u001b[0m \u001b[1m39s\u001b[0m 263ms/step - accuracy: 0.9691 - loss: 0.0869 - val_accuracy: 0.9267 - val_loss: 0.2822 - learning_rate: 0.0010\n",
      "Epoch 24/50\n",
      "\u001b[1m150/150\u001b[0m \u001b[32m━━━━━━━━━━━━━━━━━━━━\u001b[0m\u001b[37m\u001b[0m \u001b[1m39s\u001b[0m 262ms/step - accuracy: 0.9850 - loss: 0.0510 - val_accuracy: 0.9267 - val_loss: 0.2940 - learning_rate: 0.0010\n",
      "Epoch 25/50\n",
      "\u001b[1m150/150\u001b[0m \u001b[32m━━━━━━━━━━━━━━━━━━━━\u001b[0m\u001b[37m\u001b[0m \u001b[1m39s\u001b[0m 262ms/step - accuracy: 0.9724 - loss: 0.0936 - val_accuracy: 0.9467 - val_loss: 0.1708 - learning_rate: 0.0010\n",
      "Epoch 26/50\n",
      "\u001b[1m150/150\u001b[0m \u001b[32m━━━━━━━━━━━━━━━━━━━━\u001b[0m\u001b[37m\u001b[0m \u001b[1m39s\u001b[0m 262ms/step - accuracy: 0.9884 - loss: 0.0527 - val_accuracy: 0.9267 - val_loss: 0.3200 - learning_rate: 0.0010\n",
      "Epoch 27/50\n",
      "\u001b[1m150/150\u001b[0m \u001b[32m━━━━━━━━━━━━━━━━━━━━\u001b[0m\u001b[37m\u001b[0m \u001b[1m39s\u001b[0m 262ms/step - accuracy: 0.9972 - loss: 0.0218 - val_accuracy: 0.9400 - val_loss: 0.1115 - learning_rate: 0.0010\n",
      "Epoch 28/50\n",
      "\u001b[1m150/150\u001b[0m \u001b[32m━━━━━━━━━━━━━━━━━━━━\u001b[0m\u001b[37m\u001b[0m \u001b[1m39s\u001b[0m 262ms/step - accuracy: 0.9887 - loss: 0.0360 - val_accuracy: 0.9333 - val_loss: 0.1706 - learning_rate: 0.0010\n",
      "Epoch 29/50\n",
      "\u001b[1m150/150\u001b[0m \u001b[32m━━━━━━━━━━━━━━━━━━━━\u001b[0m\u001b[37m\u001b[0m \u001b[1m0s\u001b[0m 238ms/step - accuracy: 0.9914 - loss: 0.0314\n",
      "Epoch 29: ReduceLROnPlateau reducing learning rate to 0.0005000000237487257.\n",
      "\u001b[1m150/150\u001b[0m \u001b[32m━━━━━━━━━━━━━━━━━━━━\u001b[0m\u001b[37m\u001b[0m \u001b[1m39s\u001b[0m 262ms/step - accuracy: 0.9913 - loss: 0.0315 - val_accuracy: 0.9000 - val_loss: 0.2535 - learning_rate: 0.0010\n",
      "Epoch 30/50\n",
      "\u001b[1m150/150\u001b[0m \u001b[32m━━━━━━━━━━━━━━━━━━━━\u001b[0m\u001b[37m\u001b[0m \u001b[1m39s\u001b[0m 262ms/step - accuracy: 0.9919 - loss: 0.0290 - val_accuracy: 0.9067 - val_loss: 0.2812 - learning_rate: 5.0000e-04\n",
      "Epoch 31/50\n",
      "\u001b[1m150/150\u001b[0m \u001b[32m━━━━━━━━━━━━━━━━━━━━\u001b[0m\u001b[37m\u001b[0m \u001b[1m41s\u001b[0m 262ms/step - accuracy: 0.9929 - loss: 0.0235 - val_accuracy: 0.9333 - val_loss: 0.3211 - learning_rate: 5.0000e-04\n",
      "Epoch 32/50\n",
      "\u001b[1m150/150\u001b[0m \u001b[32m━━━━━━━━━━━━━━━━━━━━\u001b[0m\u001b[37m\u001b[0m \u001b[1m39s\u001b[0m 263ms/step - accuracy: 0.9925 - loss: 0.0163 - val_accuracy: 0.9667 - val_loss: 0.1470 - learning_rate: 5.0000e-04\n",
      "Epoch 33/50\n",
      "\u001b[1m150/150\u001b[0m \u001b[32m━━━━━━━━━━━━━━━━━━━━\u001b[0m\u001b[37m\u001b[0m \u001b[1m39s\u001b[0m 262ms/step - accuracy: 0.9982 - loss: 0.0039 - val_accuracy: 0.9467 - val_loss: 0.2116 - learning_rate: 5.0000e-04\n",
      "Epoch 34/50\n",
      "\u001b[1m150/150\u001b[0m \u001b[32m━━━━━━━━━━━━━━━━━━━━\u001b[0m\u001b[37m\u001b[0m \u001b[1m39s\u001b[0m 262ms/step - accuracy: 0.9927 - loss: 0.0200 - val_accuracy: 0.9667 - val_loss: 0.1933 - learning_rate: 5.0000e-04\n",
      "Epoch 35/50\n",
      "\u001b[1m150/150\u001b[0m \u001b[32m━━━━━━━━━━━━━━━━━━━━\u001b[0m\u001b[37m\u001b[0m \u001b[1m39s\u001b[0m 263ms/step - accuracy: 0.9948 - loss: 0.0102 - val_accuracy: 0.9200 - val_loss: 0.4223 - learning_rate: 5.0000e-04\n",
      "Epoch 36/50\n",
      "\u001b[1m150/150\u001b[0m \u001b[32m━━━━━━━━━━━━━━━━━━━━\u001b[0m\u001b[37m\u001b[0m \u001b[1m0s\u001b[0m 238ms/step - accuracy: 0.9932 - loss: 0.0223\n",
      "Epoch 36: ReduceLROnPlateau reducing learning rate to 0.0002500000118743628.\n",
      "\u001b[1m150/150\u001b[0m \u001b[32m━━━━━━━━━━━━━━━━━━━━\u001b[0m\u001b[37m\u001b[0m \u001b[1m39s\u001b[0m 263ms/step - accuracy: 0.9932 - loss: 0.0222 - val_accuracy: 0.9667 - val_loss: 0.2011 - learning_rate: 5.0000e-04\n",
      "Epoch 37/50\n",
      "\u001b[1m150/150\u001b[0m \u001b[32m━━━━━━━━━━━━━━━━━━━━\u001b[0m\u001b[37m\u001b[0m \u001b[1m39s\u001b[0m 261ms/step - accuracy: 0.9972 - loss: 0.0067 - val_accuracy: 0.9533 - val_loss: 0.2359 - learning_rate: 2.5000e-04\n",
      "Epoch 38/50\n",
      "\u001b[1m150/150\u001b[0m \u001b[32m━━━━━━━━━━━━━━━━━━━━\u001b[0m\u001b[37m\u001b[0m \u001b[1m39s\u001b[0m 262ms/step - accuracy: 0.9988 - loss: 0.0072 - val_accuracy: 0.9200 - val_loss: 0.3156 - learning_rate: 2.5000e-04\n",
      "Epoch 39/50\n",
      "\u001b[1m150/150\u001b[0m \u001b[32m━━━━━━━━━━━━━━━━━━━━\u001b[0m\u001b[37m\u001b[0m \u001b[1m39s\u001b[0m 263ms/step - accuracy: 0.9989 - loss: 0.0043 - val_accuracy: 0.9467 - val_loss: 0.2763 - learning_rate: 2.5000e-04\n",
      "Epoch 40/50\n",
      "\u001b[1m150/150\u001b[0m \u001b[32m━━━━━━━━━━━━━━━━━━━━\u001b[0m\u001b[37m\u001b[0m \u001b[1m40s\u001b[0m 264ms/step - accuracy: 0.9993 - loss: 0.0083 - val_accuracy: 0.9467 - val_loss: 0.2399 - learning_rate: 2.5000e-04\n",
      "Epoch 41/50\n",
      "\u001b[1m150/150\u001b[0m \u001b[32m━━━━━━━━━━━━━━━━━━━━\u001b[0m\u001b[37m\u001b[0m \u001b[1m39s\u001b[0m 262ms/step - accuracy: 0.9980 - loss: 0.0101 - val_accuracy: 0.9333 - val_loss: 0.3233 - learning_rate: 2.5000e-04\n",
      "Epoch 42/50\n",
      "\u001b[1m150/150\u001b[0m \u001b[32m━━━━━━━━━━━━━━━━━━━━\u001b[0m\u001b[37m\u001b[0m \u001b[1m39s\u001b[0m 261ms/step - accuracy: 0.9988 - loss: 0.0051 - val_accuracy: 0.9533 - val_loss: 0.1881 - learning_rate: 2.5000e-04\n",
      "Epoch 43/50\n",
      "\u001b[1m150/150\u001b[0m \u001b[32m━━━━━━━━━━━━━━━━━━━━\u001b[0m\u001b[37m\u001b[0m \u001b[1m0s\u001b[0m 238ms/step - accuracy: 0.9913 - loss: 0.0223\n",
      "Epoch 43: ReduceLROnPlateau reducing learning rate to 0.0001250000059371814.\n",
      "\u001b[1m150/150\u001b[0m \u001b[32m━━━━━━━━━━━━━━━━━━━━\u001b[0m\u001b[37m\u001b[0m \u001b[1m39s\u001b[0m 263ms/step - accuracy: 0.9913 - loss: 0.0223 - val_accuracy: 0.9400 - val_loss: 0.2950 - learning_rate: 2.5000e-04\n",
      "Epoch 44/50\n",
      "\u001b[1m150/150\u001b[0m \u001b[32m━━━━━━━━━━━━━━━━━━━━\u001b[0m\u001b[37m\u001b[0m \u001b[1m39s\u001b[0m 263ms/step - accuracy: 0.9949 - loss: 0.0116 - val_accuracy: 0.9467 - val_loss: 0.2441 - learning_rate: 1.2500e-04\n",
      "Epoch 45/50\n",
      "\u001b[1m150/150\u001b[0m \u001b[32m━━━━━━━━━━━━━━━━━━━━\u001b[0m\u001b[37m\u001b[0m \u001b[1m39s\u001b[0m 262ms/step - accuracy: 0.9978 - loss: 0.0214 - val_accuracy: 0.9467 - val_loss: 0.2793 - learning_rate: 1.2500e-04\n",
      "Epoch 46/50\n",
      "\u001b[1m150/150\u001b[0m \u001b[32m━━━━━━━━━━━━━━━━━━━━\u001b[0m\u001b[37m\u001b[0m \u001b[1m39s\u001b[0m 262ms/step - accuracy: 0.9998 - loss: 0.0033 - val_accuracy: 0.9467 - val_loss: 0.2865 - learning_rate: 1.2500e-04\n",
      "Epoch 47/50\n",
      "\u001b[1m150/150\u001b[0m \u001b[32m━━━━━━━━━━━━━━━━━━━━\u001b[0m\u001b[37m\u001b[0m \u001b[1m39s\u001b[0m 262ms/step - accuracy: 1.0000 - loss: 0.0026 - val_accuracy: 0.9467 - val_loss: 0.2083 - learning_rate: 1.2500e-04\n",
      "Epoch 48/50\n",
      "\u001b[1m150/150\u001b[0m \u001b[32m━━━━━━━━━━━━━━━━━━━━\u001b[0m\u001b[37m\u001b[0m \u001b[1m39s\u001b[0m 262ms/step - accuracy: 0.9999 - loss: 0.0025 - val_accuracy: 0.9267 - val_loss: 0.3871 - learning_rate: 1.2500e-04\n",
      "Epoch 49/50\n",
      "\u001b[1m150/150\u001b[0m \u001b[32m━━━━━━━━━━━━━━━━━━━━\u001b[0m\u001b[37m\u001b[0m \u001b[1m39s\u001b[0m 262ms/step - accuracy: 1.0000 - loss: 0.0010 - val_accuracy: 0.9467 - val_loss: 0.3262 - learning_rate: 1.2500e-04\n",
      "Epoch 50/50\n",
      "\u001b[1m150/150\u001b[0m \u001b[32m━━━━━━━━━━━━━━━━━━━━\u001b[0m\u001b[37m\u001b[0m \u001b[1m0s\u001b[0m 238ms/step - accuracy: 0.9996 - loss: 0.0019\n",
      "Epoch 50: ReduceLROnPlateau reducing learning rate to 6.25000029685907e-05.\n",
      "\u001b[1m150/150\u001b[0m \u001b[32m━━━━━━━━━━━━━━━━━━━━\u001b[0m\u001b[37m\u001b[0m \u001b[1m39s\u001b[0m 262ms/step - accuracy: 0.9996 - loss: 0.0019 - val_accuracy: 0.9533 - val_loss: 0.2748 - learning_rate: 1.2500e-04\n"
     ]
    }
   ],
   "source": [
    "history = model.fit(x = features_train,\n",
    "                    y = ohc_labels_train,\n",
    "                    batch_size = batch_size,\n",
    "                   epochs = 50,\n",
    "                   validation_data = (features_val,ohc_labels_val),\n",
    "                    shuffle=True,\n",
    "                   callbacks=[checkpoint_callback,reduce_lr])"
   ]
  },
  {
   "cell_type": "code",
   "execution_count": 23,
   "metadata": {
    "execution": {
     "iopub.execute_input": "2025-04-05T16:08:19.399783Z",
     "iopub.status.busy": "2025-04-05T16:08:19.399493Z",
     "iopub.status.idle": "2025-04-05T16:08:19.411217Z",
     "shell.execute_reply": "2025-04-05T16:08:19.410391Z",
     "shell.execute_reply.started": "2025-04-05T16:08:19.399757Z"
    },
    "trusted": true
   },
   "outputs": [],
   "source": [
    "def plot_metric(model_training_history, metric_name_1, metric_name_2, plot_name):\n",
    "    metric_value_1 = model_training_history.history[metric_name_1]\n",
    "    metric_value_2 = model_training_history.history[metric_name_2]\n",
    "    epochs = range(len(metric_value_1))\n",
    "\n",
    "    plt.plot(epochs, metric_value_1, 'blue', label=metric_name_1)\n",
    "    plt.plot(epochs, metric_value_2, 'orange', label=metric_name_2)\n",
    "    plt.title(str(plot_name))\n",
    "    plt.legend()"
   ]
  },
  {
   "cell_type": "code",
   "execution_count": 24,
   "metadata": {
    "execution": {
     "iopub.execute_input": "2025-04-05T16:08:19.412475Z",
     "iopub.status.busy": "2025-04-05T16:08:19.412204Z",
     "iopub.status.idle": "2025-04-05T16:08:19.850222Z",
     "shell.execute_reply": "2025-04-05T16:08:19.849393Z",
     "shell.execute_reply.started": "2025-04-05T16:08:19.412450Z"
    },
    "trusted": true
   },
   "outputs": [
    {
     "data": {
      "image/png": "[encoded data removed]",
      "text/plain": [
       "<Figure size 640x480 with 1 Axes>"
      ]
     },
     "metadata": {},
     "output_type": "display_data"
    }
   ],
   "source": [
    "plot_metric(history, 'loss', 'val_loss', 'Total Loss vs Total Validation Loss')"
   ]
  },
  {
   "cell_type": "code",
   "execution_count": 25,
   "metadata": {
    "execution": {
     "iopub.execute_input": "2025-04-05T16:08:19.851504Z",
     "iopub.status.busy": "2025-04-05T16:08:19.851230Z",
     "iopub.status.idle": "2025-04-05T16:08:20.122129Z",
     "shell.execute_reply": "2025-04-05T16:08:20.121320Z",
     "shell.execute_reply.started": "2025-04-05T16:08:19.851478Z"
    },
    "trusted": true
   },
   "outputs": [
    {
     "data": {
      "image/png": "[encoded data removed]",
      "text/plain": [
       "<Figure size 640x480 with 1 Axes>"
      ]
     },
     "metadata": {},
     "output_type": "display_data"
    }
   ],
   "source": [
    "plot_metric(history, 'accuracy', 'val_accuracy', 'Train Accuracy vs Validation Accuracy')"
   ]
  },
  {
   "cell_type": "code",
   "execution_count": 26,
   "metadata": {
    "execution": {
     "iopub.execute_input": "2025-04-05T16:08:20.124096Z",
     "iopub.status.busy": "2025-04-05T16:08:20.123439Z",
     "iopub.status.idle": "2025-04-05T16:08:20.545039Z",
     "shell.execute_reply": "2025-04-05T16:08:20.544271Z",
     "shell.execute_reply.started": "2025-04-05T16:08:20.124052Z"
    },
    "trusted": true
   },
   "outputs": [],
   "source": [
    "model.save_weights('Xception_LSTM.weights.h5')"
   ]
  },
  {
   "cell_type": "markdown",
   "metadata": {},
   "source": [
    "## Test"
   ]
  },
  {
   "cell_type": "code",
   "execution_count": 27,
   "metadata": {
    "execution": {
     "iopub.execute_input": "2025-04-05T16:08:20.546685Z",
     "iopub.status.busy": "2025-04-05T16:08:20.546415Z",
     "iopub.status.idle": "2025-04-05T16:08:20.550687Z",
     "shell.execute_reply": "2025-04-05T16:08:20.549879Z",
     "shell.execute_reply.started": "2025-04-05T16:08:20.546660Z"
    },
    "trusted": true
   },
   "outputs": [],
   "source": [
    "import time"
   ]
  },
  {
   "cell_type": "code",
   "execution_count": 28,
   "metadata": {
    "execution": {
     "iopub.execute_input": "2025-04-05T16:08:20.551823Z",
     "iopub.status.busy": "2025-04-05T16:08:20.551570Z",
     "iopub.status.idle": "2025-04-05T16:08:20.569685Z",
     "shell.execute_reply": "2025-04-05T16:08:20.568847Z",
     "shell.execute_reply.started": "2025-04-05T16:08:20.551799Z"
    },
    "trusted": true
   },
   "outputs": [
    {
     "name": "stdout",
     "output_type": "stream",
     "text": [
      "labels_test shape: (150,)\n",
      "features_test shape: (150, 16, 100, 100, 3)\n"
     ]
    }
   ],
   "source": [
    "print(\"labels_test shape:\", labels_test.shape)\n",
    "print(\"features_test shape:\", features_test.shape)"
   ]
  },
  {
   "cell_type": "code",
   "execution_count": 29,
   "metadata": {
    "execution": {
     "iopub.execute_input": "2025-04-05T16:08:20.570910Z",
     "iopub.status.busy": "2025-04-05T16:08:20.570657Z",
     "iopub.status.idle": "2025-04-05T16:08:25.308188Z",
     "shell.execute_reply": "2025-04-05T16:08:25.307311Z",
     "shell.execute_reply.started": "2025-04-05T16:08:20.570879Z"
    },
    "trusted": true
   },
   "outputs": [
    {
     "name": "stdout",
     "output_type": "stream",
     "text": [
      "\u001b[1m5/5\u001b[0m \u001b[32m━━━━━━━━━━━━━━━━━━━━\u001b[0m\u001b[37m\u001b[0m \u001b[1m4s\u001b[0m 633ms/step - accuracy: 0.9632 - loss: 0.2482\n",
      "Elapsed time: 4.722429 seconds\n",
      "Test Loss: 0.30267760157585144\n",
      "Test Accuracy: 0.95333331823349\n"
     ]
    }
   ],
   "source": [
    "start_time = time.perf_counter()\n",
    "loss, accuracy = model.evaluate(features_test, ohc_labels_test)\n",
    "end_time = time.perf_counter()\n",
    "\n",
    "elapsed_time = end_time - start_time\n",
    "print(f\"Elapsed time: {elapsed_time:.6f} seconds\")\n",
    "print(f\"Test Loss: {loss}\")\n",
    "print(f\"Test Accuracy: {accuracy}\")"
   ]
  },
  {
   "cell_type": "code",
   "execution_count": 30,
   "metadata": {
    "execution": {
     "iopub.execute_input": "2025-04-05T16:08:25.309525Z",
     "iopub.status.busy": "2025-04-05T16:08:25.309241Z",
     "iopub.status.idle": "2025-04-05T16:08:55.409031Z",
     "shell.execute_reply": "2025-04-05T16:08:55.408271Z",
     "shell.execute_reply.started": "2025-04-05T16:08:25.309499Z"
    },
    "trusted": true
   },
   "outputs": [
    {
     "name": "stdout",
     "output_type": "stream",
     "text": [
      "\u001b[1m5/5\u001b[0m \u001b[32m━━━━━━━━━━━━━━━━━━━━\u001b[0m\u001b[37m\u001b[0m \u001b[1m29s\u001b[0m 4s/step \n"
     ]
    }
   ],
   "source": [
    "labels_predict = model.predict(features_test)\n",
    "labels_predict = np.argmax(labels_predict, axis=1)\n",
    "labels_test_normal = np.argmax(ohc_labels_test, axis=1)"
   ]
  },
  {
   "cell_type": "code",
   "execution_count": 31,
   "metadata": {
    "execution": {
     "iopub.execute_input": "2025-04-05T16:08:55.410577Z",
     "iopub.status.busy": "2025-04-05T16:08:55.410189Z",
     "iopub.status.idle": "2025-04-05T16:08:55.416715Z",
     "shell.execute_reply": "2025-04-05T16:08:55.415929Z",
     "shell.execute_reply.started": "2025-04-05T16:08:55.410539Z"
    },
    "trusted": true
   },
   "outputs": [
    {
     "name": "stdout",
     "output_type": "stream",
     "text": [
      "Accuracy Score is :  0.9533333333333334\n"
     ]
    }
   ],
   "source": [
    "from sklearn.metrics import accuracy_score\n",
    "\n",
    "AccScore = accuracy_score(labels_predict, labels_test_normal)\n",
    "print('Accuracy Score is : ', AccScore)"
   ]
  },
  {
   "cell_type": "code",
   "execution_count": 32,
   "metadata": {
    "execution": {
     "iopub.execute_input": "2025-04-05T16:08:55.421793Z",
     "iopub.status.busy": "2025-04-05T16:08:55.421450Z",
     "iopub.status.idle": "2025-04-05T16:08:56.501241Z",
     "shell.execute_reply": "2025-04-05T16:08:56.500383Z",
     "shell.execute_reply.started": "2025-04-05T16:08:55.421766Z"
    },
    "trusted": true
   },
   "outputs": [
    {
     "data": {
      "image/png": "[encoded data removed]",
      "text/plain": [
       "<Figure size 640x480 with 2 Axes>"
      ]
     },
     "metadata": {},
     "output_type": "display_data"
    }
   ],
   "source": [
    "import seaborn as sns\n",
    "from sklearn.metrics import confusion_matrix\n",
    "\n",
    "ax = plt.subplot()\n",
    "cm = confusion_matrix(labels_test_normal, labels_predict)\n",
    "sns.heatmap(cm, annot=True, fmt='g', ax=ax)\n",
    "ax.set_xlabel('Predicted labels')\n",
    "ax.set_ylabel('True labels')\n",
    "ax.set_title('Confusion Matrix')\n",
    "ax.xaxis.set_ticklabels(['Violence', 'NonViolence'])\n",
    "ax.yaxis.set_ticklabels(['Violence', 'NonViolence'])\n",
    "\n",
    "plt.savefig('/kaggle/working/confusion_matrix.png', format='png', dpi=300, bbox_inches='tight')\n",
    "\n",
    "plt.show()"
   ]
  }
 ],
 "metadata": {
  "kaggle": {
   "accelerator": "nvidiaTeslaT4",
   "dataSources": [
    {
     "datasetId": 5849990,
     "sourceId": 9591443,
     "sourceType": "datasetVersion"
    }
   ],
   "dockerImageVersionId": 30787,
   "isGpuEnabled": true,
   "isInternetEnabled": true,
   "language": "python",
   "sourceType": "notebook"
  },
  "kernelspec": {
   "display_name": "Python 3",
   "language": "python",
   "name": "python3"
  },
  "language_info": {
   "codemirror_mode": {
    "name": "ipython",
    "version": 3
   },
   "file_extension": ".py",
   "mimetype": "text/x-python",
   "name": "python",
   "nbconvert_exporter": "python",
   "pygments_lexer": "ipython3",
   "version": "3.10.14"
  }
 },
 "nbformat": 4,
 "nbformat_minor": 4
}
