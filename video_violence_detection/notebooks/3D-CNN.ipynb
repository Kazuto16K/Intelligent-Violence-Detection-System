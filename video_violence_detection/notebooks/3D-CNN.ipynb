{
 "cells": [
  {
   "cell_type": "code",
   "execution_count": 1,
   "metadata": {
    "execution": {
     "iopub.execute_input": "2024-10-24T18:18:11.948441Z",
     "iopub.status.busy": "2024-10-24T18:18:11.948056Z",
     "iopub.status.idle": "2024-10-24T18:18:24.903883Z",
     "shell.execute_reply": "2024-10-24T18:18:24.902853Z",
     "shell.execute_reply.started": "2024-10-24T18:18:11.948402Z"
    },
    "trusted": true
   },
   "outputs": [],
   "source": [
    "import os\n",
    "import cv2\n",
    "import numpy as np\n",
    "import tensorflow as tf\n",
    "import matplotlib.pyplot as plt\n",
    "from tensorflow.keras.models import Sequential\n",
    "from tensorflow.keras.layers import Conv3D, MaxPooling3D, Flatten, Dense, Dropout\n",
    "from tensorflow.keras.optimizers import Adam\n",
    "from sklearn.model_selection import train_test_split\n",
    "from tensorflow.keras.utils import to_categorical"
   ]
  },
  {
   "cell_type": "code",
   "execution_count": 2,
   "metadata": {
    "execution": {
     "iopub.execute_input": "2024-10-24T18:18:24.906823Z",
     "iopub.status.busy": "2024-10-24T18:18:24.905800Z",
     "iopub.status.idle": "2024-10-24T18:18:24.912018Z",
     "shell.execute_reply": "2024-10-24T18:18:24.910881Z",
     "shell.execute_reply.started": "2024-10-24T18:18:24.906774Z"
    },
    "trusted": true
   },
   "outputs": [],
   "source": [
    "data_dir = '/kaggle/input/violence-nonviolence/Real_Life_Violence_Dataset'\n",
    "CLASS_LIST = ['Violence','NonViolence']\n",
    "seed = 42\n",
    "img_height, img_width = 120, 120\n",
    "batch_size = 8\n",
    "SEQUENCE_LENGTH = 16"
   ]
  },
  {
   "cell_type": "code",
   "execution_count": 3,
   "metadata": {
    "execution": {
     "iopub.execute_input": "2024-10-24T18:18:24.913643Z",
     "iopub.status.busy": "2024-10-24T18:18:24.913255Z",
     "iopub.status.idle": "2024-10-24T18:18:24.942953Z",
     "shell.execute_reply": "2024-10-24T18:18:24.941897Z",
     "shell.execute_reply.started": "2024-10-24T18:18:24.913598Z"
    },
    "trusted": true
   },
   "outputs": [],
   "source": [
    "def extract_frames(video_path):\n",
    "\n",
    "    frames = []\n",
    "    video_reader = cv2.VideoCapture(video_path)\n",
    "    total_frames = int(video_reader.get(cv2.CAP_PROP_FRAME_COUNT))\n",
    "    frame_interval = max(total_frames//SEQUENCE_LENGTH,1)\n",
    "\n",
    "    for i in range(SEQUENCE_LENGTH):\n",
    "\n",
    "        video_reader.set(cv2.CAP_PROP_POS_FRAMES, i * frame_interval)\n",
    "\n",
    "        ret,frame = video_reader.read()\n",
    "        if not ret:\n",
    "            break\n",
    "\n",
    "        resized_frame = cv2.resize(frame,(img_height,img_width))\n",
    "\n",
    "        normalized_frame = resized_frame / 255.0\n",
    "\n",
    "        frames.append(normalized_frame)\n",
    "\n",
    "    video_reader.release()\n",
    "\n",
    "    return frames\n",
    "\n",
    "def create_dataset(max_vid_per_class = 600):\n",
    "\n",
    "    features = []\n",
    "    labels = []\n",
    "    #video_files_paths = []\n",
    "\n",
    "\n",
    "    for class_index,class_name in enumerate(CLASS_LIST):\n",
    "\n",
    "        print(f\"Extracting Data of Class:{class_name}\")\n",
    "\n",
    "        files_list = os.listdir(os.path.join(data_dir,class_name))\n",
    "\n",
    "        count = 0\n",
    "        for filename in files_list:\n",
    "            if count >= max_vid_per_class:\n",
    "                break\n",
    "\n",
    "            video_path = os.path.join(data_dir,class_name,filename)\n",
    "            frames = extract_frames(video_path)\n",
    "\n",
    "            if len(frames) == SEQUENCE_LENGTH:\n",
    "\n",
    "                features.append(frames)\n",
    "                labels.append(class_index)\n",
    "               #video_files_paths.append(video_path)\n",
    "                count += 1\n",
    "\n",
    "            #print(f\"Extraction of {filename} into frames. Completed {count}/{max_vid_per_class}\")\n",
    "\n",
    "    features = np.asarray(features)\n",
    "    labels = np.array(labels)\n",
    "\n",
    "    return features, labels"
   ]
  },
  {
   "cell_type": "code",
   "execution_count": 4,
   "metadata": {
    "execution": {
     "iopub.execute_input": "2024-10-24T18:18:24.945051Z",
     "iopub.status.busy": "2024-10-24T18:18:24.944741Z",
     "iopub.status.idle": "2024-10-24T18:29:34.992347Z",
     "shell.execute_reply": "2024-10-24T18:29:34.991388Z",
     "shell.execute_reply.started": "2024-10-24T18:18:24.945019Z"
    },
    "trusted": true
   },
   "outputs": [
    {
     "name": "stdout",
     "output_type": "stream",
     "text": [
      "Extracting Data of Class:Violence\n",
      "Extracting Data of Class:NonViolence\n"
     ]
    },
    {
     "name": "stderr",
     "output_type": "stream",
     "text": [
      "[h264 @ 0x59aa07613b80] mb_type 104 in P slice too large at 98 31\n",
      "[h264 @ 0x59aa07613b80] error while decoding MB 98 31\n",
      "[h264 @ 0x59aa07613b80] mb_type 104 in P slice too large at 98 31\n",
      "[h264 @ 0x59aa07613b80] error while decoding MB 98 31\n",
      "[h264 @ 0x59aa07613b80] mb_type 104 in P slice too large at 98 31\n",
      "[h264 @ 0x59aa07613b80] error while decoding MB 98 31\n",
      "[h264 @ 0x59aa07613b80] mb_type 104 in P slice too large at 98 31\n",
      "[h264 @ 0x59aa07613b80] error while decoding MB 98 31\n"
     ]
    }
   ],
   "source": [
    "features,labels = create_dataset()"
   ]
  },
  {
   "cell_type": "code",
   "execution_count": 5,
   "metadata": {
    "execution": {
     "iopub.execute_input": "2024-10-24T18:31:43.250989Z",
     "iopub.status.busy": "2024-10-24T18:31:43.249855Z",
     "iopub.status.idle": "2024-10-24T18:32:00.967715Z",
     "shell.execute_reply": "2024-10-24T18:32:00.966889Z",
     "shell.execute_reply.started": "2024-10-24T18:31:43.250932Z"
    },
    "trusted": true
   },
   "outputs": [],
   "source": [
    "# Save the features\n",
    "np.save('features.npy', features)\n",
    "\n",
    "# Save the labels\n",
    "np.save('labels.npy', labels)"
   ]
  },
  {
   "cell_type": "code",
   "execution_count": 6,
   "metadata": {
    "execution": {
     "iopub.execute_input": "2024-10-24T18:34:19.842536Z",
     "iopub.status.busy": "2024-10-24T18:34:19.841874Z",
     "iopub.status.idle": "2024-10-24T18:34:27.876010Z",
     "shell.execute_reply": "2024-10-24T18:34:27.875047Z",
     "shell.execute_reply.started": "2024-10-24T18:34:19.842494Z"
    },
    "trusted": true
   },
   "outputs": [],
   "source": [
    "features_train,features_val,labels_train,labels_val = train_test_split(features,labels,\n",
    "                                                                        test_size=0.2,\n",
    "                                                                        random_state=seed)"
   ]
  },
  {
   "cell_type": "code",
   "execution_count": 7,
   "metadata": {
    "execution": {
     "iopub.execute_input": "2024-10-24T18:34:33.566910Z",
     "iopub.status.busy": "2024-10-24T18:34:33.566232Z",
     "iopub.status.idle": "2024-10-24T18:34:33.572070Z",
     "shell.execute_reply": "2024-10-24T18:34:33.571037Z",
     "shell.execute_reply.started": "2024-10-24T18:34:33.566871Z"
    },
    "trusted": true
   },
   "outputs": [],
   "source": [
    "ohc_labels_train = to_categorical(labels_train)\n",
    "ohc_labels_val = to_categorical(labels_val)"
   ]
  },
  {
   "cell_type": "code",
   "execution_count": 8,
   "metadata": {
    "execution": {
     "iopub.execute_input": "2024-10-24T18:35:58.524181Z",
     "iopub.status.busy": "2024-10-24T18:35:58.523264Z",
     "iopub.status.idle": "2024-10-24T18:35:59.699599Z",
     "shell.execute_reply": "2024-10-24T18:35:59.698738Z",
     "shell.execute_reply.started": "2024-10-24T18:35:58.524141Z"
    },
    "trusted": true
   },
   "outputs": [
    {
     "data": {
      "text/html": [
       "<pre style=\"white-space:pre;overflow-x:auto;line-height:normal;font-family:Menlo,'DejaVu Sans Mono',consolas,'Courier New',monospace\"><span style=\"font-weight: bold\">Model: \"sequential\"</span>\n",
       "</pre>\n"
      ],
      "text/plain": [
       "\u001b[1mModel: \"sequential\"\u001b[0m\n"
      ]
     },
     "metadata": {},
     "output_type": "display_data"
    },
    {
     "data": {
      "text/html": [
       "<pre style=\"white-space:pre;overflow-x:auto;line-height:normal;font-family:Menlo,'DejaVu Sans Mono',consolas,'Courier New',monospace\">┏━━━━━━━━━━━━━━━━━━━━━━━━━━━━━━━━━┳━━━━━━━━━━━━━━━━━━━━━━━━┳━━━━━━━━━━━━━━━┓\n",
       "┃<span style=\"font-weight: bold\"> Layer (type)                    </span>┃<span style=\"font-weight: bold\"> Output Shape           </span>┃<span style=\"font-weight: bold\">       Param # </span>┃\n",
       "┡━━━━━━━━━━━━━━━━━━━━━━━━━━━━━━━━━╇━━━━━━━━━━━━━━━━━━━━━━━━╇━━━━━━━━━━━━━━━┩\n",
       "│ conv3d (<span style=\"color: #0087ff; text-decoration-color: #0087ff\">Conv3D</span>)                 │ (<span style=\"color: #00d7ff; text-decoration-color: #00d7ff\">None</span>, <span style=\"color: #00af00; text-decoration-color: #00af00\">16</span>, <span style=\"color: #00af00; text-decoration-color: #00af00\">120</span>, <span style=\"color: #00af00; text-decoration-color: #00af00\">120</span>,   │         <span style=\"color: #00af00; text-decoration-color: #00af00\">5,248</span> │\n",
       "│                                 │ <span style=\"color: #00af00; text-decoration-color: #00af00\">64</span>)                    │               │\n",
       "├─────────────────────────────────┼────────────────────────┼───────────────┤\n",
       "│ batch_normalization             │ (<span style=\"color: #00d7ff; text-decoration-color: #00d7ff\">None</span>, <span style=\"color: #00af00; text-decoration-color: #00af00\">16</span>, <span style=\"color: #00af00; text-decoration-color: #00af00\">120</span>, <span style=\"color: #00af00; text-decoration-color: #00af00\">120</span>,   │           <span style=\"color: #00af00; text-decoration-color: #00af00\">256</span> │\n",
       "│ (<span style=\"color: #0087ff; text-decoration-color: #0087ff\">BatchNormalization</span>)            │ <span style=\"color: #00af00; text-decoration-color: #00af00\">64</span>)                    │               │\n",
       "├─────────────────────────────────┼────────────────────────┼───────────────┤\n",
       "│ max_pooling3d (<span style=\"color: #0087ff; text-decoration-color: #0087ff\">MaxPooling3D</span>)    │ (<span style=\"color: #00d7ff; text-decoration-color: #00d7ff\">None</span>, <span style=\"color: #00af00; text-decoration-color: #00af00\">8</span>, <span style=\"color: #00af00; text-decoration-color: #00af00\">60</span>, <span style=\"color: #00af00; text-decoration-color: #00af00\">60</span>, <span style=\"color: #00af00; text-decoration-color: #00af00\">64</span>)  │             <span style=\"color: #00af00; text-decoration-color: #00af00\">0</span> │\n",
       "├─────────────────────────────────┼────────────────────────┼───────────────┤\n",
       "│ conv3d_1 (<span style=\"color: #0087ff; text-decoration-color: #0087ff\">Conv3D</span>)               │ (<span style=\"color: #00d7ff; text-decoration-color: #00d7ff\">None</span>, <span style=\"color: #00af00; text-decoration-color: #00af00\">8</span>, <span style=\"color: #00af00; text-decoration-color: #00af00\">60</span>, <span style=\"color: #00af00; text-decoration-color: #00af00\">60</span>, <span style=\"color: #00af00; text-decoration-color: #00af00\">128</span>) │       <span style=\"color: #00af00; text-decoration-color: #00af00\">221,312</span> │\n",
       "├─────────────────────────────────┼────────────────────────┼───────────────┤\n",
       "│ batch_normalization_1           │ (<span style=\"color: #00d7ff; text-decoration-color: #00d7ff\">None</span>, <span style=\"color: #00af00; text-decoration-color: #00af00\">8</span>, <span style=\"color: #00af00; text-decoration-color: #00af00\">60</span>, <span style=\"color: #00af00; text-decoration-color: #00af00\">60</span>, <span style=\"color: #00af00; text-decoration-color: #00af00\">128</span>) │           <span style=\"color: #00af00; text-decoration-color: #00af00\">512</span> │\n",
       "│ (<span style=\"color: #0087ff; text-decoration-color: #0087ff\">BatchNormalization</span>)            │                        │               │\n",
       "├─────────────────────────────────┼────────────────────────┼───────────────┤\n",
       "│ max_pooling3d_1 (<span style=\"color: #0087ff; text-decoration-color: #0087ff\">MaxPooling3D</span>)  │ (<span style=\"color: #00d7ff; text-decoration-color: #00d7ff\">None</span>, <span style=\"color: #00af00; text-decoration-color: #00af00\">4</span>, <span style=\"color: #00af00; text-decoration-color: #00af00\">30</span>, <span style=\"color: #00af00; text-decoration-color: #00af00\">30</span>, <span style=\"color: #00af00; text-decoration-color: #00af00\">128</span>) │             <span style=\"color: #00af00; text-decoration-color: #00af00\">0</span> │\n",
       "├─────────────────────────────────┼────────────────────────┼───────────────┤\n",
       "│ conv3d_2 (<span style=\"color: #0087ff; text-decoration-color: #0087ff\">Conv3D</span>)               │ (<span style=\"color: #00d7ff; text-decoration-color: #00d7ff\">None</span>, <span style=\"color: #00af00; text-decoration-color: #00af00\">4</span>, <span style=\"color: #00af00; text-decoration-color: #00af00\">30</span>, <span style=\"color: #00af00; text-decoration-color: #00af00\">30</span>, <span style=\"color: #00af00; text-decoration-color: #00af00\">256</span>) │       <span style=\"color: #00af00; text-decoration-color: #00af00\">884,992</span> │\n",
       "├─────────────────────────────────┼────────────────────────┼───────────────┤\n",
       "│ batch_normalization_2           │ (<span style=\"color: #00d7ff; text-decoration-color: #00d7ff\">None</span>, <span style=\"color: #00af00; text-decoration-color: #00af00\">4</span>, <span style=\"color: #00af00; text-decoration-color: #00af00\">30</span>, <span style=\"color: #00af00; text-decoration-color: #00af00\">30</span>, <span style=\"color: #00af00; text-decoration-color: #00af00\">256</span>) │         <span style=\"color: #00af00; text-decoration-color: #00af00\">1,024</span> │\n",
       "│ (<span style=\"color: #0087ff; text-decoration-color: #0087ff\">BatchNormalization</span>)            │                        │               │\n",
       "├─────────────────────────────────┼────────────────────────┼───────────────┤\n",
       "│ max_pooling3d_2 (<span style=\"color: #0087ff; text-decoration-color: #0087ff\">MaxPooling3D</span>)  │ (<span style=\"color: #00d7ff; text-decoration-color: #00d7ff\">None</span>, <span style=\"color: #00af00; text-decoration-color: #00af00\">2</span>, <span style=\"color: #00af00; text-decoration-color: #00af00\">15</span>, <span style=\"color: #00af00; text-decoration-color: #00af00\">15</span>, <span style=\"color: #00af00; text-decoration-color: #00af00\">256</span>) │             <span style=\"color: #00af00; text-decoration-color: #00af00\">0</span> │\n",
       "├─────────────────────────────────┼────────────────────────┼───────────────┤\n",
       "│ conv3d_3 (<span style=\"color: #0087ff; text-decoration-color: #0087ff\">Conv3D</span>)               │ (<span style=\"color: #00d7ff; text-decoration-color: #00d7ff\">None</span>, <span style=\"color: #00af00; text-decoration-color: #00af00\">2</span>, <span style=\"color: #00af00; text-decoration-color: #00af00\">15</span>, <span style=\"color: #00af00; text-decoration-color: #00af00\">15</span>, <span style=\"color: #00af00; text-decoration-color: #00af00\">512</span>) │     <span style=\"color: #00af00; text-decoration-color: #00af00\">3,539,456</span> │\n",
       "├─────────────────────────────────┼────────────────────────┼───────────────┤\n",
       "│ batch_normalization_3           │ (<span style=\"color: #00d7ff; text-decoration-color: #00d7ff\">None</span>, <span style=\"color: #00af00; text-decoration-color: #00af00\">2</span>, <span style=\"color: #00af00; text-decoration-color: #00af00\">15</span>, <span style=\"color: #00af00; text-decoration-color: #00af00\">15</span>, <span style=\"color: #00af00; text-decoration-color: #00af00\">512</span>) │         <span style=\"color: #00af00; text-decoration-color: #00af00\">2,048</span> │\n",
       "│ (<span style=\"color: #0087ff; text-decoration-color: #0087ff\">BatchNormalization</span>)            │                        │               │\n",
       "├─────────────────────────────────┼────────────────────────┼───────────────┤\n",
       "│ max_pooling3d_3 (<span style=\"color: #0087ff; text-decoration-color: #0087ff\">MaxPooling3D</span>)  │ (<span style=\"color: #00d7ff; text-decoration-color: #00d7ff\">None</span>, <span style=\"color: #00af00; text-decoration-color: #00af00\">1</span>, <span style=\"color: #00af00; text-decoration-color: #00af00\">7</span>, <span style=\"color: #00af00; text-decoration-color: #00af00\">7</span>, <span style=\"color: #00af00; text-decoration-color: #00af00\">512</span>)   │             <span style=\"color: #00af00; text-decoration-color: #00af00\">0</span> │\n",
       "├─────────────────────────────────┼────────────────────────┼───────────────┤\n",
       "│ flatten (<span style=\"color: #0087ff; text-decoration-color: #0087ff\">Flatten</span>)               │ (<span style=\"color: #00d7ff; text-decoration-color: #00d7ff\">None</span>, <span style=\"color: #00af00; text-decoration-color: #00af00\">25088</span>)          │             <span style=\"color: #00af00; text-decoration-color: #00af00\">0</span> │\n",
       "├─────────────────────────────────┼────────────────────────┼───────────────┤\n",
       "│ dense (<span style=\"color: #0087ff; text-decoration-color: #0087ff\">Dense</span>)                   │ (<span style=\"color: #00d7ff; text-decoration-color: #00d7ff\">None</span>, <span style=\"color: #00af00; text-decoration-color: #00af00\">512</span>)            │    <span style=\"color: #00af00; text-decoration-color: #00af00\">12,845,568</span> │\n",
       "├─────────────────────────────────┼────────────────────────┼───────────────┤\n",
       "│ batch_normalization_4           │ (<span style=\"color: #00d7ff; text-decoration-color: #00d7ff\">None</span>, <span style=\"color: #00af00; text-decoration-color: #00af00\">512</span>)            │         <span style=\"color: #00af00; text-decoration-color: #00af00\">2,048</span> │\n",
       "│ (<span style=\"color: #0087ff; text-decoration-color: #0087ff\">BatchNormalization</span>)            │                        │               │\n",
       "├─────────────────────────────────┼────────────────────────┼───────────────┤\n",
       "│ dropout (<span style=\"color: #0087ff; text-decoration-color: #0087ff\">Dropout</span>)               │ (<span style=\"color: #00d7ff; text-decoration-color: #00d7ff\">None</span>, <span style=\"color: #00af00; text-decoration-color: #00af00\">512</span>)            │             <span style=\"color: #00af00; text-decoration-color: #00af00\">0</span> │\n",
       "├─────────────────────────────────┼────────────────────────┼───────────────┤\n",
       "│ dense_1 (<span style=\"color: #0087ff; text-decoration-color: #0087ff\">Dense</span>)                 │ (<span style=\"color: #00d7ff; text-decoration-color: #00d7ff\">None</span>, <span style=\"color: #00af00; text-decoration-color: #00af00\">256</span>)            │       <span style=\"color: #00af00; text-decoration-color: #00af00\">131,328</span> │\n",
       "├─────────────────────────────────┼────────────────────────┼───────────────┤\n",
       "│ batch_normalization_5           │ (<span style=\"color: #00d7ff; text-decoration-color: #00d7ff\">None</span>, <span style=\"color: #00af00; text-decoration-color: #00af00\">256</span>)            │         <span style=\"color: #00af00; text-decoration-color: #00af00\">1,024</span> │\n",
       "│ (<span style=\"color: #0087ff; text-decoration-color: #0087ff\">BatchNormalization</span>)            │                        │               │\n",
       "├─────────────────────────────────┼────────────────────────┼───────────────┤\n",
       "│ dropout_1 (<span style=\"color: #0087ff; text-decoration-color: #0087ff\">Dropout</span>)             │ (<span style=\"color: #00d7ff; text-decoration-color: #00d7ff\">None</span>, <span style=\"color: #00af00; text-decoration-color: #00af00\">256</span>)            │             <span style=\"color: #00af00; text-decoration-color: #00af00\">0</span> │\n",
       "├─────────────────────────────────┼────────────────────────┼───────────────┤\n",
       "│ dense_2 (<span style=\"color: #0087ff; text-decoration-color: #0087ff\">Dense</span>)                 │ (<span style=\"color: #00d7ff; text-decoration-color: #00d7ff\">None</span>, <span style=\"color: #00af00; text-decoration-color: #00af00\">2</span>)              │           <span style=\"color: #00af00; text-decoration-color: #00af00\">514</span> │\n",
       "└─────────────────────────────────┴────────────────────────┴───────────────┘\n",
       "</pre>\n"
      ],
      "text/plain": [
       "┏━━━━━━━━━━━━━━━━━━━━━━━━━━━━━━━━━┳━━━━━━━━━━━━━━━━━━━━━━━━┳━━━━━━━━━━━━━━━┓\n",
       "┃\u001b[1m \u001b[0m\u001b[1mLayer (type)                   \u001b[0m\u001b[1m \u001b[0m┃\u001b[1m \u001b[0m\u001b[1mOutput Shape          \u001b[0m\u001b[1m \u001b[0m┃\u001b[1m \u001b[0m\u001b[1m      Param #\u001b[0m\u001b[1m \u001b[0m┃\n",
       "┡━━━━━━━━━━━━━━━━━━━━━━━━━━━━━━━━━╇━━━━━━━━━━━━━━━━━━━━━━━━╇━━━━━━━━━━━━━━━┩\n",
       "│ conv3d (\u001b[38;5;33mConv3D\u001b[0m)                 │ (\u001b[38;5;45mNone\u001b[0m, \u001b[38;5;34m16\u001b[0m, \u001b[38;5;34m120\u001b[0m, \u001b[38;5;34m120\u001b[0m,   │         \u001b[38;5;34m5,248\u001b[0m │\n",
       "│                                 │ \u001b[38;5;34m64\u001b[0m)                    │               │\n",
       "├─────────────────────────────────┼────────────────────────┼───────────────┤\n",
       "│ batch_normalization             │ (\u001b[38;5;45mNone\u001b[0m, \u001b[38;5;34m16\u001b[0m, \u001b[38;5;34m120\u001b[0m, \u001b[38;5;34m120\u001b[0m,   │           \u001b[38;5;34m256\u001b[0m │\n",
       "│ (\u001b[38;5;33mBatchNormalization\u001b[0m)            │ \u001b[38;5;34m64\u001b[0m)                    │               │\n",
       "├─────────────────────────────────┼────────────────────────┼───────────────┤\n",
       "│ max_pooling3d (\u001b[38;5;33mMaxPooling3D\u001b[0m)    │ (\u001b[38;5;45mNone\u001b[0m, \u001b[38;5;34m8\u001b[0m, \u001b[38;5;34m60\u001b[0m, \u001b[38;5;34m60\u001b[0m, \u001b[38;5;34m64\u001b[0m)  │             \u001b[38;5;34m0\u001b[0m │\n",
       "├─────────────────────────────────┼────────────────────────┼───────────────┤\n",
       "│ conv3d_1 (\u001b[38;5;33mConv3D\u001b[0m)               │ (\u001b[38;5;45mNone\u001b[0m, \u001b[38;5;34m8\u001b[0m, \u001b[38;5;34m60\u001b[0m, \u001b[38;5;34m60\u001b[0m, \u001b[38;5;34m128\u001b[0m) │       \u001b[38;5;34m221,312\u001b[0m │\n",
       "├─────────────────────────────────┼────────────────────────┼───────────────┤\n",
       "│ batch_normalization_1           │ (\u001b[38;5;45mNone\u001b[0m, \u001b[38;5;34m8\u001b[0m, \u001b[38;5;34m60\u001b[0m, \u001b[38;5;34m60\u001b[0m, \u001b[38;5;34m128\u001b[0m) │           \u001b[38;5;34m512\u001b[0m │\n",
       "│ (\u001b[38;5;33mBatchNormalization\u001b[0m)            │                        │               │\n",
       "├─────────────────────────────────┼────────────────────────┼───────────────┤\n",
       "│ max_pooling3d_1 (\u001b[38;5;33mMaxPooling3D\u001b[0m)  │ (\u001b[38;5;45mNone\u001b[0m, \u001b[38;5;34m4\u001b[0m, \u001b[38;5;34m30\u001b[0m, \u001b[38;5;34m30\u001b[0m, \u001b[38;5;34m128\u001b[0m) │             \u001b[38;5;34m0\u001b[0m │\n",
       "├─────────────────────────────────┼────────────────────────┼───────────────┤\n",
       "│ conv3d_2 (\u001b[38;5;33mConv3D\u001b[0m)               │ (\u001b[38;5;45mNone\u001b[0m, \u001b[38;5;34m4\u001b[0m, \u001b[38;5;34m30\u001b[0m, \u001b[38;5;34m30\u001b[0m, \u001b[38;5;34m256\u001b[0m) │       \u001b[38;5;34m884,992\u001b[0m │\n",
       "├─────────────────────────────────┼────────────────────────┼───────────────┤\n",
       "│ batch_normalization_2           │ (\u001b[38;5;45mNone\u001b[0m, \u001b[38;5;34m4\u001b[0m, \u001b[38;5;34m30\u001b[0m, \u001b[38;5;34m30\u001b[0m, \u001b[38;5;34m256\u001b[0m) │         \u001b[38;5;34m1,024\u001b[0m │\n",
       "│ (\u001b[38;5;33mBatchNormalization\u001b[0m)            │                        │               │\n",
       "├─────────────────────────────────┼────────────────────────┼───────────────┤\n",
       "│ max_pooling3d_2 (\u001b[38;5;33mMaxPooling3D\u001b[0m)  │ (\u001b[38;5;45mNone\u001b[0m, \u001b[38;5;34m2\u001b[0m, \u001b[38;5;34m15\u001b[0m, \u001b[38;5;34m15\u001b[0m, \u001b[38;5;34m256\u001b[0m) │             \u001b[38;5;34m0\u001b[0m │\n",
       "├─────────────────────────────────┼────────────────────────┼───────────────┤\n",
       "│ conv3d_3 (\u001b[38;5;33mConv3D\u001b[0m)               │ (\u001b[38;5;45mNone\u001b[0m, \u001b[38;5;34m2\u001b[0m, \u001b[38;5;34m15\u001b[0m, \u001b[38;5;34m15\u001b[0m, \u001b[38;5;34m512\u001b[0m) │     \u001b[38;5;34m3,539,456\u001b[0m │\n",
       "├─────────────────────────────────┼────────────────────────┼───────────────┤\n",
       "│ batch_normalization_3           │ (\u001b[38;5;45mNone\u001b[0m, \u001b[38;5;34m2\u001b[0m, \u001b[38;5;34m15\u001b[0m, \u001b[38;5;34m15\u001b[0m, \u001b[38;5;34m512\u001b[0m) │         \u001b[38;5;34m2,048\u001b[0m │\n",
       "│ (\u001b[38;5;33mBatchNormalization\u001b[0m)            │                        │               │\n",
       "├─────────────────────────────────┼────────────────────────┼───────────────┤\n",
       "│ max_pooling3d_3 (\u001b[38;5;33mMaxPooling3D\u001b[0m)  │ (\u001b[38;5;45mNone\u001b[0m, \u001b[38;5;34m1\u001b[0m, \u001b[38;5;34m7\u001b[0m, \u001b[38;5;34m7\u001b[0m, \u001b[38;5;34m512\u001b[0m)   │             \u001b[38;5;34m0\u001b[0m │\n",
       "├─────────────────────────────────┼────────────────────────┼───────────────┤\n",
       "│ flatten (\u001b[38;5;33mFlatten\u001b[0m)               │ (\u001b[38;5;45mNone\u001b[0m, \u001b[38;5;34m25088\u001b[0m)          │             \u001b[38;5;34m0\u001b[0m │\n",
       "├─────────────────────────────────┼────────────────────────┼───────────────┤\n",
       "│ dense (\u001b[38;5;33mDense\u001b[0m)                   │ (\u001b[38;5;45mNone\u001b[0m, \u001b[38;5;34m512\u001b[0m)            │    \u001b[38;5;34m12,845,568\u001b[0m │\n",
       "├─────────────────────────────────┼────────────────────────┼───────────────┤\n",
       "│ batch_normalization_4           │ (\u001b[38;5;45mNone\u001b[0m, \u001b[38;5;34m512\u001b[0m)            │         \u001b[38;5;34m2,048\u001b[0m │\n",
       "│ (\u001b[38;5;33mBatchNormalization\u001b[0m)            │                        │               │\n",
       "├─────────────────────────────────┼────────────────────────┼───────────────┤\n",
       "│ dropout (\u001b[38;5;33mDropout\u001b[0m)               │ (\u001b[38;5;45mNone\u001b[0m, \u001b[38;5;34m512\u001b[0m)            │             \u001b[38;5;34m0\u001b[0m │\n",
       "├─────────────────────────────────┼────────────────────────┼───────────────┤\n",
       "│ dense_1 (\u001b[38;5;33mDense\u001b[0m)                 │ (\u001b[38;5;45mNone\u001b[0m, \u001b[38;5;34m256\u001b[0m)            │       \u001b[38;5;34m131,328\u001b[0m │\n",
       "├─────────────────────────────────┼────────────────────────┼───────────────┤\n",
       "│ batch_normalization_5           │ (\u001b[38;5;45mNone\u001b[0m, \u001b[38;5;34m256\u001b[0m)            │         \u001b[38;5;34m1,024\u001b[0m │\n",
       "│ (\u001b[38;5;33mBatchNormalization\u001b[0m)            │                        │               │\n",
       "├─────────────────────────────────┼────────────────────────┼───────────────┤\n",
       "│ dropout_1 (\u001b[38;5;33mDropout\u001b[0m)             │ (\u001b[38;5;45mNone\u001b[0m, \u001b[38;5;34m256\u001b[0m)            │             \u001b[38;5;34m0\u001b[0m │\n",
       "├─────────────────────────────────┼────────────────────────┼───────────────┤\n",
       "│ dense_2 (\u001b[38;5;33mDense\u001b[0m)                 │ (\u001b[38;5;45mNone\u001b[0m, \u001b[38;5;34m2\u001b[0m)              │           \u001b[38;5;34m514\u001b[0m │\n",
       "└─────────────────────────────────┴────────────────────────┴───────────────┘\n"
      ]
     },
     "metadata": {},
     "output_type": "display_data"
    },
    {
     "data": {
      "text/html": [
       "<pre style=\"white-space:pre;overflow-x:auto;line-height:normal;font-family:Menlo,'DejaVu Sans Mono',consolas,'Courier New',monospace\"><span style=\"font-weight: bold\"> Total params: </span><span style=\"color: #00af00; text-decoration-color: #00af00\">17,635,330</span> (67.27 MB)\n",
       "</pre>\n"
      ],
      "text/plain": [
       "\u001b[1m Total params: \u001b[0m\u001b[38;5;34m17,635,330\u001b[0m (67.27 MB)\n"
      ]
     },
     "metadata": {},
     "output_type": "display_data"
    },
    {
     "data": {
      "text/html": [
       "<pre style=\"white-space:pre;overflow-x:auto;line-height:normal;font-family:Menlo,'DejaVu Sans Mono',consolas,'Courier New',monospace\"><span style=\"font-weight: bold\"> Trainable params: </span><span style=\"color: #00af00; text-decoration-color: #00af00\">17,631,874</span> (67.26 MB)\n",
       "</pre>\n"
      ],
      "text/plain": [
       "\u001b[1m Trainable params: \u001b[0m\u001b[38;5;34m17,631,874\u001b[0m (67.26 MB)\n"
      ]
     },
     "metadata": {},
     "output_type": "display_data"
    },
    {
     "data": {
      "text/html": [
       "<pre style=\"white-space:pre;overflow-x:auto;line-height:normal;font-family:Menlo,'DejaVu Sans Mono',consolas,'Courier New',monospace\"><span style=\"font-weight: bold\"> Non-trainable params: </span><span style=\"color: #00af00; text-decoration-color: #00af00\">3,456</span> (13.50 KB)\n",
       "</pre>\n"
      ],
      "text/plain": [
       "\u001b[1m Non-trainable params: \u001b[0m\u001b[38;5;34m3,456\u001b[0m (13.50 KB)\n"
      ]
     },
     "metadata": {},
     "output_type": "display_data"
    }
   ],
   "source": [
    "from tensorflow.keras.models import Sequential\n",
    "from tensorflow.keras.layers import Conv3D, MaxPooling3D, Flatten, Dense, Dropout, BatchNormalization, Input\n",
    "from tensorflow.keras.optimizers import Adam\n",
    "\n",
    "# Define the model\n",
    "model = Sequential()\n",
    "\n",
    "# Use an Input layer to specify the input shape\n",
    "model.add(Input(shape=(16, 120, 120, 3)))\n",
    "\n",
    "# 1st Conv3D Layer with increased filters\n",
    "model.add(Conv3D(filters=64, kernel_size=(3, 3, 3), activation='relu', padding='same'))\n",
    "model.add(BatchNormalization())\n",
    "model.add(MaxPooling3D(pool_size=(2, 2, 2)))\n",
    "\n",
    "# 2nd Conv3D Layer with increased filters\n",
    "model.add(Conv3D(filters=128, kernel_size=(3, 3, 3), activation='relu', padding='same'))\n",
    "model.add(BatchNormalization())\n",
    "model.add(MaxPooling3D(pool_size=(2, 2, 2)))\n",
    "\n",
    "# 3rd Conv3D Layer with increased filters\n",
    "model.add(Conv3D(filters=256, kernel_size=(3, 3, 3), activation='relu', padding='same'))\n",
    "model.add(BatchNormalization())\n",
    "model.add(MaxPooling3D(pool_size=(2, 2, 2)))\n",
    "\n",
    "# 4th Conv3D Layer with increased filters\n",
    "model.add(Conv3D(filters=512, kernel_size=(3, 3, 3), activation='relu', padding='same'))\n",
    "model.add(BatchNormalization())\n",
    "model.add(MaxPooling3D(pool_size=(2, 2, 2)))\n",
    "\n",
    "# Flatten the output from the Conv3D layers\n",
    "model.add(Flatten())\n",
    "\n",
    "# 1st Fully Connected Layer\n",
    "model.add(Dense(units=512, activation='relu'))\n",
    "model.add(BatchNormalization())  # Add BatchNormalization after Dense layer\n",
    "model.add(Dropout(0.4))  # Dropout for regularization\n",
    "\n",
    "# 2nd Fully Connected Layer (newly added)\n",
    "model.add(Dense(units=256, activation='relu'))  # New dense layer\n",
    "model.add(BatchNormalization())  # Add BatchNormalization after the new dense layer\n",
    "model.add(Dropout(0.4))  # Regularization for the new layer\n",
    "\n",
    "# Output Layer for Binary Classification\n",
    "model.add(Dense(units=2, activation='softmax'))  # Softmax for multi-class classification\n",
    "\n",
    "# Compile the model\n",
    "model.compile(optimizer=Adam(learning_rate=0.001), loss='binary_crossentropy', metrics=['accuracy'])\n",
    "\n",
    "# Display the model summary\n",
    "model.summary()\n"
   ]
  },
  {
   "cell_type": "code",
   "execution_count": 9,
   "metadata": {
    "execution": {
     "iopub.execute_input": "2024-10-24T18:36:20.643155Z",
     "iopub.status.busy": "2024-10-24T18:36:20.642779Z",
     "iopub.status.idle": "2024-10-24T18:36:20.650038Z",
     "shell.execute_reply": "2024-10-24T18:36:20.649004Z",
     "shell.execute_reply.started": "2024-10-24T18:36:20.643118Z"
    },
    "trusted": true
   },
   "outputs": [],
   "source": [
    "# Reduce learning rate when validation accuracy plateaus\n",
    "from tensorflow.keras.callbacks import ReduceLROnPlateau\n",
    "reduce_lr = ReduceLROnPlateau(monitor='val_loss', factor=0.5, patience=7, min_lr=0.00001, verbose=1)"
   ]
  },
  {
   "cell_type": "code",
   "execution_count": 10,
   "metadata": {
    "execution": {
     "iopub.execute_input": "2024-10-24T18:36:36.351961Z",
     "iopub.status.busy": "2024-10-24T18:36:36.351578Z",
     "iopub.status.idle": "2024-10-24T18:36:36.358808Z",
     "shell.execute_reply": "2024-10-24T18:36:36.357754Z",
     "shell.execute_reply.started": "2024-10-24T18:36:36.351923Z"
    },
    "trusted": true
   },
   "outputs": [],
   "source": [
    "from tensorflow.keras.callbacks import ModelCheckpoint\n",
    "from tensorflow.keras.callbacks import EarlyStopping\n",
    "\n",
    "# Define the ModelCheckpoint callback\n",
    "checkpoint1 = ModelCheckpoint(\n",
    "    filepath='best3dcnn_model.weights.h5',   # Path to save the model\n",
    "    monitor='val_accuracy',     # Monitor validation accuracy\n",
    "    save_best_only=True,        # Save only the best model\n",
    "    save_weights_only=True,\n",
    "    mode='max',                 # 'max' because we want to maximize accuracy\n",
    "    verbose=1                   # Print a message when saving the model\n",
    ")\n",
    "\n",
    "checkpoint2 = ModelCheckpoint(\n",
    "    filepath='best3dcnn_model.keras',   # Path to save the model\n",
    "    monitor='val_accuracy',     # Monitor validation accuracy\n",
    "    save_best_only=True,        # Save only the best model\n",
    "    save_weights_only=False,\n",
    "    mode='max',                 # 'max' because we want to maximize accuracy\n",
    "    verbose=1                   # Print a message when saving the model\n",
    ")\n",
    "\n",
    "\n",
    "early_stopping = EarlyStopping(\n",
    "    monitor='val_loss',     # Monitor validation loss\n",
    "    patience=15,             # Stop after 3 epochs of no improvement\n",
    "    restore_best_weights=True,  # Restore model weights from the epoch with the best validation loss\n",
    "    mode='min'              # 'min' because we want to minimize validation loss\n",
    ")"
   ]
  },
  {
   "cell_type": "code",
   "execution_count": 11,
   "metadata": {
    "execution": {
     "iopub.execute_input": "2024-10-24T18:36:56.594212Z",
     "iopub.status.busy": "2024-10-24T18:36:56.593486Z",
     "iopub.status.idle": "2024-10-24T18:57:37.531799Z",
     "shell.execute_reply": "2024-10-24T18:57:37.530777Z",
     "shell.execute_reply.started": "2024-10-24T18:36:56.594174Z"
    },
    "trusted": true
   },
   "outputs": [
    {
     "name": "stdout",
     "output_type": "stream",
     "text": [
      "Epoch 1/40\n"
     ]
    },
    {
     "name": "stderr",
     "output_type": "stream",
     "text": [
      "WARNING: All log messages before absl::InitializeLog() is called are written to STDERR\n",
      "I0000 00:00:1729795053.913968    4934 service.cc:145] XLA service 0x7e6948007e40 initialized for platform CUDA (this does not guarantee that XLA will be used). Devices:\n",
      "I0000 00:00:1729795053.914795    4934 service.cc:153]   StreamExecutor device (0): Tesla T4, Compute Capability 7.5\n",
      "I0000 00:00:1729795053.914809    4934 service.cc:153]   StreamExecutor device (1): Tesla T4, Compute Capability 7.5\n",
      "I0000 00:00:1729795070.485427    4934 device_compiler.h:188] Compiled cluster using XLA!  This line is logged at most once for the lifetime of the process.\n"
     ]
    },
    {
     "name": "stdout",
     "output_type": "stream",
     "text": [
      "\u001b[1m120/120\u001b[0m \u001b[32m━━━━━━━━━━━━━━━━━━━━\u001b[0m\u001b[37m\u001b[0m \u001b[1m0s\u001b[0m 210ms/step - accuracy: 0.6066 - loss: 0.8975\n",
      "Epoch 1: val_accuracy improved from -inf to 0.49167, saving model to best3dcnn_model.weights.h5\n",
      "\n",
      "Epoch 1: val_accuracy improved from -inf to 0.49167, saving model to best3dcnn_model.keras\n",
      "\u001b[1m120/120\u001b[0m \u001b[32m━━━━━━━━━━━━━━━━━━━━\u001b[0m\u001b[37m\u001b[0m \u001b[1m52s\u001b[0m 260ms/step - accuracy: 0.6067 - loss: 0.8970 - val_accuracy: 0.4917 - val_loss: 1.2730 - learning_rate: 0.0010\n",
      "Epoch 2/40\n",
      "\u001b[1m120/120\u001b[0m \u001b[32m━━━━━━━━━━━━━━━━━━━━\u001b[0m\u001b[37m\u001b[0m \u001b[1m0s\u001b[0m 221ms/step - accuracy: 0.6973 - loss: 0.7099\n",
      "Epoch 2: val_accuracy did not improve from 0.49167\n",
      "\n",
      "Epoch 2: val_accuracy did not improve from 0.49167\n",
      "\u001b[1m120/120\u001b[0m \u001b[32m━━━━━━━━━━━━━━━━━━━━\u001b[0m\u001b[37m\u001b[0m \u001b[1m29s\u001b[0m 242ms/step - accuracy: 0.6974 - loss: 0.7095 - val_accuracy: 0.4917 - val_loss: 3.4939 - learning_rate: 0.0010\n",
      "Epoch 3/40\n",
      "\u001b[1m120/120\u001b[0m \u001b[32m━━━━━━━━━━━━━━━━━━━━\u001b[0m\u001b[37m\u001b[0m \u001b[1m0s\u001b[0m 225ms/step - accuracy: 0.6977 - loss: 0.6699\n",
      "Epoch 3: val_accuracy improved from 0.49167 to 0.51250, saving model to best3dcnn_model.weights.h5\n",
      "\n",
      "Epoch 3: val_accuracy improved from 0.49167 to 0.51250, saving model to best3dcnn_model.keras\n",
      "\u001b[1m120/120\u001b[0m \u001b[32m━━━━━━━━━━━━━━━━━━━━\u001b[0m\u001b[37m\u001b[0m \u001b[1m31s\u001b[0m 257ms/step - accuracy: 0.6973 - loss: 0.6703 - val_accuracy: 0.5125 - val_loss: 0.9328 - learning_rate: 0.0010\n",
      "Epoch 4/40\n",
      "\u001b[1m120/120\u001b[0m \u001b[32m━━━━━━━━━━━━━━━━━━━━\u001b[0m\u001b[37m\u001b[0m \u001b[1m0s\u001b[0m 218ms/step - accuracy: 0.6951 - loss: 0.6240\n",
      "Epoch 4: val_accuracy improved from 0.51250 to 0.74167, saving model to best3dcnn_model.weights.h5\n",
      "\n",
      "Epoch 4: val_accuracy improved from 0.51250 to 0.74167, saving model to best3dcnn_model.keras\n",
      "\u001b[1m120/120\u001b[0m \u001b[32m━━━━━━━━━━━━━━━━━━━━\u001b[0m\u001b[37m\u001b[0m \u001b[1m30s\u001b[0m 249ms/step - accuracy: 0.6952 - loss: 0.6239 - val_accuracy: 0.7417 - val_loss: 0.5649 - learning_rate: 0.0010\n",
      "Epoch 5/40\n",
      "\u001b[1m120/120\u001b[0m \u001b[32m━━━━━━━━━━━━━━━━━━━━\u001b[0m\u001b[37m\u001b[0m \u001b[1m0s\u001b[0m 220ms/step - accuracy: 0.7406 - loss: 0.5614\n",
      "Epoch 5: val_accuracy improved from 0.74167 to 0.80417, saving model to best3dcnn_model.weights.h5\n",
      "\n",
      "Epoch 5: val_accuracy improved from 0.74167 to 0.80417, saving model to best3dcnn_model.keras\n",
      "\u001b[1m120/120\u001b[0m \u001b[32m━━━━━━━━━━━━━━━━━━━━\u001b[0m\u001b[37m\u001b[0m \u001b[1m30s\u001b[0m 251ms/step - accuracy: 0.7408 - loss: 0.5611 - val_accuracy: 0.8042 - val_loss: 0.4495 - learning_rate: 0.0010\n",
      "Epoch 6/40\n",
      "\u001b[1m120/120\u001b[0m \u001b[32m━━━━━━━━━━━━━━━━━━━━\u001b[0m\u001b[37m\u001b[0m \u001b[1m0s\u001b[0m 222ms/step - accuracy: 0.7884 - loss: 0.4953\n",
      "Epoch 6: val_accuracy did not improve from 0.80417\n",
      "\n",
      "Epoch 6: val_accuracy did not improve from 0.80417\n",
      "\u001b[1m120/120\u001b[0m \u001b[32m━━━━━━━━━━━━━━━━━━━━\u001b[0m\u001b[37m\u001b[0m \u001b[1m29s\u001b[0m 243ms/step - accuracy: 0.7882 - loss: 0.4955 - val_accuracy: 0.7917 - val_loss: 0.4961 - learning_rate: 0.0010\n",
      "Epoch 7/40\n",
      "\u001b[1m120/120\u001b[0m \u001b[32m━━━━━━━━━━━━━━━━━━━━\u001b[0m\u001b[37m\u001b[0m \u001b[1m0s\u001b[0m 220ms/step - accuracy: 0.7934 - loss: 0.4845\n",
      "Epoch 7: val_accuracy did not improve from 0.80417\n",
      "\n",
      "Epoch 7: val_accuracy did not improve from 0.80417\n",
      "\u001b[1m120/120\u001b[0m \u001b[32m━━━━━━━━━━━━━━━━━━━━\u001b[0m\u001b[37m\u001b[0m \u001b[1m29s\u001b[0m 241ms/step - accuracy: 0.7934 - loss: 0.4847 - val_accuracy: 0.7292 - val_loss: 0.5943 - learning_rate: 0.0010\n",
      "Epoch 8/40\n",
      "\u001b[1m120/120\u001b[0m \u001b[32m━━━━━━━━━━━━━━━━━━━━\u001b[0m\u001b[37m\u001b[0m \u001b[1m0s\u001b[0m 219ms/step - accuracy: 0.7790 - loss: 0.4696\n",
      "Epoch 8: val_accuracy did not improve from 0.80417\n",
      "\n",
      "Epoch 8: val_accuracy did not improve from 0.80417\n",
      "\u001b[1m120/120\u001b[0m \u001b[32m━━━━━━━━━━━━━━━━━━━━\u001b[0m\u001b[37m\u001b[0m \u001b[1m29s\u001b[0m 241ms/step - accuracy: 0.7790 - loss: 0.4698 - val_accuracy: 0.5417 - val_loss: 1.1885 - learning_rate: 0.0010\n",
      "Epoch 9/40\n",
      "\u001b[1m120/120\u001b[0m \u001b[32m━━━━━━━━━━━━━━━━━━━━\u001b[0m\u001b[37m\u001b[0m \u001b[1m0s\u001b[0m 219ms/step - accuracy: 0.7440 - loss: 0.5523\n",
      "Epoch 9: val_accuracy improved from 0.80417 to 0.82500, saving model to best3dcnn_model.weights.h5\n",
      "\n",
      "Epoch 9: val_accuracy improved from 0.80417 to 0.82500, saving model to best3dcnn_model.keras\n",
      "\u001b[1m120/120\u001b[0m \u001b[32m━━━━━━━━━━━━━━━━━━━━\u001b[0m\u001b[37m\u001b[0m \u001b[1m30s\u001b[0m 250ms/step - accuracy: 0.7441 - loss: 0.5520 - val_accuracy: 0.8250 - val_loss: 0.4167 - learning_rate: 0.0010\n",
      "Epoch 10/40\n",
      "\u001b[1m120/120\u001b[0m \u001b[32m━━━━━━━━━━━━━━━━━━━━\u001b[0m\u001b[37m\u001b[0m \u001b[1m0s\u001b[0m 220ms/step - accuracy: 0.7739 - loss: 0.4946\n",
      "Epoch 10: val_accuracy did not improve from 0.82500\n",
      "\n",
      "Epoch 10: val_accuracy did not improve from 0.82500\n",
      "\u001b[1m120/120\u001b[0m \u001b[32m━━━━━━━━━━━━━━━━━━━━\u001b[0m\u001b[37m\u001b[0m \u001b[1m29s\u001b[0m 241ms/step - accuracy: 0.7740 - loss: 0.4944 - val_accuracy: 0.8083 - val_loss: 0.4970 - learning_rate: 0.0010\n",
      "Epoch 11/40\n",
      "\u001b[1m120/120\u001b[0m \u001b[32m━━━━━━━━━━━━━━━━━━━━\u001b[0m\u001b[37m\u001b[0m \u001b[1m0s\u001b[0m 221ms/step - accuracy: 0.7772 - loss: 0.5194\n",
      "Epoch 11: val_accuracy did not improve from 0.82500\n",
      "\n",
      "Epoch 11: val_accuracy did not improve from 0.82500\n",
      "\u001b[1m120/120\u001b[0m \u001b[32m━━━━━━━━━━━━━━━━━━━━\u001b[0m\u001b[37m\u001b[0m \u001b[1m29s\u001b[0m 242ms/step - accuracy: 0.7774 - loss: 0.5188 - val_accuracy: 0.7542 - val_loss: 0.6223 - learning_rate: 0.0010\n",
      "Epoch 12/40\n",
      "\u001b[1m120/120\u001b[0m \u001b[32m━━━━━━━━━━━━━━━━━━━━\u001b[0m\u001b[37m\u001b[0m \u001b[1m0s\u001b[0m 221ms/step - accuracy: 0.8456 - loss: 0.3980\n",
      "Epoch 12: val_accuracy did not improve from 0.82500\n",
      "\n",
      "Epoch 12: val_accuracy did not improve from 0.82500\n",
      "\u001b[1m120/120\u001b[0m \u001b[32m━━━━━━━━━━━━━━━━━━━━\u001b[0m\u001b[37m\u001b[0m \u001b[1m29s\u001b[0m 242ms/step - accuracy: 0.8455 - loss: 0.3981 - val_accuracy: 0.7333 - val_loss: 0.5672 - learning_rate: 0.0010\n",
      "Epoch 13/40\n",
      "\u001b[1m120/120\u001b[0m \u001b[32m━━━━━━━━━━━━━━━━━━━━\u001b[0m\u001b[37m\u001b[0m \u001b[1m0s\u001b[0m 220ms/step - accuracy: 0.8053 - loss: 0.4098\n",
      "Epoch 13: val_accuracy improved from 0.82500 to 0.86250, saving model to best3dcnn_model.weights.h5\n",
      "\n",
      "Epoch 13: val_accuracy improved from 0.82500 to 0.86250, saving model to best3dcnn_model.keras\n",
      "\u001b[1m120/120\u001b[0m \u001b[32m━━━━━━━━━━━━━━━━━━━━\u001b[0m\u001b[37m\u001b[0m \u001b[1m30s\u001b[0m 252ms/step - accuracy: 0.8053 - loss: 0.4098 - val_accuracy: 0.8625 - val_loss: 0.3450 - learning_rate: 0.0010\n",
      "Epoch 14/40\n",
      "\u001b[1m120/120\u001b[0m \u001b[32m━━━━━━━━━━━━━━━━━━━━\u001b[0m\u001b[37m\u001b[0m \u001b[1m0s\u001b[0m 220ms/step - accuracy: 0.8307 - loss: 0.4071\n",
      "Epoch 14: val_accuracy did not improve from 0.86250\n",
      "\n",
      "Epoch 14: val_accuracy did not improve from 0.86250\n",
      "\u001b[1m120/120\u001b[0m \u001b[32m━━━━━━━━━━━━━━━━━━━━\u001b[0m\u001b[37m\u001b[0m \u001b[1m29s\u001b[0m 242ms/step - accuracy: 0.8306 - loss: 0.4071 - val_accuracy: 0.7667 - val_loss: 0.6142 - learning_rate: 0.0010\n",
      "Epoch 15/40\n",
      "\u001b[1m120/120\u001b[0m \u001b[32m━━━━━━━━━━━━━━━━━━━━\u001b[0m\u001b[37m\u001b[0m \u001b[1m0s\u001b[0m 221ms/step - accuracy: 0.8174 - loss: 0.4268\n",
      "Epoch 15: val_accuracy did not improve from 0.86250\n",
      "\n",
      "Epoch 15: val_accuracy did not improve from 0.86250\n",
      "\u001b[1m120/120\u001b[0m \u001b[32m━━━━━━━━━━━━━━━━━━━━\u001b[0m\u001b[37m\u001b[0m \u001b[1m29s\u001b[0m 242ms/step - accuracy: 0.8175 - loss: 0.4266 - val_accuracy: 0.8333 - val_loss: 0.4380 - learning_rate: 0.0010\n",
      "Epoch 16/40\n",
      "\u001b[1m120/120\u001b[0m \u001b[32m━━━━━━━━━━━━━━━━━━━━\u001b[0m\u001b[37m\u001b[0m \u001b[1m0s\u001b[0m 220ms/step - accuracy: 0.8043 - loss: 0.4453\n",
      "Epoch 16: val_accuracy did not improve from 0.86250\n",
      "\n",
      "Epoch 16: val_accuracy did not improve from 0.86250\n",
      "\u001b[1m120/120\u001b[0m \u001b[32m━━━━━━━━━━━━━━━━━━━━\u001b[0m\u001b[37m\u001b[0m \u001b[1m29s\u001b[0m 241ms/step - accuracy: 0.8043 - loss: 0.4454 - val_accuracy: 0.6500 - val_loss: 0.8228 - learning_rate: 0.0010\n",
      "Epoch 17/40\n",
      "\u001b[1m120/120\u001b[0m \u001b[32m━━━━━━━━━━━━━━━━━━━━\u001b[0m\u001b[37m\u001b[0m \u001b[1m0s\u001b[0m 220ms/step - accuracy: 0.8268 - loss: 0.4105\n",
      "Epoch 17: val_accuracy did not improve from 0.86250\n",
      "\n",
      "Epoch 17: val_accuracy did not improve from 0.86250\n",
      "\u001b[1m120/120\u001b[0m \u001b[32m━━━━━━━━━━━━━━━━━━━━\u001b[0m\u001b[37m\u001b[0m \u001b[1m29s\u001b[0m 241ms/step - accuracy: 0.8267 - loss: 0.4107 - val_accuracy: 0.7958 - val_loss: 0.4884 - learning_rate: 0.0010\n",
      "Epoch 18/40\n",
      "\u001b[1m120/120\u001b[0m \u001b[32m━━━━━━━━━━━━━━━━━━━━\u001b[0m\u001b[37m\u001b[0m \u001b[1m0s\u001b[0m 220ms/step - accuracy: 0.8190 - loss: 0.4016\n",
      "Epoch 18: val_accuracy did not improve from 0.86250\n",
      "\n",
      "Epoch 18: val_accuracy did not improve from 0.86250\n",
      "\u001b[1m120/120\u001b[0m \u001b[32m━━━━━━━━━━━━━━━━━━━━\u001b[0m\u001b[37m\u001b[0m \u001b[1m29s\u001b[0m 241ms/step - accuracy: 0.8191 - loss: 0.4016 - val_accuracy: 0.8500 - val_loss: 0.3862 - learning_rate: 0.0010\n",
      "Epoch 19/40\n",
      "\u001b[1m120/120\u001b[0m \u001b[32m━━━━━━━━━━━━━━━━━━━━\u001b[0m\u001b[37m\u001b[0m \u001b[1m0s\u001b[0m 220ms/step - accuracy: 0.8609 - loss: 0.3415\n",
      "Epoch 19: val_accuracy did not improve from 0.86250\n",
      "\n",
      "Epoch 19: val_accuracy did not improve from 0.86250\n",
      "\u001b[1m120/120\u001b[0m \u001b[32m━━━━━━━━━━━━━━━━━━━━\u001b[0m\u001b[37m\u001b[0m \u001b[1m29s\u001b[0m 241ms/step - accuracy: 0.8608 - loss: 0.3417 - val_accuracy: 0.5875 - val_loss: 1.2023 - learning_rate: 0.0010\n",
      "Epoch 20/40\n",
      "\u001b[1m120/120\u001b[0m \u001b[32m━━━━━━━━━━━━━━━━━━━━\u001b[0m\u001b[37m\u001b[0m \u001b[1m0s\u001b[0m 220ms/step - accuracy: 0.8551 - loss: 0.3571\n",
      "Epoch 20: val_accuracy improved from 0.86250 to 0.86667, saving model to best3dcnn_model.weights.h5\n",
      "\n",
      "Epoch 20: val_accuracy improved from 0.86250 to 0.86667, saving model to best3dcnn_model.keras\n",
      "\u001b[1m120/120\u001b[0m \u001b[32m━━━━━━━━━━━━━━━━━━━━\u001b[0m\u001b[37m\u001b[0m \u001b[1m30s\u001b[0m 252ms/step - accuracy: 0.8552 - loss: 0.3568 - val_accuracy: 0.8667 - val_loss: 0.3272 - learning_rate: 0.0010\n",
      "Epoch 21/40\n",
      "\u001b[1m120/120\u001b[0m \u001b[32m━━━━━━━━━━━━━━━━━━━━\u001b[0m\u001b[37m\u001b[0m \u001b[1m0s\u001b[0m 220ms/step - accuracy: 0.8663 - loss: 0.2960\n",
      "Epoch 21: val_accuracy did not improve from 0.86667\n",
      "\n",
      "Epoch 21: val_accuracy did not improve from 0.86667\n",
      "\u001b[1m120/120\u001b[0m \u001b[32m━━━━━━━━━━━━━━━━━━━━\u001b[0m\u001b[37m\u001b[0m \u001b[1m29s\u001b[0m 242ms/step - accuracy: 0.8662 - loss: 0.2963 - val_accuracy: 0.7875 - val_loss: 0.5698 - learning_rate: 0.0010\n",
      "Epoch 22/40\n",
      "\u001b[1m120/120\u001b[0m \u001b[32m━━━━━━━━━━━━━━━━━━━━\u001b[0m\u001b[37m\u001b[0m \u001b[1m0s\u001b[0m 222ms/step - accuracy: 0.8600 - loss: 0.3333\n",
      "Epoch 22: val_accuracy improved from 0.86667 to 0.87083, saving model to best3dcnn_model.weights.h5\n",
      "\n",
      "Epoch 22: val_accuracy improved from 0.86667 to 0.87083, saving model to best3dcnn_model.keras\n",
      "\u001b[1m120/120\u001b[0m \u001b[32m━━━━━━━━━━━━━━━━━━━━\u001b[0m\u001b[37m\u001b[0m \u001b[1m43s\u001b[0m 255ms/step - accuracy: 0.8599 - loss: 0.3335 - val_accuracy: 0.8708 - val_loss: 0.3467 - learning_rate: 0.0010\n",
      "Epoch 23/40\n",
      "\u001b[1m120/120\u001b[0m \u001b[32m━━━━━━━━━━━━━━━━━━━━\u001b[0m\u001b[37m\u001b[0m \u001b[1m0s\u001b[0m 223ms/step - accuracy: 0.8628 - loss: 0.3375\n",
      "Epoch 23: val_accuracy did not improve from 0.87083\n",
      "\n",
      "Epoch 23: val_accuracy did not improve from 0.87083\n",
      "\u001b[1m120/120\u001b[0m \u001b[32m━━━━━━━━━━━━━━━━━━━━\u001b[0m\u001b[37m\u001b[0m \u001b[1m29s\u001b[0m 244ms/step - accuracy: 0.8629 - loss: 0.3373 - val_accuracy: 0.8417 - val_loss: 0.4245 - learning_rate: 0.0010\n",
      "Epoch 24/40\n",
      "\u001b[1m120/120\u001b[0m \u001b[32m━━━━━━━━━━━━━━━━━━━━\u001b[0m\u001b[37m\u001b[0m \u001b[1m0s\u001b[0m 217ms/step - accuracy: 0.8333 - loss: 0.3359\n",
      "Epoch 24: val_accuracy did not improve from 0.87083\n",
      "\n",
      "Epoch 24: val_accuracy did not improve from 0.87083\n",
      "\u001b[1m120/120\u001b[0m \u001b[32m━━━━━━━━━━━━━━━━━━━━\u001b[0m\u001b[37m\u001b[0m \u001b[1m29s\u001b[0m 238ms/step - accuracy: 0.8334 - loss: 0.3358 - val_accuracy: 0.8542 - val_loss: 0.3399 - learning_rate: 0.0010\n",
      "Epoch 25/40\n",
      "\u001b[1m120/120\u001b[0m \u001b[32m━━━━━━━━━━━━━━━━━━━━\u001b[0m\u001b[37m\u001b[0m \u001b[1m0s\u001b[0m 220ms/step - accuracy: 0.8695 - loss: 0.3200\n",
      "Epoch 25: val_accuracy did not improve from 0.87083\n",
      "\n",
      "Epoch 25: val_accuracy did not improve from 0.87083\n",
      "\u001b[1m120/120\u001b[0m \u001b[32m━━━━━━━━━━━━━━━━━━━━\u001b[0m\u001b[37m\u001b[0m \u001b[1m29s\u001b[0m 242ms/step - accuracy: 0.8695 - loss: 0.3199 - val_accuracy: 0.8208 - val_loss: 0.4323 - learning_rate: 0.0010\n",
      "Epoch 26/40\n",
      "\u001b[1m120/120\u001b[0m \u001b[32m━━━━━━━━━━━━━━━━━━━━\u001b[0m\u001b[37m\u001b[0m \u001b[1m0s\u001b[0m 222ms/step - accuracy: 0.8690 - loss: 0.3103\n",
      "Epoch 26: val_accuracy did not improve from 0.87083\n",
      "\n",
      "Epoch 26: val_accuracy did not improve from 0.87083\n",
      "\u001b[1m120/120\u001b[0m \u001b[32m━━━━━━━━━━━━━━━━━━━━\u001b[0m\u001b[37m\u001b[0m \u001b[1m29s\u001b[0m 243ms/step - accuracy: 0.8688 - loss: 0.3107 - val_accuracy: 0.7958 - val_loss: 0.5441 - learning_rate: 0.0010\n",
      "Epoch 27/40\n",
      "\u001b[1m120/120\u001b[0m \u001b[32m━━━━━━━━━━━━━━━━━━━━\u001b[0m\u001b[37m\u001b[0m \u001b[1m0s\u001b[0m 219ms/step - accuracy: 0.8566 - loss: 0.3238\n",
      "Epoch 27: val_accuracy did not improve from 0.87083\n",
      "\n",
      "Epoch 27: val_accuracy did not improve from 0.87083\n",
      "\n",
      "Epoch 27: ReduceLROnPlateau reducing learning rate to 0.0005000000237487257.\n",
      "\u001b[1m120/120\u001b[0m \u001b[32m━━━━━━━━━━━━━━━━━━━━\u001b[0m\u001b[37m\u001b[0m \u001b[1m29s\u001b[0m 240ms/step - accuracy: 0.8566 - loss: 0.3237 - val_accuracy: 0.8250 - val_loss: 0.4021 - learning_rate: 0.0010\n",
      "Epoch 28/40\n",
      "\u001b[1m120/120\u001b[0m \u001b[32m━━━━━━━━━━━━━━━━━━━━\u001b[0m\u001b[37m\u001b[0m \u001b[1m0s\u001b[0m 220ms/step - accuracy: 0.8680 - loss: 0.3124\n",
      "Epoch 28: val_accuracy improved from 0.87083 to 0.87500, saving model to best3dcnn_model.weights.h5\n",
      "\n",
      "Epoch 28: val_accuracy improved from 0.87083 to 0.87500, saving model to best3dcnn_model.keras\n",
      "\u001b[1m120/120\u001b[0m \u001b[32m━━━━━━━━━━━━━━━━━━━━\u001b[0m\u001b[37m\u001b[0m \u001b[1m30s\u001b[0m 250ms/step - accuracy: 0.8682 - loss: 0.3123 - val_accuracy: 0.8750 - val_loss: 0.3065 - learning_rate: 5.0000e-04\n",
      "Epoch 29/40\n",
      "\u001b[1m120/120\u001b[0m \u001b[32m━━━━━━━━━━━━━━━━━━━━\u001b[0m\u001b[37m\u001b[0m \u001b[1m0s\u001b[0m 220ms/step - accuracy: 0.8717 - loss: 0.3521\n",
      "Epoch 29: val_accuracy did not improve from 0.87500\n",
      "\n",
      "Epoch 29: val_accuracy did not improve from 0.87500\n",
      "\u001b[1m120/120\u001b[0m \u001b[32m━━━━━━━━━━━━━━━━━━━━\u001b[0m\u001b[37m\u001b[0m \u001b[1m29s\u001b[0m 242ms/step - accuracy: 0.8717 - loss: 0.3519 - val_accuracy: 0.8625 - val_loss: 0.3370 - learning_rate: 5.0000e-04\n",
      "Epoch 30/40\n",
      "\u001b[1m120/120\u001b[0m \u001b[32m━━━━━━━━━━━━━━━━━━━━\u001b[0m\u001b[37m\u001b[0m \u001b[1m0s\u001b[0m 220ms/step - accuracy: 0.9005 - loss: 0.2516\n",
      "Epoch 30: val_accuracy did not improve from 0.87500\n",
      "\n",
      "Epoch 30: val_accuracy did not improve from 0.87500\n",
      "\u001b[1m120/120\u001b[0m \u001b[32m━━━━━━━━━━━━━━━━━━━━\u001b[0m\u001b[37m\u001b[0m \u001b[1m29s\u001b[0m 242ms/step - accuracy: 0.9005 - loss: 0.2517 - val_accuracy: 0.8708 - val_loss: 0.2998 - learning_rate: 5.0000e-04\n",
      "Epoch 31/40\n",
      "\u001b[1m120/120\u001b[0m \u001b[32m━━━━━━━━━━━━━━━━━━━━\u001b[0m\u001b[37m\u001b[0m \u001b[1m0s\u001b[0m 221ms/step - accuracy: 0.9170 - loss: 0.2322\n",
      "Epoch 31: val_accuracy did not improve from 0.87500\n",
      "\n",
      "Epoch 31: val_accuracy did not improve from 0.87500\n",
      "\u001b[1m120/120\u001b[0m \u001b[32m━━━━━━━━━━━━━━━━━━━━\u001b[0m\u001b[37m\u001b[0m \u001b[1m29s\u001b[0m 242ms/step - accuracy: 0.9168 - loss: 0.2325 - val_accuracy: 0.8000 - val_loss: 0.4906 - learning_rate: 5.0000e-04\n",
      "Epoch 32/40\n",
      "\u001b[1m120/120\u001b[0m \u001b[32m━━━━━━━━━━━━━━━━━━━━\u001b[0m\u001b[37m\u001b[0m \u001b[1m0s\u001b[0m 222ms/step - accuracy: 0.8856 - loss: 0.2668\n",
      "Epoch 32: val_accuracy did not improve from 0.87500\n",
      "\n",
      "Epoch 32: val_accuracy did not improve from 0.87500\n",
      "\u001b[1m120/120\u001b[0m \u001b[32m━━━━━━━━━━━━━━━━━━━━\u001b[0m\u001b[37m\u001b[0m \u001b[1m29s\u001b[0m 243ms/step - accuracy: 0.8855 - loss: 0.2670 - val_accuracy: 0.8375 - val_loss: 0.3260 - learning_rate: 5.0000e-04\n",
      "Epoch 33/40\n",
      "\u001b[1m120/120\u001b[0m \u001b[32m━━━━━━━━━━━━━━━━━━━━\u001b[0m\u001b[37m\u001b[0m \u001b[1m0s\u001b[0m 220ms/step - accuracy: 0.8916 - loss: 0.2809\n",
      "Epoch 33: val_accuracy did not improve from 0.87500\n",
      "\n",
      "Epoch 33: val_accuracy did not improve from 0.87500\n",
      "\u001b[1m120/120\u001b[0m \u001b[32m━━━━━━━━━━━━━━━━━━━━\u001b[0m\u001b[37m\u001b[0m \u001b[1m29s\u001b[0m 242ms/step - accuracy: 0.8915 - loss: 0.2809 - val_accuracy: 0.8208 - val_loss: 0.4450 - learning_rate: 5.0000e-04\n",
      "Epoch 34/40\n",
      "\u001b[1m120/120\u001b[0m \u001b[32m━━━━━━━━━━━━━━━━━━━━\u001b[0m\u001b[37m\u001b[0m \u001b[1m0s\u001b[0m 220ms/step - accuracy: 0.8722 - loss: 0.3133\n",
      "Epoch 34: val_accuracy did not improve from 0.87500\n",
      "\n",
      "Epoch 34: val_accuracy did not improve from 0.87500\n",
      "\u001b[1m120/120\u001b[0m \u001b[32m━━━━━━━━━━━━━━━━━━━━\u001b[0m\u001b[37m\u001b[0m \u001b[1m29s\u001b[0m 242ms/step - accuracy: 0.8723 - loss: 0.3133 - val_accuracy: 0.8500 - val_loss: 0.3231 - learning_rate: 5.0000e-04\n",
      "Epoch 35/40\n",
      "\u001b[1m120/120\u001b[0m \u001b[32m━━━━━━━━━━━━━━━━━━━━\u001b[0m\u001b[37m\u001b[0m \u001b[1m0s\u001b[0m 221ms/step - accuracy: 0.9101 - loss: 0.2348\n",
      "Epoch 35: val_accuracy did not improve from 0.87500\n",
      "\n",
      "Epoch 35: val_accuracy did not improve from 0.87500\n",
      "\u001b[1m120/120\u001b[0m \u001b[32m━━━━━━━━━━━━━━━━━━━━\u001b[0m\u001b[37m\u001b[0m \u001b[1m29s\u001b[0m 242ms/step - accuracy: 0.9097 - loss: 0.2357 - val_accuracy: 0.6542 - val_loss: 0.8017 - learning_rate: 5.0000e-04\n",
      "Epoch 36/40\n",
      "\u001b[1m120/120\u001b[0m \u001b[32m━━━━━━━━━━━━━━━━━━━━\u001b[0m\u001b[37m\u001b[0m \u001b[1m0s\u001b[0m 221ms/step - accuracy: 0.8578 - loss: 0.3795\n",
      "Epoch 36: val_accuracy did not improve from 0.87500\n",
      "\n",
      "Epoch 36: val_accuracy did not improve from 0.87500\n",
      "\u001b[1m120/120\u001b[0m \u001b[32m━━━━━━━━━━━━━━━━━━━━\u001b[0m\u001b[37m\u001b[0m \u001b[1m29s\u001b[0m 242ms/step - accuracy: 0.8578 - loss: 0.3794 - val_accuracy: 0.7458 - val_loss: 0.6364 - learning_rate: 5.0000e-04\n",
      "Epoch 37/40\n",
      "\u001b[1m120/120\u001b[0m \u001b[32m━━━━━━━━━━━━━━━━━━━━\u001b[0m\u001b[37m\u001b[0m \u001b[1m0s\u001b[0m 221ms/step - accuracy: 0.8895 - loss: 0.2755\n",
      "Epoch 37: val_accuracy did not improve from 0.87500\n",
      "\n",
      "Epoch 37: val_accuracy did not improve from 0.87500\n",
      "\n",
      "Epoch 37: ReduceLROnPlateau reducing learning rate to 0.0002500000118743628.\n",
      "\u001b[1m120/120\u001b[0m \u001b[32m━━━━━━━━━━━━━━━━━━━━\u001b[0m\u001b[37m\u001b[0m \u001b[1m29s\u001b[0m 243ms/step - accuracy: 0.8895 - loss: 0.2755 - val_accuracy: 0.8500 - val_loss: 0.3279 - learning_rate: 5.0000e-04\n",
      "Epoch 38/40\n",
      "\u001b[1m120/120\u001b[0m \u001b[32m━━━━━━━━━━━━━━━━━━━━\u001b[0m\u001b[37m\u001b[0m \u001b[1m0s\u001b[0m 221ms/step - accuracy: 0.8927 - loss: 0.2506\n",
      "Epoch 38: val_accuracy improved from 0.87500 to 0.90000, saving model to best3dcnn_model.weights.h5\n",
      "\n",
      "Epoch 38: val_accuracy improved from 0.87500 to 0.90000, saving model to best3dcnn_model.keras\n",
      "\u001b[1m120/120\u001b[0m \u001b[32m━━━━━━━━━━━━━━━━━━━━\u001b[0m\u001b[37m\u001b[0m \u001b[1m30s\u001b[0m 252ms/step - accuracy: 0.8928 - loss: 0.2506 - val_accuracy: 0.9000 - val_loss: 0.2864 - learning_rate: 2.5000e-04\n",
      "Epoch 39/40\n",
      "\u001b[1m120/120\u001b[0m \u001b[32m━━━━━━━━━━━━━━━━━━━━\u001b[0m\u001b[37m\u001b[0m \u001b[1m0s\u001b[0m 221ms/step - accuracy: 0.9198 - loss: 0.1784\n",
      "Epoch 39: val_accuracy did not improve from 0.90000\n",
      "\n",
      "Epoch 39: val_accuracy did not improve from 0.90000\n",
      "\u001b[1m120/120\u001b[0m \u001b[32m━━━━━━━━━━━━━━━━━━━━\u001b[0m\u001b[37m\u001b[0m \u001b[1m29s\u001b[0m 244ms/step - accuracy: 0.9197 - loss: 0.1785 - val_accuracy: 0.8917 - val_loss: 0.2843 - learning_rate: 2.5000e-04\n",
      "Epoch 40/40\n",
      "\u001b[1m120/120\u001b[0m \u001b[32m━━━━━━━━━━━━━━━━━━━━\u001b[0m\u001b[37m\u001b[0m \u001b[1m0s\u001b[0m 222ms/step - accuracy: 0.9246 - loss: 0.1827\n",
      "Epoch 40: val_accuracy did not improve from 0.90000\n",
      "\n",
      "Epoch 40: val_accuracy did not improve from 0.90000\n",
      "\u001b[1m120/120\u001b[0m \u001b[32m━━━━━━━━━━━━━━━━━━━━\u001b[0m\u001b[37m\u001b[0m \u001b[1m29s\u001b[0m 244ms/step - accuracy: 0.9246 - loss: 0.1828 - val_accuracy: 0.8667 - val_loss: 0.2764 - learning_rate: 2.5000e-04\n"
     ]
    }
   ],
   "source": [
    "history = model.fit(features_train, ohc_labels_train, epochs=40, batch_size=8, validation_data=(features_val, ohc_labels_val), callbacks=[early_stopping, checkpoint1, checkpoint2, reduce_lr])"
   ]
  },
  {
   "cell_type": "code",
   "execution_count": 12,
   "metadata": {
    "execution": {
     "iopub.execute_input": "2024-10-24T18:57:46.475131Z",
     "iopub.status.busy": "2024-10-24T18:57:46.474433Z",
     "iopub.status.idle": "2024-10-24T18:57:46.480943Z",
     "shell.execute_reply": "2024-10-24T18:57:46.479944Z",
     "shell.execute_reply.started": "2024-10-24T18:57:46.475089Z"
    },
    "trusted": true
   },
   "outputs": [],
   "source": [
    "def plot_metric(model_training_history, metric_name_1, metric_name_2, plot_name):\n",
    "    metric_value_1 = model_training_history.history[metric_name_1]\n",
    "    metric_value_2 = model_training_history.history[metric_name_2]\n",
    "    epochs = range(len(metric_value_1))\n",
    "\n",
    "    plt.plot(epochs, metric_value_1, 'blue', label=metric_name_1)\n",
    "    plt.plot(epochs, metric_value_2, 'orange', label=metric_name_2)\n",
    "    plt.title(str(plot_name))\n",
    "    plt.legend()"
   ]
  },
  {
   "cell_type": "code",
   "execution_count": 13,
   "metadata": {
    "execution": {
     "iopub.execute_input": "2024-10-24T18:58:03.309898Z",
     "iopub.status.busy": "2024-10-24T18:58:03.309169Z",
     "iopub.status.idle": "2024-10-24T18:58:03.693365Z",
     "shell.execute_reply": "2024-10-24T18:58:03.692461Z",
     "shell.execute_reply.started": "2024-10-24T18:58:03.309856Z"
    },
    "trusted": true
   },
   "outputs": [
    {
     "data": {
      "image/png": "[encoded data removed]",
      "text/plain": [
       "<Figure size 640x480 with 1 Axes>"
      ]
     },
     "metadata": {},
     "output_type": "display_data"
    }
   ],
   "source": [
    "plot_metric(history, 'loss', 'val_loss', 'Total Training Loss vs Total Validation Loss')"
   ]
  },
  {
   "cell_type": "code",
   "execution_count": 14,
   "metadata": {
    "execution": {
     "iopub.execute_input": "2024-10-24T18:58:27.147517Z",
     "iopub.status.busy": "2024-10-24T18:58:27.147153Z",
     "iopub.status.idle": "2024-10-24T18:58:27.485982Z",
     "shell.execute_reply": "2024-10-24T18:58:27.485038Z",
     "shell.execute_reply.started": "2024-10-24T18:58:27.147482Z"
    },
    "trusted": true
   },
   "outputs": [
    {
     "data": {
      "image/png": "[encoded data removed]",
      "text/plain": [
       "<Figure size 640x480 with 1 Axes>"
      ]
     },
     "metadata": {},
     "output_type": "display_data"
    }
   ],
   "source": [
    "plot_metric(history, 'accuracy', 'val_accuracy', 'Training Accuracy vs Validation Accuracy')"
   ]
  }
 ],
 "metadata": {
  "kaggle": {
   "accelerator": "nvidiaTeslaT4",
   "dataSources": [
    {
     "datasetId": 5849990,
     "sourceId": 9591443,
     "sourceType": "datasetVersion"
    }
   ],
   "dockerImageVersionId": 30787,
   "isGpuEnabled": true,
   "isInternetEnabled": true,
   "language": "python",
   "sourceType": "notebook"
  },
  "kernelspec": {
   "display_name": "Python 3",
   "language": "python",
   "name": "python3"
  },
  "language_info": {
   "codemirror_mode": {
    "name": "ipython",
    "version": 3
   },
   "file_extension": ".py",
   "mimetype": "text/x-python",
   "name": "python",
   "nbconvert_exporter": "python",
   "pygments_lexer": "ipython3",
   "version": "3.10.14"
  }
 },
 "nbformat": 4,
 "nbformat_minor": 4
}
